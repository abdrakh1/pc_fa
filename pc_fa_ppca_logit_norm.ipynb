{
 "cells": [
  {
   "cell_type": "code",
   "execution_count": 2,
   "metadata": {},
   "outputs": [],
   "source": [
    "import autograd.numpy as np\n",
    "from autograd import grad\n",
    "from autograd import elementwise_grad\n",
    "from scipy.optimize import fmin_l_bfgs_b\n",
    "import matplotlib.pyplot as plt\n",
    "from scipy.linalg import cho_factor, cho_solve, cholesky\n",
    "from sklearn.decomposition import FactorAnalysis\n"
   ]
  },
  {
   "cell_type": "code",
   "execution_count": 3,
   "metadata": {},
   "outputs": [],
   "source": [
    "#build toy dataset\n",
    "def generate_samples_gauss(n_samples_class):\n",
    "    cov = np.array([[10, 2], [2, 1]])\n",
    "    mean1 = np.array([0, 0])\n",
    "    mean2 = np.array([0, 5])\n",
    "\n",
    "    total_n_samples = n_samples_class*2\n",
    "    x =  np.zeros((total_n_samples, 2))\n",
    "\n",
    "    x[:n_samples_class, 0], x[:n_samples_class, 1] = np.random.multivariate_normal(mean1, cov, n_samples_class).T\n",
    "    x[n_samples_class:, 0], x[n_samples_class:, 1]  = np.random.multivariate_normal(mean2, cov, n_samples_class).T\n",
    "\n",
    "    labels = np.zeros(total_n_samples)\n",
    "    labels[n_samples_class:] = 1\n",
    "    return x, labels"
   ]
  },
  {
   "cell_type": "code",
   "execution_count": 4,
   "metadata": {},
   "outputs": [],
   "source": [
    "def generate_samples_uniform(n_samples_class):\n",
    "    x[:,0] = np.random.rand(2*n_samples_class)\n",
    "    x[n_samples_class:,1] = x[n_samples_class:,0] + 0.1\n",
    "    x[:n_samples_class,1] = x[:n_samples_class,0] - 0.1\n",
    "    \n",
    "    labels = np.zeros(2*n_samples_class)\n",
    "    labels[n_samples_class:] = 1\n",
    "    return x, labels\n"
   ]
  },
  {
   "cell_type": "code",
   "execution_count": 5,
   "metadata": {},
   "outputs": [
    {
     "data": {
      "image/png": "[encoded data removed]",
      "text/plain": [
       "<Figure size 432x288 with 1 Axes>"
      ]
     },
     "metadata": {},
     "output_type": "display_data"
    }
   ],
   "source": [
    "n_samples_class = 200\n",
    "x, y  =  generate_samples_gauss(n_samples_class)\n",
    "plt.plot(x[:n_samples_class,0], x[:n_samples_class,1], 'x')\n",
    "plt.plot(x[n_samples_class:,0], x[n_samples_class:,1], 'o')\n",
    "\n",
    "#plt.savefig(\"data_2d.png\")\n",
    "plt.show()"
   ]
  },
  {
   "cell_type": "code",
   "execution_count": 78,
   "metadata": {},
   "outputs": [],
   "source": [
    "latent_dim = 1 #suppose z is scalar\n",
    "x_dim = 2      \n",
    "opt = \"ppca\"\n",
    "params_size_logit_fa = x_dim*latent_dim + x_dim + x_dim + latent_dim + 1\n",
    "params_size_norm_fa = x_dim*latent_dim + x_dim + x_dim + latent_dim\n",
    "params_size_logit_ppca = x_dim*latent_dim + x_dim + 1 + latent_dim + 1\n",
    "params_size_norm_ppca = x_dim*latent_dim + x_dim + 1 + latent_dim \n",
    "\n",
    "if (opt == \"fa\"):\n",
    "    params_size = params_size_logit_fa\n",
    "else:\n",
    "    params_size = params_size_logit_ppca\n",
    "    \n"
   ]
  },
  {
   "cell_type": "code",
   "execution_count": 79,
   "metadata": {},
   "outputs": [],
   "source": [
    "params = np.random.rand(params_size)\n",
    "\n",
    "size_f = latent_dim*x_dim\n",
    "var_init = params[size_f+x_dim:size_f+x_dim*2]"
   ]
  },
  {
   "cell_type": "code",
   "execution_count": 80,
   "metadata": {
    "scrolled": true
   },
   "outputs": [
    {
     "data": {
      "image/png": "[encoded data removed]",
      "text/plain": [
       "<Figure size 432x288 with 1 Axes>"
      ]
     },
     "metadata": {},
     "output_type": "display_data"
    }
   ],
   "source": [
    "transformer = FactorAnalysis(n_components=1, random_state=0, noise_variance_init = var_init)\n",
    "#transformer = FactorAnalysis(n_components=1, random_state=0)\n",
    "x_proj_fa_python = transformer.fit_transform(x)\n",
    "f_fa_python = transformer.components_\n",
    "plt.plot(x_proj_fa_python[:n_samples_class,0], np.ones(n_samples_class), 'x')\n",
    "plt.plot(x_proj_fa_python[n_samples_class:,0], np.zeros(n_samples_class), 'o')\n",
    "\n",
    "plt.savefig('data_proj_fa_python')\n",
    "plt.show()"
   ]
  },
  {
   "cell_type": "code",
   "execution_count": 81,
   "metadata": {},
   "outputs": [
    {
     "data": {
      "text/plain": [
       "[-2984.0356979462035,\n",
       " -2025.7582152951538,\n",
       " -2019.6002973934292,\n",
       " -2019.5901391475345,\n",
       " -2019.5901262346624]"
      ]
     },
     "execution_count": 81,
     "metadata": {},
     "output_type": "execute_result"
    }
   ],
   "source": [
    "transformer.loglike_"
   ]
  },
  {
   "cell_type": "code",
   "execution_count": 82,
   "metadata": {},
   "outputs": [
    {
     "data": {
      "text/plain": [
       "-2019.5901262351363"
      ]
     },
     "execution_count": 82,
     "metadata": {},
     "output_type": "execute_result"
    }
   ],
   "source": [
    "f_fa = transformer.components_.T\n",
    "cov_noise_fa= np.diag(transformer.noise_variance_)\n",
    "bias_fa = np.mean(x, axis =0)\n",
    "\n",
    "def compute_ll(f,bias,cov_noise, x):\n",
    "    N = x.shape[0]\n",
    "    D = x.shape[1]\n",
    "    cov_x = np.einsum(\"dl,ml->dm\",f,f) + cov_noise\n",
    "    sign, log_det_cov_x = np.linalg.slogdet(cov_x)\n",
    "    temp1 = np.linalg.solve(cov_x, (x - bias).T)\n",
    "    ll = N*D*np.log(2*np.pi)/2\n",
    "    ll += log_det_cov_x*N/2\n",
    "    ll += np.sum(np.einsum(\"nd,dn->n\", x - bias, temp1))/2\n",
    "    return -ll\n",
    "\n",
    "compute_ll(f_fa, bias_fa, cov_noise_fa, x)"
   ]
  },
  {
   "cell_type": "code",
   "execution_count": 20,
   "metadata": {},
   "outputs": [],
   "source": [
    "def sigmoid(x):\n",
    "  return 1 / (1 + np.exp(-x))\n",
    "\n",
    "def objective_logit (params, x, y, latent_dim, lambda_e, opt): #check the order of arguments!\n",
    "    N = x.shape[0]\n",
    "    D = x.shape[1]\n",
    "    f, bias_x, cov_noise, w = decode_parameters(params, D, latent_dim, opt)\n",
    "        \n",
    "    cov_x = np.einsum(\"dl,ml->dm\",f,f) + cov_noise\n",
    "    sign, log_det_cov_x = np.linalg.slogdet(cov_x)\n",
    "    \n",
    "    temp1 = np.linalg.solve(cov_x, (x - bias_x).T)\n",
    "    unnorm_log_pdf_x = np.einsum(\"nd,dn->n\", x - bias_x, temp1)\n",
    "    \n",
    "    mean_z = np.einsum(\"dl,dn->nl\", f, temp1)\n",
    "    temp2 = np.einsum(\"l,nl->n\", w[1:], mean_z) + w[0]\n",
    "    log_bern_pdf_y = np.log(sigmoid(np.multiply((2*y-1),temp2)))\n",
    "    log_prior = 0 \n",
    "    \n",
    "    ll = N*D*np.log(2*np.pi)/2 + log_det_cov_x*0.5*N + np.sum(unnorm_log_pdf_x)*0.5 \n",
    "    ll = ll - lambda_e*np.sum(log_bern_pdf_y) - log_prior\n",
    "    return ll \n",
    "\n",
    "\n",
    "def objective_norm (params, x, y, latent_dim, lambda_e, opt): #check the order of arguments!\n",
    "    sigma = 1 # variance for the noise in y\n",
    "    N = x.shape[0]\n",
    "    D = x.shape[1]\n",
    "    f, bias, cov_noise, w = decode_parameters(params, D, latent_dim, opt)\n",
    "        \n",
    "    cov_x = np.einsum(\"dl,ml->dm\",f,f) + cov_noise\n",
    "    sign, log_det_cov_x = np.linalg.slogdet(cov_x)\n",
    "    \n",
    "    temp1 = np.einsum(\"dl,dm->lm\", f, np.linalg.solve(cov_x,f)) #in fact m=l <- latent dimension \n",
    "    cov_z = np.identity(latent_dim) - temp1\n",
    "\n",
    "    var_y = np.dot(w,np.dot(cov_z,w)) + sigma**2\n",
    "    \n",
    "    ll = N*D*np.log(2*np.pi)/2+(log_det_cov_x + lambda_e*np.log(var_y))*N*0.5\n",
    "    \n",
    "    temp2 = np.linalg.solve(cov_x, (x - bias).T)\n",
    "    unnorm_log_pdf_x = np.einsum(\"nd,dn->n\", x - bias, temp2)\n",
    "    mean_z = np.einsum(\"dl,dn->nl\", f, temp2)\n",
    "    mean_y = np.einsum(\"l,nl->n\", w, mean_z)\n",
    "    unnorm_log_pdf_y = (y - mean_y)**2/var_y\n",
    "    ll = ll + 0.5*(np.sum(unnorm_log_pdf_x) + lambda_e*np.sum(unnorm_log_pdf_y))\n",
    "    \n",
    "    log_prior = 0 #f,bias,cov_noise and m for regularization use gaussian priors later\n",
    "    ll = ll - log_prior\n",
    "    return ll\n",
    "\n",
    "def decode_parameters(params, D, latent_dim, opt):\n",
    "    size_f = D*latent_dim\n",
    "    f =  params[:size_f]\n",
    "    f =  f.reshape(D, latent_dim)\n",
    "    bias_x = params[size_f:size_f+D]\n",
    "    if (opt==\"ppca\"):\n",
    "        var = params[size_f+D]\n",
    "        cov_noise= np.diag(np.ones(D)*np.log(1+np.exp(var)))\n",
    "        w = params[size_f+D+1:]\n",
    "    else:\n",
    "        var = params[size_f+D:size_f+D*2]\n",
    "        cov_noise= np.diag(np.log(1+np.exp(var)))\n",
    "        w = params[size_f+D*2:]\n",
    "    return f, bias_x, cov_noise, w\n",
    "\n",
    "def transform(f, bias, cov_noise, x):\n",
    "    cov_x = np.einsum(\"dl,ml->dm\",f,f) + cov_noise\n",
    "    temp = np.linalg.solve(cov_x, (x - bias).T)\n",
    "    mean_z = np.einsum(\"dl,dn->nl\", f, temp)\n",
    "    return mean_z"
   ]
  },
  {
   "cell_type": "code",
   "execution_count": 83,
   "metadata": {},
   "outputs": [
    {
     "name": "stdout",
     "output_type": "stream",
     "text": [
      "Initial parameters\n",
      "F: [[0.9933116 ]\n",
      " [0.22860939]]\n",
      "slope [0.23014872]\n",
      "bias:  [0.69125653 0.39666935]\n",
      "cov_noise matrix:  [[1.11116114 0.        ]\n",
      " [0.         1.11116114]]\n",
      "regression weights:  [0.81961054 0.03998707]\n",
      "initial obj value logit 4187.611371867668\n",
      "-4187.611371867668\n"
     ]
    }
   ],
   "source": [
    "f, bias, cov_noise, w =  decode_parameters(params, x_dim, latent_dim, opt)\n",
    "print \"Initial parameters\"\n",
    "print \"F:\", f\n",
    "print \"slope\", f[1]/f[0]\n",
    "print \"bias: \", bias\n",
    "print \"cov_noise matrix: \", cov_noise\n",
    "print \"regression weights: \", w\n",
    "print \"initial obj value logit\", objective_logit(params, x, y, latent_dim, 0, opt)\n",
    "#print \"initial obj value norm\", objective_norm(params, x, y, latent_dim, 0, opt)\n",
    "print compute_ll (f,bias,cov_noise,x)"
   ]
  },
  {
   "cell_type": "code",
   "execution_count": 90,
   "metadata": {},
   "outputs": [
    {
     "name": "stdout",
     "output_type": "stream",
     "text": [
      "-3040.1740998690057\n",
      "-2438.0939368186278\n",
      "-2201.7708871253058\n",
      "-2224.229776363811\n",
      "-2212.6945558681173\n",
      "-2211.091829569672\n",
      "-2191.772389519079\n",
      "-2168.6773132419826\n",
      "-2107.8328716351275\n",
      "-2097.5868188956306\n",
      "-2084.839497928744\n",
      "-2080.9008019908388\n",
      "-2080.2473654594746\n",
      "-2075.270138366107\n",
      "-2072.9124844769754\n",
      "-2069.865554391427\n",
      "-2064.9028130092074\n",
      "-2056.3794555278473\n",
      "-2053.4086095983253\n",
      "-2053.590433323437\n",
      "-2054.55469638656\n",
      "-2054.2009842576517\n",
      "-2051.035464161005\n",
      "-2049.1903881113526\n",
      "-2049.5200470624873\n",
      "-2048.9432001203245\n",
      "-2048.706315489543\n",
      "-2048.6466025283626\n",
      "-2048.4396214808885\n",
      "-2048.391420617344\n",
      "-2048.2046080145196\n",
      "-2048.2116800534927\n",
      "-2048.1138791278513\n",
      "-2048.034750041983\n",
      "-2047.9576672529583\n",
      "-2047.8862705032766\n",
      "-2047.8914455562513\n",
      "-2047.7985291078967\n",
      "-2047.7451743955348\n",
      "-2047.6672079278762\n",
      "-2047.659663488827\n",
      "-2047.6201008176502\n",
      "-2047.6042773312545\n",
      "-2047.6058212700975\n",
      "-2047.5754272879099\n",
      "-2047.5505915366439\n",
      "-2047.5331544812702\n",
      "-2047.5296062174657\n",
      "-2047.5193702275005\n",
      "-2047.518054805621\n",
      "-2047.513264421038\n",
      "-2047.5012822604933\n",
      "-2047.4857994475294\n",
      "-2047.4941253592428\n",
      "-2047.4877162699572\n",
      "-2047.4856612925564\n",
      "-2047.4827085634906\n",
      "-2047.4834271112425\n",
      "-2047.4833569895704\n",
      "-2047.4832474371337\n",
      "-2047.4825311295906\n",
      "-2047.4808094043128\n",
      "-2047.4780453380017\n",
      "-2047.4738890809372\n",
      "-2047.4734767124473\n",
      "-2047.4710743753537\n",
      "-2047.4723295271824\n",
      "-2047.4722573449021\n",
      "-2047.47109673667\n",
      "-2047.469918222941\n",
      "-2047.4687610896779\n",
      "-2047.4650728546108\n",
      "-2047.4637057701243\n",
      "-2047.4620921935204\n",
      "-2047.4612807656479\n",
      "-2047.4590605628807\n",
      "-2047.4580191450432\n",
      "-2047.4560831071217\n",
      "-2047.4561648448298\n",
      "-2047.4561648448298\n",
      "Final parameters_logit\n",
      "logit slope\n",
      "[-4.83095635]\n",
      "F:\n",
      "[[-0.06861778]\n",
      " [ 0.33148951]]\n",
      "bias for x:\n",
      "[-0.10150199  2.41586791]\n",
      "cov_noise matrix:\n",
      "[[9.71738965 0.        ]\n",
      " [0.         9.71738965]]\n",
      "bias for y:\n",
      "-2349.2151532835423\n",
      "logistic regression weights:\n",
      "[81353.10659681]\n",
      "final objective value:\n",
      "2047.4567355690735\n"
     ]
    }
   ],
   "source": [
    "lambda_e = 10\n",
    "#run minimizer use ADAM instead?\n",
    "def pcallback(params):\n",
    "    f, bias, cov_noise, w = decode_parameters(params, x_dim, latent_dim, opt)\n",
    "    print compute_ll(f, bias, cov_noise, x)\n",
    "    \n",
    "grad_objective_logit = grad(objective_logit, argnum = 0)\n",
    "params_optimizied_logit, obj_value_logit, dict = fmin_l_bfgs_b(objective_logit, x0 = params, fprime = grad_objective_logit, args = (x, y, latent_dim, lambda_e, opt), callback= pcallback, pgtol = 1e-2)\n",
    "f_logit, bias_logit, cov_noise_logit, w_logit = decode_parameters(params_optimizied_logit, x_dim, latent_dim, opt)\n",
    "print \"Final parameters_logit\"\n",
    "print \"logit slope\\n\", f_logit[1]/f_logit[0]\n",
    "print \"F:\\n\", f_logit\n",
    "print \"bias for x:\\n\", bias_logit\n",
    "print \"cov_noise matrix:\\n\", cov_noise_logit\n",
    "print \"bias for y:\\n\", w_logit[0]\n",
    "print \"logistic regression weights:\\n\", w_logit[1:]\n",
    "print \"final objective value:\\n\", obj_value_logit"
   ]
  },
  {
   "cell_type": "code",
   "execution_count": 44,
   "metadata": {},
   "outputs": [
    {
     "name": "stdout",
     "output_type": "stream",
     "text": [
      "F scikit-learn\n",
      "[[-3.30753853]\n",
      " [-0.88275735]]\n",
      "mean of x scikit-learn\n",
      "[-0.11026254  2.45706159]\n",
      "cov noise scikit-learn\n",
      "[[0.71663358 0.        ]\n",
      " [0.         7.09638426]]\n"
     ]
    }
   ],
   "source": [
    "print \"F scikit-learn\\n\", f_fa \n",
    "print \"mean of x scikit-learn\\n\", bias_fa\n",
    "print \"cov noise scikit-learn\\n\", cov_noise_fa\n"
   ]
  },
  {
   "cell_type": "code",
   "execution_count": 88,
   "metadata": {},
   "outputs": [
    {
     "name": "stdout",
     "output_type": "stream",
     "text": [
      "[[11.65644444  2.91975511]\n",
      " [ 2.91975511  7.87572189]]\n",
      "[[11.65754931  2.92002295]\n",
      " [ 2.92002295  7.87565921]]\n"
     ]
    }
   ],
   "source": [
    "print (np.einsum(\"dl,ml->dm\",f_fa,f_fa) + cov_noise_fa)\n",
    "print (np.einsum(\"dl,ml->dm\",f_logit,f_logit) + cov_noise_logit)"
   ]
  },
  {
   "cell_type": "code",
   "execution_count": 68,
   "metadata": {},
   "outputs": [
    {
     "ename": "ValueError",
     "evalue": "shapes (1,1) and (2,) not aligned: 1 (dim 1) != 2 (dim 0)",
     "output_type": "error",
     "traceback": [
      "\u001b[0;31m---------------------------------------------------------------------------\u001b[0m",
      "\u001b[0;31mValueError\u001b[0m                                Traceback (most recent call last)",
      "\u001b[0;32m<ipython-input-68-b88e4210f9d6>\u001b[0m in \u001b[0;36m<module>\u001b[0;34m()\u001b[0m\n\u001b[1;32m      1\u001b[0m \u001b[0mgrad_objective_norm\u001b[0m \u001b[0;34m=\u001b[0m \u001b[0mgrad\u001b[0m\u001b[0;34m(\u001b[0m\u001b[0mobjective_norm\u001b[0m\u001b[0;34m,\u001b[0m \u001b[0margnum\u001b[0m \u001b[0;34m=\u001b[0m \u001b[0;36m0\u001b[0m\u001b[0;34m)\u001b[0m\u001b[0;34m\u001b[0m\u001b[0m\n\u001b[0;32m----> 2\u001b[0;31m \u001b[0mparams_optimizied_norm\u001b[0m\u001b[0;34m,\u001b[0m \u001b[0mobj_value_norm\u001b[0m\u001b[0;34m,\u001b[0m \u001b[0mdict\u001b[0m \u001b[0;34m=\u001b[0m \u001b[0mfmin_l_bfgs_b\u001b[0m\u001b[0;34m(\u001b[0m\u001b[0mobjective_norm\u001b[0m\u001b[0;34m,\u001b[0m \u001b[0mx0\u001b[0m \u001b[0;34m=\u001b[0m \u001b[0mparams\u001b[0m\u001b[0;34m,\u001b[0m \u001b[0mfprime\u001b[0m \u001b[0;34m=\u001b[0m \u001b[0mgrad_objective_norm\u001b[0m\u001b[0;34m,\u001b[0m \u001b[0margs\u001b[0m \u001b[0;34m=\u001b[0m \u001b[0;34m(\u001b[0m\u001b[0mx\u001b[0m\u001b[0;34m,\u001b[0m \u001b[0my\u001b[0m\u001b[0;34m,\u001b[0m \u001b[0mlatent_dim\u001b[0m\u001b[0;34m,\u001b[0m \u001b[0mlambda_e\u001b[0m\u001b[0;34m,\u001b[0m \u001b[0mopt\u001b[0m\u001b[0;34m)\u001b[0m\u001b[0;34m,\u001b[0m \u001b[0mcallback\u001b[0m\u001b[0;34m=\u001b[0m \u001b[0mpcallback\u001b[0m\u001b[0;34m,\u001b[0m \u001b[0mpgtol\u001b[0m \u001b[0;34m=\u001b[0m \u001b[0;36m1e-2\u001b[0m\u001b[0;34m)\u001b[0m\u001b[0;34m\u001b[0m\u001b[0m\n\u001b[0m\u001b[1;32m      3\u001b[0m \u001b[0mf_norm\u001b[0m\u001b[0;34m,\u001b[0m \u001b[0mbias_norm\u001b[0m\u001b[0;34m,\u001b[0m \u001b[0mcov_noise_norm\u001b[0m\u001b[0;34m,\u001b[0m \u001b[0mw_norm\u001b[0m \u001b[0;34m=\u001b[0m \u001b[0mdecode_parameters\u001b[0m\u001b[0;34m(\u001b[0m\u001b[0mparams_optimizied_norm\u001b[0m\u001b[0;34m,\u001b[0m \u001b[0mx_dim\u001b[0m\u001b[0;34m,\u001b[0m \u001b[0mlatent_dim\u001b[0m\u001b[0;34m,\u001b[0m \u001b[0mopt\u001b[0m\u001b[0;34m)\u001b[0m\u001b[0;34m\u001b[0m\u001b[0m\n\u001b[1;32m      4\u001b[0m \u001b[0;32mprint\u001b[0m \u001b[0;34m\"Final parameters_norm\"\u001b[0m\u001b[0;34m\u001b[0m\u001b[0m\n\u001b[1;32m      5\u001b[0m \u001b[0;32mprint\u001b[0m \u001b[0;34m\"norm slope\\n\"\u001b[0m\u001b[0;34m,\u001b[0m \u001b[0mf_norm\u001b[0m\u001b[0;34m[\u001b[0m\u001b[0;36m1\u001b[0m\u001b[0;34m]\u001b[0m\u001b[0;34m/\u001b[0m\u001b[0mf_norm\u001b[0m\u001b[0;34m[\u001b[0m\u001b[0;36m0\u001b[0m\u001b[0;34m]\u001b[0m\u001b[0;34m\u001b[0m\u001b[0m\n",
      "\u001b[0;32m/anaconda2/lib/python2.7/site-packages/scipy/optimize/lbfgsb.pyc\u001b[0m in \u001b[0;36mfmin_l_bfgs_b\u001b[0;34m(func, x0, fprime, args, approx_grad, bounds, m, factr, pgtol, epsilon, iprint, maxfun, maxiter, disp, callback, maxls)\u001b[0m\n\u001b[1;32m    197\u001b[0m \u001b[0;34m\u001b[0m\u001b[0m\n\u001b[1;32m    198\u001b[0m     res = _minimize_lbfgsb(fun, x0, args=args, jac=jac, bounds=bounds,\n\u001b[0;32m--> 199\u001b[0;31m                            **opts)\n\u001b[0m\u001b[1;32m    200\u001b[0m     d = {'grad': res['jac'],\n\u001b[1;32m    201\u001b[0m          \u001b[0;34m'task'\u001b[0m\u001b[0;34m:\u001b[0m \u001b[0mres\u001b[0m\u001b[0;34m[\u001b[0m\u001b[0;34m'message'\u001b[0m\u001b[0;34m]\u001b[0m\u001b[0;34m,\u001b[0m\u001b[0;34m\u001b[0m\u001b[0m\n",
      "\u001b[0;32m/anaconda2/lib/python2.7/site-packages/scipy/optimize/lbfgsb.pyc\u001b[0m in \u001b[0;36m_minimize_lbfgsb\u001b[0;34m(fun, x0, args, jac, bounds, disp, maxcor, ftol, gtol, eps, maxfun, maxiter, iprint, callback, maxls, **unknown_options)\u001b[0m\n\u001b[1;32m    333\u001b[0m             \u001b[0;31m# until the completion of the current minimization iteration.\u001b[0m\u001b[0;34m\u001b[0m\u001b[0;34m\u001b[0m\u001b[0m\n\u001b[1;32m    334\u001b[0m             \u001b[0;31m# Overwrite f and g:\u001b[0m\u001b[0;34m\u001b[0m\u001b[0;34m\u001b[0m\u001b[0m\n\u001b[0;32m--> 335\u001b[0;31m             \u001b[0mf\u001b[0m\u001b[0;34m,\u001b[0m \u001b[0mg\u001b[0m \u001b[0;34m=\u001b[0m \u001b[0mfunc_and_grad\u001b[0m\u001b[0;34m(\u001b[0m\u001b[0mx\u001b[0m\u001b[0;34m)\u001b[0m\u001b[0;34m\u001b[0m\u001b[0m\n\u001b[0m\u001b[1;32m    336\u001b[0m         \u001b[0;32melif\u001b[0m \u001b[0mtask_str\u001b[0m\u001b[0;34m.\u001b[0m\u001b[0mstartswith\u001b[0m\u001b[0;34m(\u001b[0m\u001b[0;34mb'NEW_X'\u001b[0m\u001b[0;34m)\u001b[0m\u001b[0;34m:\u001b[0m\u001b[0;34m\u001b[0m\u001b[0m\n\u001b[1;32m    337\u001b[0m             \u001b[0;31m# new iteration\u001b[0m\u001b[0;34m\u001b[0m\u001b[0;34m\u001b[0m\u001b[0m\n",
      "\u001b[0;32m/anaconda2/lib/python2.7/site-packages/scipy/optimize/lbfgsb.pyc\u001b[0m in \u001b[0;36mfunc_and_grad\u001b[0;34m(x)\u001b[0m\n\u001b[1;32m    283\u001b[0m     \u001b[0;32melse\u001b[0m\u001b[0;34m:\u001b[0m\u001b[0;34m\u001b[0m\u001b[0m\n\u001b[1;32m    284\u001b[0m         \u001b[0;32mdef\u001b[0m \u001b[0mfunc_and_grad\u001b[0m\u001b[0;34m(\u001b[0m\u001b[0mx\u001b[0m\u001b[0;34m)\u001b[0m\u001b[0;34m:\u001b[0m\u001b[0;34m\u001b[0m\u001b[0m\n\u001b[0;32m--> 285\u001b[0;31m             \u001b[0mf\u001b[0m \u001b[0;34m=\u001b[0m \u001b[0mfun\u001b[0m\u001b[0;34m(\u001b[0m\u001b[0mx\u001b[0m\u001b[0;34m,\u001b[0m \u001b[0;34m*\u001b[0m\u001b[0margs\u001b[0m\u001b[0;34m)\u001b[0m\u001b[0;34m\u001b[0m\u001b[0m\n\u001b[0m\u001b[1;32m    286\u001b[0m             \u001b[0mg\u001b[0m \u001b[0;34m=\u001b[0m \u001b[0mjac\u001b[0m\u001b[0;34m(\u001b[0m\u001b[0mx\u001b[0m\u001b[0;34m,\u001b[0m \u001b[0;34m*\u001b[0m\u001b[0margs\u001b[0m\u001b[0;34m)\u001b[0m\u001b[0;34m\u001b[0m\u001b[0m\n\u001b[1;32m    287\u001b[0m             \u001b[0;32mreturn\u001b[0m \u001b[0mf\u001b[0m\u001b[0;34m,\u001b[0m \u001b[0mg\u001b[0m\u001b[0;34m\u001b[0m\u001b[0m\n",
      "\u001b[0;32m/anaconda2/lib/python2.7/site-packages/scipy/optimize/optimize.pyc\u001b[0m in \u001b[0;36mfunction_wrapper\u001b[0;34m(*wrapper_args)\u001b[0m\n\u001b[1;32m    291\u001b[0m     \u001b[0;32mdef\u001b[0m \u001b[0mfunction_wrapper\u001b[0m\u001b[0;34m(\u001b[0m\u001b[0;34m*\u001b[0m\u001b[0mwrapper_args\u001b[0m\u001b[0;34m)\u001b[0m\u001b[0;34m:\u001b[0m\u001b[0;34m\u001b[0m\u001b[0m\n\u001b[1;32m    292\u001b[0m         \u001b[0mncalls\u001b[0m\u001b[0;34m[\u001b[0m\u001b[0;36m0\u001b[0m\u001b[0;34m]\u001b[0m \u001b[0;34m+=\u001b[0m \u001b[0;36m1\u001b[0m\u001b[0;34m\u001b[0m\u001b[0m\n\u001b[0;32m--> 293\u001b[0;31m         \u001b[0;32mreturn\u001b[0m \u001b[0mfunction\u001b[0m\u001b[0;34m(\u001b[0m\u001b[0;34m*\u001b[0m\u001b[0;34m(\u001b[0m\u001b[0mwrapper_args\u001b[0m \u001b[0;34m+\u001b[0m \u001b[0margs\u001b[0m\u001b[0;34m)\u001b[0m\u001b[0;34m)\u001b[0m\u001b[0;34m\u001b[0m\u001b[0m\n\u001b[0m\u001b[1;32m    294\u001b[0m \u001b[0;34m\u001b[0m\u001b[0m\n\u001b[1;32m    295\u001b[0m     \u001b[0;32mreturn\u001b[0m \u001b[0mncalls\u001b[0m\u001b[0;34m,\u001b[0m \u001b[0mfunction_wrapper\u001b[0m\u001b[0;34m\u001b[0m\u001b[0m\n",
      "\u001b[0;32m<ipython-input-20-fb2b82af54d5>\u001b[0m in \u001b[0;36mobjective_norm\u001b[0;34m(params, x, y, latent_dim, lambda_e, opt)\u001b[0m\n\u001b[1;32m     35\u001b[0m     \u001b[0mcov_z\u001b[0m \u001b[0;34m=\u001b[0m \u001b[0mnp\u001b[0m\u001b[0;34m.\u001b[0m\u001b[0midentity\u001b[0m\u001b[0;34m(\u001b[0m\u001b[0mlatent_dim\u001b[0m\u001b[0;34m)\u001b[0m \u001b[0;34m-\u001b[0m \u001b[0mtemp1\u001b[0m\u001b[0;34m\u001b[0m\u001b[0m\n\u001b[1;32m     36\u001b[0m \u001b[0;34m\u001b[0m\u001b[0m\n\u001b[0;32m---> 37\u001b[0;31m     \u001b[0mvar_y\u001b[0m \u001b[0;34m=\u001b[0m \u001b[0mnp\u001b[0m\u001b[0;34m.\u001b[0m\u001b[0mdot\u001b[0m\u001b[0;34m(\u001b[0m\u001b[0mw\u001b[0m\u001b[0;34m,\u001b[0m\u001b[0mnp\u001b[0m\u001b[0;34m.\u001b[0m\u001b[0mdot\u001b[0m\u001b[0;34m(\u001b[0m\u001b[0mcov_z\u001b[0m\u001b[0;34m,\u001b[0m\u001b[0mw\u001b[0m\u001b[0;34m)\u001b[0m\u001b[0;34m)\u001b[0m \u001b[0;34m+\u001b[0m \u001b[0msigma\u001b[0m\u001b[0;34m**\u001b[0m\u001b[0;36m2\u001b[0m\u001b[0;34m\u001b[0m\u001b[0m\n\u001b[0m\u001b[1;32m     38\u001b[0m \u001b[0;34m\u001b[0m\u001b[0m\n\u001b[1;32m     39\u001b[0m     \u001b[0mll\u001b[0m \u001b[0;34m=\u001b[0m \u001b[0mN\u001b[0m\u001b[0;34m*\u001b[0m\u001b[0mD\u001b[0m\u001b[0;34m*\u001b[0m\u001b[0mnp\u001b[0m\u001b[0;34m.\u001b[0m\u001b[0mlog\u001b[0m\u001b[0;34m(\u001b[0m\u001b[0;36m2\u001b[0m\u001b[0;34m*\u001b[0m\u001b[0mnp\u001b[0m\u001b[0;34m.\u001b[0m\u001b[0mpi\u001b[0m\u001b[0;34m)\u001b[0m\u001b[0;34m/\u001b[0m\u001b[0;36m2\u001b[0m\u001b[0;34m+\u001b[0m\u001b[0;34m(\u001b[0m\u001b[0mlog_det_cov_x\u001b[0m \u001b[0;34m+\u001b[0m \u001b[0mlambda_e\u001b[0m\u001b[0;34m*\u001b[0m\u001b[0mnp\u001b[0m\u001b[0;34m.\u001b[0m\u001b[0mlog\u001b[0m\u001b[0;34m(\u001b[0m\u001b[0mvar_y\u001b[0m\u001b[0;34m)\u001b[0m\u001b[0;34m)\u001b[0m\u001b[0;34m*\u001b[0m\u001b[0mN\u001b[0m\u001b[0;34m*\u001b[0m\u001b[0;36m0.5\u001b[0m\u001b[0;34m\u001b[0m\u001b[0m\n",
      "\u001b[0;32m/anaconda2/lib/python2.7/site-packages/autograd/tracer.pyc\u001b[0m in \u001b[0;36mf_wrapped\u001b[0;34m(*args, **kwargs)\u001b[0m\n\u001b[1;32m     46\u001b[0m             \u001b[0;32mreturn\u001b[0m \u001b[0mnew_box\u001b[0m\u001b[0;34m(\u001b[0m\u001b[0mans\u001b[0m\u001b[0;34m,\u001b[0m \u001b[0mtrace\u001b[0m\u001b[0;34m,\u001b[0m \u001b[0mnode\u001b[0m\u001b[0;34m)\u001b[0m\u001b[0;34m\u001b[0m\u001b[0m\n\u001b[1;32m     47\u001b[0m         \u001b[0;32melse\u001b[0m\u001b[0;34m:\u001b[0m\u001b[0;34m\u001b[0m\u001b[0m\n\u001b[0;32m---> 48\u001b[0;31m             \u001b[0;32mreturn\u001b[0m \u001b[0mf_raw\u001b[0m\u001b[0;34m(\u001b[0m\u001b[0;34m*\u001b[0m\u001b[0margs\u001b[0m\u001b[0;34m,\u001b[0m \u001b[0;34m**\u001b[0m\u001b[0mkwargs\u001b[0m\u001b[0;34m)\u001b[0m\u001b[0;34m\u001b[0m\u001b[0m\n\u001b[0m\u001b[1;32m     49\u001b[0m     \u001b[0mf_wrapped\u001b[0m\u001b[0;34m.\u001b[0m\u001b[0mfun\u001b[0m \u001b[0;34m=\u001b[0m \u001b[0mf_raw\u001b[0m\u001b[0;34m\u001b[0m\u001b[0m\n\u001b[1;32m     50\u001b[0m     \u001b[0mf_wrapped\u001b[0m\u001b[0;34m.\u001b[0m\u001b[0m_is_autograd_primitive\u001b[0m \u001b[0;34m=\u001b[0m \u001b[0mTrue\u001b[0m\u001b[0;34m\u001b[0m\u001b[0m\n",
      "\u001b[0;31mValueError\u001b[0m: shapes (1,1) and (2,) not aligned: 1 (dim 1) != 2 (dim 0)"
     ]
    }
   ],
   "source": [
    "grad_objective_norm = grad(objective_norm, argnum = 0)\n",
    "params_optimizied_norm, obj_value_norm, dict = fmin_l_bfgs_b(objective_norm, x0 = params, fprime = grad_objective_norm, args = (x, y, latent_dim, lambda_e, opt), callback= pcallback, pgtol = 1e-2)\n",
    "f_norm, bias_norm, cov_noise_norm, w_norm = decode_parameters(params_optimizied_norm, x_dim, latent_dim, opt)\n",
    "print \"Final parameters_norm\"\n",
    "print \"norm slope\\n\", f_norm[1]/f_norm[0]\n",
    "print \"F:\\n\", f_norm\n",
    "print \"mean:\\n \", bias_norm\n",
    "print \"cov_noise matrix:\\n\", cov_noise_norm\n",
    "print \"regression weights:\\n\", w_norm\n",
    "print \"final objective value:\\n\", obj_value_norm\n",
    "print dict\n"
   ]
  },
  {
   "cell_type": "code",
   "execution_count": 91,
   "metadata": {
    "scrolled": false
   },
   "outputs": [
    {
     "data": {
      "image/png": "[encoded data removed]",
      "text/plain": [
       "<Figure size 1080x360 with 3 Axes>"
      ]
     },
     "metadata": {},
     "output_type": "display_data"
    }
   ],
   "source": [
    "plt.figure(figsize=(15,5))\n",
    "\n",
    "plt.subplot(131) \n",
    "plt.suptitle(\"lambda_e = {}\".format(lambda_e))\n",
    "\n",
    "plt.title(\"Logistic projection\")\n",
    "x_proj_logit = transform(f_logit, bias_logit, cov_noise_logit, x)\n",
    "plt.plot(x_proj_logit[:n_samples_class], np.ones(n_samples_class), 'x')\n",
    "plt.plot(x_proj_logit[n_samples_class:], np.zeros(n_samples_class), 'o')\n",
    "\n",
    "plt.subplot(132) \n",
    "plt.title(\"FA projection\")\n",
    "x_proj_fa_python = transform(f_fa, bias_fa, cov_noise_fa, x)\n",
    "\n",
    "plt.plot(x_proj_fa_python[:n_samples_class,0], np.ones(n_samples_class), 'x')\n",
    "plt.plot(x_proj_fa_python[n_samples_class:,0], np.zeros(n_samples_class), 'o')\n",
    "\n",
    "plt.subplot(133) \n",
    "plt.plot(x[:n_samples_class,0], x[:n_samples_class,1], 'x')\n",
    "plt.plot(x[n_samples_class:,0], x[n_samples_class:,1], 'o')\n",
    "a = np.array(range(int(round(np.min(x[:,0]))), 1+int(round(np.max(x[:,0]))))) \n",
    "b_pc_fa_logit = f_logit[1]/f_logit[0]*a \n",
    "#b_pc_fa_norm = f_norm[1]/f_norm[0]*a \n",
    "\n",
    "b_std_fa = f_fa[1]/f_fa[0]*a\n",
    "\n",
    "plt.plot(a, b_pc_fa_logit,  color =\"r\", label='logistic')\n",
    "#plt.plot(a, b_pc_fa_norm,  color =\"b\", label='normal')\n",
    "plt.plot(a, b_std_fa, color =\"g\", label='fa scikit')\n",
    "plt.legend()\n",
    "\n",
    "plt.savefig(\"data_lambda_e={}_logistic_norm.png\".format(lambda_e))\n",
    "plt.show()"
   ]
  },
  {
   "cell_type": "code",
   "execution_count": 71,
   "metadata": {},
   "outputs": [
    {
     "data": {
      "text/plain": [
       "0.5475"
      ]
     },
     "execution_count": 71,
     "metadata": {},
     "output_type": "execute_result"
    }
   ],
   "source": [
    "from sklearn.linear_model import LogisticRegression\n",
    "clf_fa = LogisticRegression().fit(x_proj_fa_python, y)\n",
    "clf_fa.score(x_proj_fa_python, y)"
   ]
  },
  {
   "cell_type": "code",
   "execution_count": 92,
   "metadata": {},
   "outputs": [
    {
     "data": {
      "text/plain": [
       "1.0"
      ]
     },
     "execution_count": 92,
     "metadata": {},
     "output_type": "execute_result"
    }
   ],
   "source": [
    "clf_pc = LogisticRegression().fit(x_proj_logit, y)\n",
    "clf_pc.score(x_proj_logit, y)"
   ]
  },
  {
   "cell_type": "code",
   "execution_count": 93,
   "metadata": {
    "scrolled": true
   },
   "outputs": [
    {
     "data": {
      "text/plain": [
       "1.0"
      ]
     },
     "execution_count": 93,
     "metadata": {},
     "output_type": "execute_result"
    }
   ],
   "source": [
    "clf = LogisticRegression().fit(x, y)\n",
    "clf.score(x, y)"
   ]
  },
  {
   "cell_type": "code",
   "execution_count": null,
   "metadata": {},
   "outputs": [],
   "source": []
  }
 ],
 "metadata": {
  "kernelspec": {
   "display_name": "Python 2",
   "language": "python",
   "name": "python2"
  },
  "language_info": {
   "codemirror_mode": {
    "name": "ipython",
    "version": 2
   },
   "file_extension": ".py",
   "mimetype": "text/x-python",
   "name": "python",
   "nbconvert_exporter": "python",
   "pygments_lexer": "ipython2",
   "version": "2.7.15"
  }
 },
 "nbformat": 4,
 "nbformat_minor": 2
}
