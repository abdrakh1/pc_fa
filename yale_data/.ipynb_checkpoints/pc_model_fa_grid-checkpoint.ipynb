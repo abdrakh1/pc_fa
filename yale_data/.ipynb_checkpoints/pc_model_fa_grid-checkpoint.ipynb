{
 "cells": [
  {
   "cell_type": "code",
   "execution_count": 1,
   "metadata": {},
   "outputs": [
    {
     "name": "stderr",
     "output_type": "stream",
     "text": [
      "/anaconda2/lib/python2.7/site-packages/theano/configdefaults.py:560: UserWarning: DeprecationWarning: there is no c++ compiler.This is deprecated and with Theano 0.11 a c++ compiler will be mandatory\n",
      "  warnings.warn(\"DeprecationWarning: there is no c++ compiler.\"\n",
      "WARNING (theano.configdefaults): g++ not detected ! Theano will be unable to execute optimized C-implementations (for both CPU and GPU) and will default to Python implementations. Performance will be severely degraded. To remove this warning, set Theano flags cxx to an empty string.\n",
      "WARNING (theano.tensor.blas): Using NumPy C-API based implementation for BLAS functions.\n",
      "/Users/madinaabdrakhmanova/Documents/shmm/src/dependencies.py:88: UserWarning: Modules: [BNPy, Keras] failed to import. Some features may be unavailable.\n",
      "  warnings.warn('Modules: [' + ', '.join(failed_imports) + '] failed to import. Some features may be unavailable.' )\n"
     ]
    }
   ],
   "source": [
    "import sys\n",
    "sys.path.append(\"/Users/madinaabdrakhmanova/Documents/shmm/src\")\n",
    "sys.path.append(\"/Users/madinaabdrakhmanova/Documents/shmm/bnpy-data\")\n",
    "sys.path.append(\"/Users/madinaabdrakhmanova/Documents/shmm/scripts\")\n",
    "from runremote import *\n",
    "from PCModel import PCModel \n"
   ]
  },
  {
   "cell_type": "code",
   "execution_count": 6,
   "metadata": {},
   "outputs": [],
   "source": [
    "import numpy as np\n",
    "import matplotlib.pyplot as plt\n",
    "from copy import deepcopy\n",
    "import glob\n",
    "import imageio\n",
    "import skimage\n",
    "from skimage import data, io, filters\n",
    "import pickle\n",
    "import pandas as pd\n",
    "import seaborn as sns\n",
    "import re\n",
    "\n",
    "def get_subjects(filenames):\n",
    "    subjects = np.zeros(len(filenames))\n",
    "    for i in range(len(filenames)):\n",
    "        subjects[i] = int(re.search(r\"\\d\\d\", filenames[i]).group(0))\n",
    "    return subjects\n",
    "\n",
    "def get_labels(filenames):\n",
    "    labels = np.zeros(len(filenames))\n",
    "    for i in range(len(filenames)):\n",
    "        if any(s in filenames[i] for s in ('sad', 'wink', 'surprised', 'sleepy', 'happy')):\n",
    "            labels[i] = 1\n",
    "    return labels\n",
    "\n",
    "path = '/Users/madinaabdrakhmanova/Documents/GitHub/pc_fa/yale_data/'\n",
    "filenames_test = glob.glob(path +'yale_test/*png')\n",
    "filenames_train = glob.glob(path +'yale_train/*png')\n",
    "\n",
    "img_arr_train = np.array([skimage.img_as_float(imageio.imread(file)) for file in filenames_train])\n",
    "img_arr_test = np.array([skimage.img_as_float(imageio.imread(file)) for file in filenames_test])\n",
    "X_train = np.reshape(img_arr_train, (img_arr_train.shape[0], img_arr_train.shape[1]*img_arr_train.shape[2]))\n",
    "X_test = np.reshape(img_arr_test, (img_arr_test.shape[0], img_arr_test.shape[1]*img_arr_test.shape[2]))\n",
    "\n",
    "y_train = get_labels(filenames_train)\n",
    "y_test = get_labels(filenames_test)\n",
    "subjects_train = get_subjects(filenames_train)\n",
    "subjects_test = get_subjects(filenames_test)\n",
    "\n",
    "X = np.concatenate((X_train, X_test))\n",
    "y = np.concatenate((y_train, y_test))\n",
    "subjects = np.concatenate((subjects_train, subjects_test))\n",
    "z = [{\"cv\":int(s)-1} for s in subjects]\n",
    "data = (X, y, z)\n",
    "train_data = (X_train, y_train, [{\"cv\":int(s)-1} for s in subjects_train])\n",
    "test_data = (X_test, y_test, [{\"cv\":int(s)-1} for s in subjects_test])\n"
   ]
  },
  {
   "cell_type": "code",
   "execution_count": 21,
   "metadata": {},
   "outputs": [
    {
     "name": "stdout",
     "output_type": "stream",
     "text": [
      "rsync --copy-links /tmp/data/yale_pc.pkl jhope@ssh.cs.brown.edu:/data/liv/jhope/tempdata/yale_pc.pkl\n",
      "ssh jhope@ssh.cs.brown.edu 'bash -s' < /tmp/scratch/rscript.sh\n",
      "rsync --copy-links /tmp/backups/yale_pc/03-03-19_20-42/backup.pkl jhope@ssh.cs.brown.edu:/nbu/liv/jhope/Results/tempresults/yale_pc/03-03-19_20-42/backup.pkl\n",
      "rsync --copy-links /tmp/backups/yale_pc/03-03-19_20-42/supervisor.pkl jhope@ssh.cs.brown.edu:/nbu/liv/jhope/Results/tempresults/yale_pc/03-03-19_20-42/supervisor.pkl\n",
      "rsync --copy-links /tmp/backups/yale_pc/03-03-19_20-42/hp_opt.pkl jhope@ssh.cs.brown.edu:/nbu/liv/jhope/Results/tempresults/yale_pc/03-03-19_20-42/hp_opt.pkl\n",
      "ssh jhope@ssh.cs.brown.edu 'bash -s' < /tmp/scratch/rscript.sh\n",
      "Already up-to-date.\n",
      "Your job-array 1749486.1-1:1 (\"STDIN\") has been submitted\n",
      "Your job-array 1749487.1-1:1 (\"STDIN\") has been submitted\n",
      "Your job-array 1749488.1-1:1 (\"STDIN\") has been submitted\n",
      "Your job-array 1749489.1-1:1 (\"STDIN\") has been submitted\n",
      "Your job-array 1749490.1-1:1 (\"STDIN\") has been submitted\n",
      "Your job-array 1749491.1-1:1 (\"STDIN\") has been submitted\n",
      "Your job-array 1749492.1-1:1 (\"STDIN\") has been submitted\n",
      "Your job-array 1749493.1-1:1 (\"STDIN\") has been submitted\n",
      "Wrote backup to: /tmp/backups/yale_pc/03-03-19_20-42/backup.pkl\n"
     ]
    }
   ],
   "source": [
    "pc_config = '''\n",
    "# Model options\n",
    "model fa\n",
    "lam 0 1 10 100 1000 10000 100000\n",
    "reg_weight_fa LOGUNIFORM -5 5\n",
    "\n",
    "# Prediction options\n",
    "predictor logistic\n",
    "reg_weight LOGUNIFORM -5 5\n",
    "pred_bias 1\n",
    "\n",
    "#Data options\n",
    "cv 1\n",
    "\n",
    "#Optimization options\n",
    "backend torch \n",
    "'''\n",
    "remote_config = \"/Users/madinaabdrakhmanova/Documents/shmm/scripts/remote_configs/browncs_gpu\"\n",
    "pc_exp = Experiment((deepcopy(data), ([], [], []), ([], [], [])), dataname = \"yale_pc\", local_backup_dir = \"/tmp/backups\", run_config = pc_config, remote_config = remote_config)\n",
    "pc_exp.run(pull = True, sync_data =  True, test = False, max_evals = 100, workers = 8)"
   ]
  },
  {
   "cell_type": "code",
   "execution_count": 42,
   "metadata": {},
   "outputs": [
    {
     "name": "stdout",
     "output_type": "stream",
     "text": [
      "rsync --copy-links /tmp/data/yale_pc.pkl jhope@ssh.cs.brown.edu:/data/liv/jhope/tempdata/yale_pc.pkl\n",
      "ssh jhope@ssh.cs.brown.edu 'bash -s' < /tmp/scratch/rscript.sh\n",
      "rsync --copy-links /Users/madinaabdrakhmanova/Documents/backups/yale_pc/03-03-19_16-24/backup.pkl jhope@ssh.cs.brown.edu:/nbu/liv/jhope/Results/tempresults/yale_pc/03-03-19_16-24/backup.pkl\n"
     ]
    },
    {
     "ename": "KeyboardInterrupt",
     "evalue": "",
     "output_type": "error",
     "traceback": [
      "\u001b[0;31m---------------------------------------------------------------------------\u001b[0m",
      "\u001b[0;31mKeyboardInterrupt\u001b[0m                         Traceback (most recent call last)",
      "\u001b[0;32m<ipython-input-42-621b8da6ad43>\u001b[0m in \u001b[0;36m<module>\u001b[0;34m()\u001b[0m\n\u001b[1;32m     18\u001b[0m \u001b[0mremote_config\u001b[0m \u001b[0;34m=\u001b[0m \u001b[0;34m\"/Users/madinaabdrakhmanova/Documents/shmm/scripts/remote_configs/browncs_gpu\"\u001b[0m\u001b[0;34m\u001b[0m\u001b[0m\n\u001b[1;32m     19\u001b[0m \u001b[0mpc_exp\u001b[0m \u001b[0;34m=\u001b[0m \u001b[0mExperiment\u001b[0m\u001b[0;34m(\u001b[0m\u001b[0;34m(\u001b[0m\u001b[0mdata\u001b[0m\u001b[0;34m,\u001b[0m \u001b[0mtest_data\u001b[0m\u001b[0;34m,\u001b[0m \u001b[0mtest_data\u001b[0m\u001b[0;34m)\u001b[0m\u001b[0;34m,\u001b[0m \u001b[0mdataname\u001b[0m \u001b[0;34m=\u001b[0m \u001b[0;34m\"yale_pc\"\u001b[0m\u001b[0;34m,\u001b[0m \u001b[0mlocal_backup_dir\u001b[0m \u001b[0;34m=\u001b[0m \u001b[0;34m\"/Users/madinaabdrakhmanova/Documents/backups\"\u001b[0m\u001b[0;34m,\u001b[0m \u001b[0mrun_config\u001b[0m \u001b[0;34m=\u001b[0m \u001b[0mpc_config\u001b[0m\u001b[0;34m,\u001b[0m \u001b[0mremote_config\u001b[0m \u001b[0;34m=\u001b[0m \u001b[0mremote_config\u001b[0m\u001b[0;34m)\u001b[0m\u001b[0;34m\u001b[0m\u001b[0m\n\u001b[0;32m---> 20\u001b[0;31m \u001b[0mpc_exp\u001b[0m\u001b[0;34m.\u001b[0m\u001b[0mrun\u001b[0m\u001b[0;34m(\u001b[0m\u001b[0mpull\u001b[0m \u001b[0;34m=\u001b[0m \u001b[0mTrue\u001b[0m\u001b[0;34m,\u001b[0m \u001b[0msync_data\u001b[0m \u001b[0;34m=\u001b[0m  \u001b[0mTrue\u001b[0m\u001b[0;34m,\u001b[0m \u001b[0mtest\u001b[0m \u001b[0;34m=\u001b[0m \u001b[0mFalse\u001b[0m\u001b[0;34m,\u001b[0m \u001b[0mmax_evals\u001b[0m \u001b[0;34m=\u001b[0m \u001b[0;36m1000\u001b[0m\u001b[0;34m,\u001b[0m \u001b[0mworkers\u001b[0m \u001b[0;34m=\u001b[0m \u001b[0;36m5\u001b[0m\u001b[0;34m)\u001b[0m\u001b[0;34m\u001b[0m\u001b[0m\n\u001b[0m",
      "\u001b[0;32m/Users/madinaabdrakhmanova/Documents/shmm/scripts/runremote.pyc\u001b[0m in \u001b[0;36mrun\u001b[0;34m(self, pull, sync_data, test, backup, silent, alg, max_evals, workers, background)\u001b[0m\n\u001b[1;32m    551\u001b[0m         \u001b[0mself\u001b[0m\u001b[0;34m.\u001b[0m\u001b[0mhost\u001b[0m\u001b[0;34m.\u001b[0m\u001b[0mrun_remote\u001b[0m\u001b[0;34m(\u001b[0m\u001b[0mself\u001b[0m\u001b[0;34m.\u001b[0m\u001b[0mcreate_remote_dirs_script\u001b[0m\u001b[0;34m(\u001b[0m\u001b[0;34m)\u001b[0m\u001b[0;34m,\u001b[0m \u001b[0msilent\u001b[0m\u001b[0;34m=\u001b[0m\u001b[0msilent\u001b[0m\u001b[0;34m)\u001b[0m\u001b[0;34m\u001b[0m\u001b[0m\n\u001b[1;32m    552\u001b[0m         self.host.sync_2_remote(os.path.join(self.get_backup_root(), 'backup.pkl'),\n\u001b[0;32m--> 553\u001b[0;31m                                 os.path.join(self.get_output_root(), 'backup.pkl'), silent=silent)\n\u001b[0m\u001b[1;32m    554\u001b[0m         self.host.sync_2_remote(os.path.join(self.get_backup_root(), 'supervisor.pkl'),\n\u001b[1;32m    555\u001b[0m                                 os.path.join(self.get_output_root(), 'supervisor.pkl'), silent=silent)\n",
      "\u001b[0;32m/Users/madinaabdrakhmanova/Documents/shmm/scripts/runremote.pyc\u001b[0m in \u001b[0;36msync_2_remote\u001b[0;34m(self, file, remote_path, R, silent)\u001b[0m\n\u001b[1;32m    136\u001b[0m         \u001b[0mcmd\u001b[0m \u001b[0;34m+=\u001b[0m \u001b[0mself\u001b[0m\u001b[0;34m.\u001b[0m\u001b[0maddr\u001b[0m \u001b[0;34m+\u001b[0m \u001b[0;34m':'\u001b[0m \u001b[0;32mif\u001b[0m \u001b[0;32mnot\u001b[0m \u001b[0mself\u001b[0m\u001b[0;34m.\u001b[0m\u001b[0mlocal\u001b[0m \u001b[0;32melse\u001b[0m \u001b[0;34m''\u001b[0m\u001b[0;34m\u001b[0m\u001b[0m\n\u001b[1;32m    137\u001b[0m         \u001b[0mcmd\u001b[0m \u001b[0;34m+=\u001b[0m \u001b[0mremote_path\u001b[0m\u001b[0;34m\u001b[0m\u001b[0m\n\u001b[0;32m--> 138\u001b[0;31m         \u001b[0;32mreturn\u001b[0m \u001b[0mexecute\u001b[0m\u001b[0;34m(\u001b[0m\u001b[0mcmd\u001b[0m\u001b[0;34m,\u001b[0m \u001b[0msilent\u001b[0m\u001b[0;34m=\u001b[0m\u001b[0msilent\u001b[0m\u001b[0;34m,\u001b[0m \u001b[0mretries\u001b[0m\u001b[0;34m=\u001b[0m\u001b[0mself\u001b[0m\u001b[0;34m.\u001b[0m\u001b[0mretries\u001b[0m\u001b[0;34m)\u001b[0m\u001b[0;34m\u001b[0m\u001b[0m\n\u001b[0m\u001b[1;32m    139\u001b[0m \u001b[0;34m\u001b[0m\u001b[0m\n\u001b[1;32m    140\u001b[0m     \u001b[0;32mdef\u001b[0m \u001b[0msync_2_local\u001b[0m\u001b[0;34m(\u001b[0m\u001b[0mself\u001b[0m\u001b[0;34m,\u001b[0m \u001b[0mfile\u001b[0m\u001b[0;34m,\u001b[0m \u001b[0mremote_path\u001b[0m\u001b[0;34m,\u001b[0m \u001b[0mR\u001b[0m\u001b[0;34m=\u001b[0m\u001b[0mTrue\u001b[0m\u001b[0;34m,\u001b[0m \u001b[0msilent\u001b[0m\u001b[0;34m=\u001b[0m\u001b[0mTrue\u001b[0m\u001b[0;34m)\u001b[0m\u001b[0;34m:\u001b[0m\u001b[0;34m\u001b[0m\u001b[0m\n",
      "\u001b[0;32m/Users/madinaabdrakhmanova/Documents/shmm/scripts/runremote.pyc\u001b[0m in \u001b[0;36mexecute\u001b[0;34m(cmd, silent, raisefail, retries)\u001b[0m\n\u001b[1;32m     31\u001b[0m \u001b[0;34m\u001b[0m\u001b[0m\n\u001b[1;32m     32\u001b[0m     \u001b[0moutput\u001b[0m \u001b[0;34m=\u001b[0m \u001b[0;34m''\u001b[0m\u001b[0;34m\u001b[0m\u001b[0m\n\u001b[0;32m---> 33\u001b[0;31m     \u001b[0;32mfor\u001b[0m \u001b[0mstdout_line\u001b[0m \u001b[0;32min\u001b[0m \u001b[0miter\u001b[0m\u001b[0;34m(\u001b[0m\u001b[0mpopen\u001b[0m\u001b[0;34m.\u001b[0m\u001b[0mstdout\u001b[0m\u001b[0;34m.\u001b[0m\u001b[0mreadline\u001b[0m\u001b[0;34m,\u001b[0m \u001b[0;34m\"\"\u001b[0m\u001b[0;34m)\u001b[0m\u001b[0;34m:\u001b[0m\u001b[0;34m\u001b[0m\u001b[0m\n\u001b[0m\u001b[1;32m     34\u001b[0m         \u001b[0;32mif\u001b[0m \u001b[0;32mnot\u001b[0m \u001b[0msilent\u001b[0m\u001b[0;34m:\u001b[0m\u001b[0;34m\u001b[0m\u001b[0m\n\u001b[1;32m     35\u001b[0m             \u001b[0;32mprint\u001b[0m \u001b[0mstdout_line\u001b[0m\u001b[0;34m,\u001b[0m\u001b[0;34m\u001b[0m\u001b[0m\n",
      "\u001b[0;31mKeyboardInterrupt\u001b[0m: "
     ]
    }
   ],
   "source": [
    "pc_config = '''\n",
    "# Model options\n",
    "model fa\n",
    "lam 0 1 10 100 1000 10000 100000\n",
    "reg_weight_fa LOGUNIFORM -5 5\n",
    "\n",
    "# Prediction options\n",
    "predictor logistic\n",
    "reg_weight LOGUNIFORM -5 5\n",
    "pred_bias 1\n",
    "\n",
    "#Data options\n",
    "cv 0\n",
    "\n",
    "#Optimization options\n",
    "backend torch \n",
    "'''\n",
    "remote_config = \"/Users/madinaabdrakhmanova/Documents/shmm/scripts/remote_configs/browncs_gpu\"\n",
    "pc_exp = Experiment((data, test_data, test_data), dataname = \"yale_pc\", local_backup_dir = \"/Users/madinaabdrakhmanova/Documents/backups\", run_config = pc_config, remote_config = remote_config)\n",
    "pc_exp.run(pull = True, sync_data =  True, test = False, max_evals = 10, workers = 5)"
   ]
  },
  {
   "cell_type": "code",
   "execution_count": 3,
   "metadata": {},
   "outputs": [
    {
     "ename": "NameError",
     "evalue": "name 'pc_exp' is not defined",
     "output_type": "error",
     "traceback": [
      "\u001b[0;31m---------------------------------------------------------------------------\u001b[0m",
      "\u001b[0;31mNameError\u001b[0m                                 Traceback (most recent call last)",
      "\u001b[0;32m<ipython-input-3-284ceb0d7210>\u001b[0m in \u001b[0;36m<module>\u001b[0;34m()\u001b[0m\n\u001b[0;32m----> 1\u001b[0;31m \u001b[0mpc_exp\u001b[0m\u001b[0;34m.\u001b[0m\u001b[0msync\u001b[0m\u001b[0;34m(\u001b[0m\u001b[0;34m)\u001b[0m\u001b[0;34m\u001b[0m\u001b[0m\n\u001b[0m",
      "\u001b[0;31mNameError\u001b[0m: name 'pc_exp' is not defined"
     ]
    }
   ],
   "source": [
    "pc_exp.sync()\n"
   ]
  },
  {
   "cell_type": "code",
   "execution_count": 8,
   "metadata": {},
   "outputs": [
    {
     "ename": "IOError",
     "evalue": "[Errno 2] No such file or directory: '/tmp/backups/yale_pc/03-03-19_20-42/backup.pkl'",
     "output_type": "error",
     "traceback": [
      "\u001b[0;31m---------------------------------------------------------------------------\u001b[0m",
      "\u001b[0;31mIOError\u001b[0m                                   Traceback (most recent call last)",
      "\u001b[0;32m<ipython-input-8-59900b3ce44c>\u001b[0m in \u001b[0;36m<module>\u001b[0;34m()\u001b[0m\n\u001b[0;32m----> 1\u001b[0;31m \u001b[0;32mwith\u001b[0m \u001b[0mopen\u001b[0m\u001b[0;34m(\u001b[0m\u001b[0;34m'/tmp/backups/yale_pc/03-03-19_20-42/backup.pkl'\u001b[0m\u001b[0;34m,\u001b[0m \u001b[0;34m'rb'\u001b[0m\u001b[0;34m)\u001b[0m \u001b[0;32mas\u001b[0m \u001b[0mf\u001b[0m\u001b[0;34m:\u001b[0m\u001b[0;34m\u001b[0m\u001b[0m\n\u001b[0m\u001b[1;32m      2\u001b[0m     \u001b[0mpc_exp\u001b[0m \u001b[0;34m=\u001b[0m \u001b[0mcPickle\u001b[0m\u001b[0;34m.\u001b[0m\u001b[0mload\u001b[0m\u001b[0;34m(\u001b[0m\u001b[0mf\u001b[0m\u001b[0;34m)\u001b[0m\u001b[0;34m\u001b[0m\u001b[0m\n\u001b[1;32m      3\u001b[0m \u001b[0mpc_exp\u001b[0m\u001b[0;34m.\u001b[0m\u001b[0msync\u001b[0m\u001b[0;34m(\u001b[0m\u001b[0;34m)\u001b[0m\u001b[0;34m\u001b[0m\u001b[0m\n",
      "\u001b[0;31mIOError\u001b[0m: [Errno 2] No such file or directory: '/tmp/backups/yale_pc/03-03-19_20-42/backup.pkl'"
     ]
    }
   ],
   "source": [
    "with open('/Users/madinaabdrakhmanova/Downloads/backup.pkl', 'rb') as f:\n",
    "    pc_exp = cPickle.load(f)\n",
    "pc_exp.sync()"
   ]
  },
  {
   "cell_type": "code",
   "execution_count": 1,
   "metadata": {},
   "outputs": [
    {
     "ename": "NameError",
     "evalue": "name 'pc_exp' is not defined",
     "output_type": "error",
     "traceback": [
      "\u001b[0;31m---------------------------------------------------------------------------\u001b[0m",
      "\u001b[0;31mNameError\u001b[0m                                 Traceback (most recent call last)",
      "\u001b[0;32m<ipython-input-1-46fa7a02ab89>\u001b[0m in \u001b[0;36m<module>\u001b[0;34m()\u001b[0m\n\u001b[0;32m----> 1\u001b[0;31m \u001b[0mtest_acc\u001b[0m \u001b[0;34m=\u001b[0m \u001b[0mpc_exp\u001b[0m\u001b[0;34m.\u001b[0m\u001b[0mresults_df\u001b[0m\u001b[0;34m[\u001b[0m\u001b[0;34m[\u001b[0m\u001b[0;34m\"test_acc\"\u001b[0m\u001b[0;34m]\u001b[0m\u001b[0;34m]\u001b[0m\u001b[0;34m\u001b[0m\u001b[0m\n\u001b[0m",
      "\u001b[0;31mNameError\u001b[0m: name 'pc_exp' is not defined"
     ]
    }
   ],
   "source": [
    "test_acc = pc_exp.results_df[[\"test_acc\"]]"
   ]
  },
  {
   "cell_type": "code",
   "execution_count": 21,
   "metadata": {},
   "outputs": [
    {
     "name": "stdout",
     "output_type": "stream",
     "text": [
      "rsync --copy-links jhope@ssh.cs.brown.edu:/nbu/liv/jhope/Results/tempresults/yale_pc/03-03-19_15-57/./b1f297da-eb39-4d12-9204-2d7cc7690e7c/save.pkl /tmp/results/yale_pc/03-03-19_15-57/b1f297da-eb39-4d12-9204-2d7cc7690e7c\n",
      "rsync --copy-links jhope@ssh.cs.brown.edu:/nbu/liv/jhope/Results/tempresults/yale_pc/03-03-19_15-57/./b1f297da-eb39-4d12-9204-2d7cc7690e7c/save_code.pkl /tmp/results/yale_pc/03-03-19_15-57/b1f297da-eb39-4d12-9204-2d7cc7690e7c\n"
     ]
    },
    {
     "ename": "TypeError",
     "evalue": "argument must have 'read' and 'readline' attributes",
     "output_type": "error",
     "traceback": [
      "\u001b[0;31m---------------------------------------------------------------------------\u001b[0m",
      "\u001b[0;31mTypeError\u001b[0m                                 Traceback (most recent call last)",
      "\u001b[0;32m<ipython-input-21-2a0e06b0d2b3>\u001b[0m in \u001b[0;36m<module>\u001b[0;34m()\u001b[0m\n\u001b[0;32m----> 1\u001b[0;31m \u001b[0mparams\u001b[0m \u001b[0;34m=\u001b[0m \u001b[0mpc_exp\u001b[0m\u001b[0;34m.\u001b[0m\u001b[0mget_params_from_id\u001b[0m\u001b[0;34m(\u001b[0m\u001b[0;34m'b1f297da-eb39-4d12-9204-2d7cc7690e7c'\u001b[0m\u001b[0;34m,\u001b[0m \u001b[0msilent\u001b[0m\u001b[0;34m=\u001b[0m\u001b[0mFalse\u001b[0m\u001b[0;34m)\u001b[0m\u001b[0;34m\u001b[0m\u001b[0m\n\u001b[0m",
      "\u001b[0;32m/Users/madinaabdrakhmanova/Documents/shmm/scripts/runremote.pyc\u001b[0m in \u001b[0;36mget_params_from_id\u001b[0;34m(self, runid, sync, silent, iteration)\u001b[0m\n\u001b[1;32m    632\u001b[0m             self.host.sync_2_local(os.path.join(self.get_local_root(), runid),\n\u001b[1;32m    633\u001b[0m                                    os.path.join(self.get_output_root(), './%s/save_code.pkl' % runid), silent=silent, R=False)\n\u001b[0;32m--> 634\u001b[0;31m         \u001b[0mcode_obj\u001b[0m \u001b[0;34m=\u001b[0m \u001b[0mcPickle\u001b[0m\u001b[0;34m.\u001b[0m\u001b[0mload\u001b[0m\u001b[0;34m(\u001b[0m\u001b[0mos\u001b[0m\u001b[0;34m.\u001b[0m\u001b[0mpath\u001b[0m\u001b[0;34m.\u001b[0m\u001b[0mjoin\u001b[0m\u001b[0;34m(\u001b[0m\u001b[0mself\u001b[0m\u001b[0;34m.\u001b[0m\u001b[0mget_local_root\u001b[0m\u001b[0;34m(\u001b[0m\u001b[0;34m)\u001b[0m\u001b[0;34m,\u001b[0m \u001b[0mrunid\u001b[0m\u001b[0;34m,\u001b[0m \u001b[0;34m'save_code.pkl'\u001b[0m\u001b[0;34m)\u001b[0m\u001b[0;34m)\u001b[0m\u001b[0;34m\u001b[0m\u001b[0m\n\u001b[0m\u001b[1;32m    635\u001b[0m         \u001b[0mcode_obj\u001b[0m \u001b[0;34m=\u001b[0m \u001b[0mcode_obj\u001b[0m \u001b[0;32mif\u001b[0m \u001b[0mtype\u001b[0m\u001b[0;34m(\u001b[0m\u001b[0mcode_obj\u001b[0m\u001b[0;34m)\u001b[0m \u001b[0;32mis\u001b[0m \u001b[0mdict\u001b[0m \u001b[0;32melse\u001b[0m \u001b[0mcode_obj\u001b[0m\u001b[0;34m[\u001b[0m\u001b[0;34m-\u001b[0m\u001b[0;36m1\u001b[0m\u001b[0;34m]\u001b[0m\u001b[0;34m\u001b[0m\u001b[0m\n\u001b[1;32m    636\u001b[0m \u001b[0;34m\u001b[0m\u001b[0m\n",
      "\u001b[0;31mTypeError\u001b[0m: argument must have 'read' and 'readline' attributes"
     ]
    }
   ],
   "source": [
    "params = pc_exp.get_params_from_id('b1f297da-eb39-4d12-9204-2d7cc7690e7c', silent=False)"
   ]
  },
  {
   "cell_type": "code",
   "execution_count": 31,
   "metadata": {},
   "outputs": [],
   "source": [
    "with open('/tmp/results/yale_pc/03-03-19_15-57/b1f297da-eb39-4d12-9204-2d7cc7690e7c/save_code.pkl', 'rb') as f:\n",
    "    model = cPickle.load(f)"
   ]
  },
  {
   "cell_type": "code",
   "execution_count": 35,
   "metadata": {},
   "outputs": [
    {
     "data": {
      "text/plain": [
       "array([0.28943095, 0.25602618, 0.2742564 , ..., 0.24983023, 0.28906655,\n",
       "       0.26455365])"
      ]
     },
     "execution_count": 35,
     "metadata": {},
     "output_type": "execute_result"
    }
   ],
   "source": [
    "pi, phi, eta = model[0].params\n",
    "pi[1]"
   ]
  },
  {
   "cell_type": "code",
   "execution_count": null,
   "metadata": {},
   "outputs": [],
   "source": [
    "pred_weight = pc_exp.results_df[[\"lam\",\"reg_weight\", \"reg_weight_fa\", \"test_acc\",\"runid\"]]"
   ]
  },
  {
   "cell_type": "code",
   "execution_count": 20,
   "metadata": {},
   "outputs": [
    {
     "data": {
      "text/plain": [
       "(<seaborn.axisgrid.FacetGrid at 0x1418cdf90>, <function runremote.update>)"
      ]
     },
     "execution_count": 20,
     "metadata": {},
     "output_type": "execute_result"
    },
    {
     "data": {
      "image/png": "[encoded data removed]",
      "text/plain": [
       "<Figure size 360x360 with 1 Axes>"
      ]
     },
     "metadata": {
      "needs_background": "light"
     },
     "output_type": "display_data"
    }
   ],
   "source": [
    "pc_exp.plot_results_grid('test_acc', y='test_llik', jobs=None, query=None, split=None, sync=False, silent=True,\n",
    "                         row=None, col='nstates', hue='lam', shade=None, logshade=True, darkshade=False,\n",
    "                         map_fn=plt.scatter, plot_args={}, group_mean=False,\n",
    "                         inc_missing=False, intermediate=False, add_results=None,\n",
    "                          splits=None)"
   ]
  },
  {
   "cell_type": "code",
   "execution_count": null,
   "metadata": {},
   "outputs": [],
   "source": []
  }
 ],
 "metadata": {
  "kernelspec": {
   "display_name": "Python 2",
   "language": "python",
   "name": "python2"
  },
  "language_info": {
   "codemirror_mode": {
    "name": "ipython",
    "version": 2
   },
   "file_extension": ".py",
   "mimetype": "text/x-python",
   "name": "python",
   "nbconvert_exporter": "python",
   "pygments_lexer": "ipython2",
   "version": "2.7.15"
  }
 },
 "nbformat": 4,
 "nbformat_minor": 2
}
