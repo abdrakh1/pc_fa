{
 "cells": [
  {
   "cell_type": "code",
   "execution_count": 1,
   "metadata": {},
   "outputs": [],
   "source": [
    "import autograd.numpy as np\n",
    "from autograd import grad\n",
    "from autograd import elementwise_grad\n",
    "from scipy.optimize import fmin_l_bfgs_b\n",
    "import matplotlib.pyplot as plt\n",
    "from scipy.linalg import cho_factor, cho_solve, cholesky\n"
   ]
  },
  {
   "cell_type": "code",
   "execution_count": 2,
   "metadata": {},
   "outputs": [],
   "source": [
    "#build toy dataset\n",
    "def generate_samples_gauss(n_samples_class):\n",
    "    cov = np.array([[10, 2], [2, 1]])\n",
    "    mean1 = np.array([0, 0])\n",
    "    mean2 = np.array([0, 5])\n",
    "\n",
    "    total_n_samples = n_samples_class*2\n",
    "    x =  np.zeros((total_n_samples, 2))\n",
    "\n",
    "    x[:n_samples_class, 0], x[:n_samples_class, 1] = np.random.multivariate_normal(mean1, cov, n_samples_class).T\n",
    "    x[n_samples_class:, 0], x[n_samples_class:, 1]  = np.random.multivariate_normal(mean2, cov, n_samples_class).T\n",
    "\n",
    "    labels = np.zeros(total_n_samples)\n",
    "    labels[n_samples_class:] = 1\n",
    "    return x, labels"
   ]
  },
  {
   "cell_type": "code",
   "execution_count": 3,
   "metadata": {},
   "outputs": [],
   "source": [
    "def generate_samples_uniform(n_samples_class):\n",
    "    x[:,0] = np.random.rand(2*n_samples_class)\n",
    "    x[n_samples_class:,1] = x[n_samples_class:,0] + 0.1\n",
    "    x[:n_samples_class,1] = x[:n_samples_class,0] - 0.1\n",
    "    \n",
    "    labels = np.zeros(2*n_samples_class)\n",
    "    labels[n_samples_class:] = 1\n",
    "    return x, labels\n"
   ]
  },
  {
   "cell_type": "code",
   "execution_count": 4,
   "metadata": {},
   "outputs": [
    {
     "data": {
      "image/png": "[encoded data removed]",
      "text/plain": [
       "<Figure size 432x288 with 1 Axes>"
      ]
     },
     "metadata": {},
     "output_type": "display_data"
    }
   ],
   "source": [
    "n_samples_class = 200\n",
    "x, y  =  generate_samples_gauss(n_samples_class)\n",
    "plt.plot(x[:n_samples_class,0], x[:n_samples_class,1], 'x')\n",
    "plt.plot(x[n_samples_class:,0], x[n_samples_class:,1], 'o')\n",
    "\n",
    "plt.savefig(\"data_2d.png\")\n",
    "plt.show()"
   ]
  },
  {
   "cell_type": "code",
   "execution_count": 23,
   "metadata": {
    "scrolled": true
   },
   "outputs": [
    {
     "data": {
      "image/png": "[encoded data removed]",
      "text/plain": [
       "<Figure size 432x288 with 1 Axes>"
      ]
     },
     "metadata": {},
     "output_type": "display_data"
    }
   ],
   "source": [
    "from sklearn.decomposition import PCA, FactorAnalysis\n",
    "transformer = PCA(svd_solver='full', n_components='mle')\n",
    "#transformer = FactorAnalysis(n_components=1, random_state=0)\n",
    "x_proj_fa_python = transformer.fit_transform(x)\n",
    "f_fa_python = transformer.components_\n",
    "plt.plot(x_proj_fa_python[:n_samples_class,0], np.ones(n_samples_class), 'x')\n",
    "plt.plot(x_proj_fa_python[n_samples_class:,0], np.zeros(n_samples_class), 'o')\n",
    "\n",
    "plt.savefig('data_proj_fa_python')\n",
    "plt.show()"
   ]
  },
  {
   "cell_type": "code",
   "execution_count": 24,
   "metadata": {},
   "outputs": [
    {
     "name": "stdout",
     "output_type": "stream",
     "text": [
      "[[0.91421901 0.40522043]]\n",
      "[-0.38471298  2.43300911]\n",
      "6.268262003230845\n"
     ]
    }
   ],
   "source": [
    "print transformer.components_\n",
    "print transformer.mean_\n",
    "print transformer.noise_variance_\n"
   ]
  },
  {
   "cell_type": "code",
   "execution_count": 26,
   "metadata": {},
   "outputs": [
    {
     "data": {
      "text/plain": [
       "-2001.4673301554344"
      ]
     },
     "execution_count": 26,
     "metadata": {},
     "output_type": "execute_result"
    }
   ],
   "source": [
    "f_fa = transformer.components_.T\n",
    "cov_noise_fa= np.diag(np.ones(x.shape[1])*transformer.noise_variance_)\n",
    "bias_fa = np.mean(x, axis =0)\n",
    "\n",
    "def compute_ll(f,bias,cov_noise, x):\n",
    "    N = x.shape[0]\n",
    "    D = x.shape[1]\n",
    "    cov_x = np.einsum(\"dl,ml->dm\",f,f) + cov_noise\n",
    "    sign, log_det_cov_x = np.linalg.slogdet(cov_x)\n",
    "    temp1 = np.linalg.solve(cov_x, (x - bias).T)\n",
    "    ll = N*D*np.log(2*np.pi)/2\n",
    "    ll += log_det_cov_x*N/2\n",
    "    ll += np.sum(np.einsum(\"nd,dn->n\", x - bias, temp1))/2\n",
    "    return -ll\n",
    "\n",
    "compute_ll(f_fa, bias_fa, cov_noise_fa, x)"
   ]
  },
  {
   "cell_type": "code",
   "execution_count": 42,
   "metadata": {},
   "outputs": [],
   "source": [
    "def sigmoid(x):\n",
    "  return 1 / (1 + np.exp(-x))\n",
    "\n",
    "def objective_logit (params, x, y, latent_dim, lambda_e): #check the order of arguments!\n",
    "    N = x.shape[0]\n",
    "    D = x.shape[1]\n",
    "    f, bias_x, cov_noise, w, bias_y = decode_parameters_ppca(params, D, latent_dim)\n",
    "        \n",
    "    cov_x = np.einsum(\"dl,ml->dm\",f,f) + cov_noise\n",
    "    sign, log_det_cov_x = np.linalg.slogdet(cov_x)\n",
    "    \n",
    "    temp1 = np.linalg.solve(cov_x, (x - bias_x).T)\n",
    "    unnorm_log_pdf_x = np.einsum(\"nd,dn->n\", x - bias_x, temp1)\n",
    "    \n",
    "    mean_z = np.einsum(\"dl,dn->nl\", f, temp1)\n",
    "    temp2 = np.einsum(\"l,nl->n\", w, mean_z) + bias_y\n",
    "    log_bern_pdf_y = np.log(sigmoid(np.multiply((2*y-1),temp2)))\n",
    "    log_prior = 0 \n",
    "    \n",
    "    ll = N*D*np.log(2*np.pi)/2 + log_det_cov_x*0.5*N + np.sum(unnorm_log_pdf_x)*0.5 \n",
    "    ll = ll - lambda_e*np.sum(log_bern_pdf_y) - log_prior\n",
    "    return ll \n",
    "\n",
    "\n",
    "def decode_parameters(params, D, latent_dim, opt1):\n",
    "    size_f = D*latent_dim\n",
    "    f =  params[:size_f]\n",
    "    f =  f.reshape(D, latent_dim)\n",
    "    bias_x = params[size_f:size_f+D]\n",
    "    if (opt1==\"ppca\"):\n",
    "        var = params[size_f+D]\n",
    "        cov_noise= np.diag(np.ones(D)*np.log(1+np.exp(var)))\n",
    "    else:\n",
    "        cov_noise= np.diag(np.log(1+np.exp(var)))\n",
    "\n",
    "    bias_y = params[size_f+D+1]\n",
    "    w = params[size_f+D+2:]\n",
    "    \n",
    "    return f, bias_x, cov_noise, w, bias_y\n",
    "\n",
    "def transform(f, bias, cov_noise, x):\n",
    "    #alternative way of computing the mean_z to transform x \n",
    "    #ft_covi = np.dot(f.T, np.linalg.inv(cov_noise))\n",
    "    #cov_z = np.linalg.inv(np.identity(latent_dim) + np.dot(ft_covi, f))\n",
    "    #temp3 = np.dot( x - bias, ft_covi.T)\n",
    "    #mean_z_alter = np.dot(temp3, cov_z)\n",
    "    \n",
    "    cov_x = np.einsum(\"dl,ml->dm\",f,f) + cov_noise\n",
    "    temp = np.linalg.solve(cov_x, (x - bias).T)\n",
    "    mean_z = np.einsum(\"dl,dn->nl\", f, temp)\n",
    "    #print np.allclose(mean_z_alter, mean_z, atol=1e-11, rtol=1e-11)\n",
    "    return mean_z"
   ]
  },
  {
   "cell_type": "code",
   "execution_count": 44,
   "metadata": {},
   "outputs": [
    {
     "name": "stdout",
     "output_type": "stream",
     "text": [
      "Initial parameters\n",
      "F: [[0.99938411]\n",
      " [0.16750089]]\n",
      "slope [0.16760411]\n",
      "bias_x:  [0.49619902 0.05259484]\n",
      "cov_noise matrix:  [[1.06216011 0.        ]\n",
      " [0.         1.06216011]]\n",
      "regression weights:  [0.07891642]\n",
      "bias_y:  0.17914795924790106\n",
      "initial obj value logit 4345.532692942203\n",
      "-4345.532692942203\n"
     ]
    }
   ],
   "source": [
    "latent_dim = 1 #suppose z is scalar\n",
    "x_dim = 2      \n",
    "params_size_ppca = x_dim*latent_dim + x_dim + 1 + 1 + latent_dim \n",
    "size_f = x_dim*latent_dim\n",
    "params = np.random.rand(params_size_ppca)\n",
    "f, bias, cov_noise, w, bias_y =  decode_parameters(params, x_dim, latent_dim, \"ppca\")\n",
    "print \"Initial parameters\"\n",
    "print \"F:\", f\n",
    "print \"slope\", f[1]/f[0]\n",
    "print \"bias_x: \", bias\n",
    "print \"cov_noise matrix: \", cov_noise\n",
    "print \"regression weights: \",w\n",
    "print \"bias_y: \", bias_y\n",
    "print \"initial obj value logit\", objective_logit(params, x, y, latent_dim, 0)\n",
    "\n",
    "print compute_ll (f,bias,cov_noise,x)"
   ]
  },
  {
   "cell_type": "code",
   "execution_count": 45,
   "metadata": {},
   "outputs": [
    {
     "name": "stdout",
     "output_type": "stream",
     "text": [
      "-3313.15741667153\n",
      "-2646.786138173563\n",
      "-2364.6864309623247\n",
      "-2204.345326474112\n",
      "-2202.0372081468195\n",
      "-2208.15643740998\n",
      "-2227.396188739248\n",
      "-2229.275063879517\n",
      "-2218.8440093341783\n",
      "-2199.6239973371585\n",
      "-2143.890419151141\n",
      "-2137.9726333555436\n",
      "-2139.198517194387\n",
      "-2145.1859919313147\n",
      "-2144.6250331283377\n",
      "-2136.4615853356026\n",
      "-2096.785419026465\n",
      "-2084.4126092655406\n",
      "-2078.328130895926\n",
      "-2071.629062359225\n",
      "-2063.9144558715993\n",
      "-2053.308761085127\n",
      "-2050.6899395117616\n",
      "-2052.835477433453\n",
      "-2051.8748531791775\n",
      "-2050.725302799052\n",
      "-2050.1999755287\n",
      "-2049.324318871584\n",
      "-2045.8035676230757\n",
      "-2046.4916512923094\n",
      "-2038.954721229933\n",
      "-2030.4147077304772\n",
      "-2031.6712610726443\n",
      "-2030.0929884996624\n",
      "-2029.4052968347496\n",
      "-2028.0886312080002\n",
      "-2027.3583903355493\n",
      "-2025.9016840241477\n",
      "-2024.3021069990818\n",
      "-2023.4400083328337\n",
      "-2022.609588963348\n",
      "-2022.4729686950773\n",
      "-2022.0846800763402\n",
      "-2021.5422003566796\n",
      "-2020.5417360412919\n",
      "-2020.7106374067075\n",
      "-2020.4282415102327\n",
      "-2020.0659367577855\n",
      "-2019.628229259109\n",
      "-2019.633095378074\n",
      "-2019.391786376962\n",
      "-2019.2666420174214\n",
      "-2019.1048582914364\n",
      "-2018.942019207892\n",
      "-2018.8632977627346\n",
      "-2018.7191900413131\n",
      "-2018.6519132332894\n",
      "-2018.4897899784946\n",
      "-2018.5238559494485\n",
      "-2018.4804348237067\n",
      "-2018.4403027571543\n",
      "-2018.4223476246273\n",
      "-2018.3391623076343\n",
      "-2018.3271421360564\n",
      "-2018.3039195080605\n",
      "-2018.300070135619\n",
      "-2018.2809361617583\n",
      "-2018.2384188481592\n",
      "-2018.2301075421874\n",
      "-2018.2156649357387\n",
      "-2018.2138725486582\n",
      "-2018.2064136367178\n",
      "-2018.2023510594267\n",
      "-2018.1983660080646\n",
      "-2018.1951488095895\n",
      "-2018.186679054223\n",
      "-2018.1772594282306\n",
      "-2018.1648114362338\n",
      "-2018.1443880431739\n",
      "-2018.1451741068663\n",
      "-2018.132033768954\n",
      "-2018.1217694148513\n",
      "-2018.10378444156\n",
      "-2018.1074875161441\n",
      "-2018.1018117965673\n",
      "-2018.0950656387085\n",
      "-2018.0904344295204\n",
      "-2018.088200578598\n",
      "-2018.0844543674375\n",
      "-2018.080525679055\n",
      "-2018.0754500209482\n",
      "-2018.0668951723303\n",
      "-2018.0620981847933\n",
      "-2018.0536166802835\n",
      "-2018.0536166802835\n",
      "Final parameters_logit\n",
      "logit slope [-4.3507779]\n",
      "F: [[-0.28612234]\n",
      " [ 1.24485476]]\n",
      "mean:  [-0.20350203  1.77892322]\n",
      "cov_noise matrix:  [[7.98937831 0.        ]\n",
      " [0.         7.98937831]]\n",
      "logistical regression weights:  [111595.51361296]\n",
      "bias for y:  -16126.587783327419\n",
      "final objective value: 2018.0576447649498\n"
     ]
    }
   ],
   "source": [
    "lambda_e = 100\n",
    "#run minimizer use ADAM instead?\n",
    "def pcallback(params):\n",
    "    f, bias, cov_noise, w, bias_y= decode_parameters(params, 2, 1, \"ppca\")\n",
    "    print compute_ll(f, bias, cov_noise, x)\n",
    "    \n",
    "grad_objective_logit = grad(objective_logit, argnum = 0)\n",
    "params_optimizied_logit, obj_value_logit, dict = fmin_l_bfgs_b(objective_logit, x0 = params, fprime = grad_objective_logit, args = (x,y,latent_dim,lambda_e), callback= pcallback, pgtol = 1e-2)\n",
    "f_logit, bias_logit, cov_noise_logit, w_logit, bias_y_logit = decode_parameters(params_optimizied_logit, x_dim, latent_dim, \"ppca\")\n",
    "print \"Final parameters_logit\"\n",
    "print \"logit slope\", f_logit[1]/f_logit[0]\n",
    "print \"F:\", f_logit\n",
    "print \"mean: \", bias_logit\n",
    "print \"cov_noise matrix: \", cov_noise_logit\n",
    "print \"logistical regression weights: \", w_logit\n",
    "print \"bias for y: \", bias_y_logit\n",
    "\n",
    "print \"final objective value:\", obj_value_logit"
   ]
  },
  {
   "cell_type": "code",
   "execution_count": 46,
   "metadata": {},
   "outputs": [
    {
     "name": "stdout",
     "output_type": "stream",
     "text": [
      "[[7.10405841 0.37046022]\n",
      " [0.37046022 6.4324656 ]]\n",
      "[[ 8.0712443  -0.35618076]\n",
      " [-0.35618076  9.53904168]]\n"
     ]
    }
   ],
   "source": [
    "print (np.einsum(\"dl,ml->dm\",f_fa,f_fa) + cov_noise_fa)\n",
    "print (np.einsum(\"dl,ml->dm\",f_logit,f_logit) + cov_noise_logit)"
   ]
  },
  {
   "cell_type": "code",
   "execution_count": 47,
   "metadata": {
    "scrolled": false
   },
   "outputs": [
    {
     "data": {
      "image/png": "[encoded data removed]",
      "text/plain": [
       "<Figure size 1080x360 with 3 Axes>"
      ]
     },
     "metadata": {},
     "output_type": "display_data"
    }
   ],
   "source": [
    "plt.figure(figsize=(15,5))\n",
    "\n",
    "plt.subplot(131) \n",
    "plt.suptitle(\"lambda_e = {}\".format(lambda_e))\n",
    "\n",
    "plt.title(\"Logistic projection\")\n",
    "x_proj_logit = transform(f_logit, bias_logit, cov_noise_logit, x)\n",
    "plt.plot(x_proj_logit[:n_samples_class], np.ones(n_samples_class), 'x')\n",
    "plt.plot(x_proj_logit[n_samples_class:], np.zeros(n_samples_class), 'o')\n",
    "\n",
    "plt.subplot(132) \n",
    "plt.title(\"PCA projection\")\n",
    "x_proj_fa_python = transform(f_fa, bias_fa, cov_noise_fa, x)\n",
    "\n",
    "plt.plot(x_proj_fa_python[:n_samples_class,0], np.ones(n_samples_class), 'x')\n",
    "plt.plot(x_proj_fa_python[n_samples_class:,0], np.zeros(n_samples_class), 'o')\n",
    "\n",
    "plt.subplot(133) \n",
    "plt.plot(x[:n_samples_class,0], x[:n_samples_class,1], 'x')\n",
    "plt.plot(x[n_samples_class:,0], x[n_samples_class:,1], 'o')\n",
    "a = np.array(range(int(round(np.min(x[:,0]))), 1+int(round(np.max(x[:,0]))))) \n",
    "b_pc_fa_logit = f_logit[1]/f_logit[0]*a \n",
    "#b_pc_fa_norm = f_norm[1]/f_norm[0]*a \n",
    "\n",
    "b_std_fa = f_fa[1]/f_fa[0]*a\n",
    "\n",
    "plt.plot(a, b_pc_fa_logit,  color =\"r\", label='logistic')\n",
    "#plt.plot(a, b_pc_fa_norm,  color =\"b\", label='normal')\n",
    "plt.plot(a, b_std_fa, color =\"g\", label='fa scikit')\n",
    "plt.legend()\n",
    "\n",
    "plt.savefig(\"data_lambda_e={}_logistic_norm.png\".format(lambda_e))\n",
    "plt.show()"
   ]
  },
  {
   "cell_type": "code",
   "execution_count": null,
   "metadata": {},
   "outputs": [],
   "source": []
  }
 ],
 "metadata": {
  "kernelspec": {
   "display_name": "Python 2",
   "language": "python",
   "name": "python2"
  },
  "language_info": {
   "codemirror_mode": {
    "name": "ipython",
    "version": 2
   },
   "file_extension": ".py",
   "mimetype": "text/x-python",
   "name": "python",
   "nbconvert_exporter": "python",
   "pygments_lexer": "ipython2",
   "version": "2.7.15"
  }
 },
 "nbformat": 4,
 "nbformat_minor": 2
}
