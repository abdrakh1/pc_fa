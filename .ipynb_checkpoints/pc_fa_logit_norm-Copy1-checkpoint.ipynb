{
 "cells": [
  {
   "cell_type": "code",
   "execution_count": 31,
   "metadata": {},
   "outputs": [],
   "source": [
    "import autograd.numpy as np\n",
    "from autograd import grad\n",
    "from autograd import elementwise_grad\n",
    "from scipy.optimize import fmin_l_bfgs_b\n",
    "import matplotlib.pyplot as plt\n",
    "from scipy.linalg import cho_factor, cho_solve, cholesky\n",
    "import math\n",
    "from copy import copy, deepcopy\n"
   ]
  },
  {
   "cell_type": "code",
   "execution_count": 2,
   "metadata": {},
   "outputs": [],
   "source": [
    "#build toy dataset\n",
    "def generate_samples_gauss(n_samples_class):\n",
    "    cov = np.array([[10, 2], [2, 1]])\n",
    "    mean1 = np.array([0, 0])\n",
    "    mean2 = np.array([0, 5])\n",
    "\n",
    "    total_n_samples = n_samples_class*2\n",
    "    x =  np.zeros((total_n_samples, 2))\n",
    "\n",
    "    x[:n_samples_class, 0], x[:n_samples_class, 1] = np.random.multivariate_normal(mean1, cov, n_samples_class).T\n",
    "    x[n_samples_class:, 0], x[n_samples_class:, 1]  = np.random.multivariate_normal(mean2, cov, n_samples_class).T\n",
    "\n",
    "    labels = np.zeros(total_n_samples)\n",
    "    labels[n_samples_class:] = 1\n",
    "    return x, labels"
   ]
  },
  {
   "cell_type": "code",
   "execution_count": 3,
   "metadata": {},
   "outputs": [],
   "source": [
    "def generate_samples_uniform(n_samples_class):\n",
    "    x[:,0] = np.random.rand(2*n_samples_class)\n",
    "    x[n_samples_class:,1] = x[n_samples_class:,0] + 0.1\n",
    "    x[:n_samples_class,1] = x[:n_samples_class,0] - 0.1\n",
    "    \n",
    "    labels = np.zeros(2*n_samples_class)\n",
    "    labels[n_samples_class:] = 1\n",
    "    return x, labels\n"
   ]
  },
  {
   "cell_type": "code",
   "execution_count": 4,
   "metadata": {},
   "outputs": [
    {
     "data": {
      "image/png": "[encoded data removed]",
      "text/plain": [
       "<Figure size 432x288 with 1 Axes>"
      ]
     },
     "metadata": {},
     "output_type": "display_data"
    }
   ],
   "source": [
    "n_samples_class = 200\n",
    "x, y  =  generate_samples_gauss(n_samples_class)\n",
    "plt.plot(x[:n_samples_class,0], x[:n_samples_class,1], 'x')\n",
    "plt.plot(x[n_samples_class:,0], x[n_samples_class:,1], 'o')\n",
    "\n",
    "plt.savefig(\"data_2d.png\")\n",
    "plt.show()"
   ]
  },
  {
   "cell_type": "code",
   "execution_count": 6,
   "metadata": {},
   "outputs": [],
   "source": [
    "latent_dim = 1 #suppose z is scalar\n",
    "x_dim = 2      \n",
    "params_size_norm = x_dim*latent_dim + x_dim + x_dim + latent_dim \n",
    "params_size_logit = x_dim*latent_dim + x_dim + x_dim + latent_dim + 1 \n",
    "\n",
    "params = np.random.rand(params_size_logit)\n",
    "size_f = latent_dim*x_dim\n",
    "var_init = params[size_f+x_dim:size_f+x_dim*2]"
   ]
  },
  {
   "cell_type": "code",
   "execution_count": 7,
   "metadata": {
    "scrolled": true
   },
   "outputs": [
    {
     "data": {
      "image/png": "[encoded data removed]",
      "text/plain": [
       "<Figure size 432x288 with 1 Axes>"
      ]
     },
     "metadata": {},
     "output_type": "display_data"
    }
   ],
   "source": [
    "from sklearn.decomposition import FactorAnalysis\n",
    "\n",
    "transformer = FactorAnalysis(n_components=1, random_state=0, noise_variance_init = var_init)\n",
    "#transformer = FactorAnalysis(n_components=1, random_state=0)\n",
    "x_proj_fa_python = transformer.fit_transform(x)\n",
    "f_fa_python = transformer.components_\n",
    "plt.plot(x_proj_fa_python[:n_samples_class,0], np.ones(n_samples_class), 'x')\n",
    "plt.plot(x_proj_fa_python[n_samples_class:,0], np.zeros(n_samples_class), 'o')\n",
    "\n",
    "plt.savefig('data_proj_fa_python')\n",
    "plt.show()"
   ]
  },
  {
   "cell_type": "code",
   "execution_count": 8,
   "metadata": {},
   "outputs": [
    {
     "data": {
      "text/plain": [
       "[-2771.195477611138,\n",
       " -1992.6698383581665,\n",
       " -1990.7451738012319,\n",
       " -1990.7440452890828]"
      ]
     },
     "execution_count": 8,
     "metadata": {},
     "output_type": "execute_result"
    }
   ],
   "source": [
    "transformer.loglike_"
   ]
  },
  {
   "cell_type": "code",
   "execution_count": 9,
   "metadata": {},
   "outputs": [
    {
     "data": {
      "text/plain": [
       "-1990.744045289694"
      ]
     },
     "execution_count": 9,
     "metadata": {},
     "output_type": "execute_result"
    }
   ],
   "source": [
    "f_fa = transformer.components_.T\n",
    "cov_noise_fa= np.diag(transformer.noise_variance_)\n",
    "bias_fa = np.mean(x, axis =0)\n",
    "\n",
    "def compute_ll(f,bias,cov_noise, x):\n",
    "    N = x.shape[0]\n",
    "    D = x.shape[1]\n",
    "    cov_x = np.einsum(\"dl,ml->dm\",f,f) + cov_noise\n",
    "    sign, log_det_cov_x = np.linalg.slogdet(cov_x)\n",
    "    temp1 = np.linalg.solve(cov_x, (x - bias).T)\n",
    "    ll = N*D*np.log(2*np.pi)/2\n",
    "    ll += log_det_cov_x*N/2\n",
    "    ll += np.sum(np.einsum(\"nd,dn->n\", x - bias, temp1))/2\n",
    "    return -ll\n",
    "\n",
    "compute_ll(f_fa, bias_fa, cov_noise_fa, x)"
   ]
  },
  {
   "cell_type": "code",
   "execution_count": 45,
   "metadata": {},
   "outputs": [],
   "source": [
    "def sigmoid(x):\n",
    "  return 1 / (1 + np.exp(-x))\n",
    "\n",
    "\n",
    "\n",
    "def objective_logit (params, x, y, latent_dim, lambda_e): #check the order of arguments!\n",
    "    N = x.shape[0]\n",
    "    D = x.shape[1]\n",
    "    f, bias_x, cov_noise, w, bias_y = decode_parameters_ppca(params, D, latent_dim)\n",
    "        \n",
    "    cov_x = np.einsum(\"dl,ml->dm\",f,f) + cov_noise\n",
    "    sign, log_det_cov_x = np.linalg.slogdet(cov_x)\n",
    "    \n",
    "    temp1 = np.linalg.solve(cov_x, (x - bias_x).T)\n",
    "    unnorm_log_pdf_x = np.einsum(\"nd,dn->n\", x - bias_x, temp1)\n",
    "    \n",
    "    mean_z = np.einsum(\"dl,dn->nl\", f, temp1)\n",
    "    temp2 = np.einsum(\"l,nl->n\", w, mean_z) + bias_y\n",
    "    log_bern_pdf_y = np.log(sigmoid(np.multiply((2*y-1),temp2)))\n",
    "    log_prior = 0 \n",
    "    \n",
    "    ll = N*D*np.log(2*np.pi)/2 + log_det_cov_x*0.5*N + np.sum(unnorm_log_pdf_x)*0.5 \n",
    "    ll = ll - lambda_e*np.sum(log_bern_pdf_y) - log_prior\n",
    "    return ll \n",
    "\n",
    "\n",
    "def objective_norm (params, x, y, latent_dim, lambda_e): #check the order of arguments!\n",
    "    sigma = 1 # variance for the noise in y\n",
    "    N = x.shape[0]\n",
    "    D = x.shape[1]\n",
    "    f, bias, cov_noise, w = decode_parameters(params, D, latent_dim)\n",
    "        \n",
    "    cov_x = np.einsum(\"dl,ml->dm\",f,f) + cov_noise\n",
    "    sign, log_det_cov_x = np.linalg.slogdet(cov_x)\n",
    "    \n",
    "    temp1 = np.einsum(\"dl,dm->lm\", f, np.linalg.solve(cov_x,f)) #in fact m=l <- latent dimension \n",
    "    cov_z = np.identity(latent_dim) - temp1\n",
    "    \n",
    "    #ft_covi = np.dot(f.T, np.linalg.inv(cov)) #\n",
    "    #cov_z = np.linalg.inv(np.identity(latent_dim) + np.dot(ft_covi, f))#\n",
    "    #print cov_z\n",
    "    #print cov_z\n",
    "    #print np.allclose(cov_z, cov_z)#\n",
    "    \n",
    "    var_y = np.dot(w,np.dot(cov_z,w)) + sigma**2\n",
    "    \n",
    "    ll = N*D*np.log(2*np.pi)/2+(log_det_cov_x + lambda_e*np.log(var_y))*N*0.5\n",
    "    \n",
    "    temp2 = np.linalg.solve(cov_x, (x - bias).T)\n",
    "    unnorm_log_pdf_x = np.einsum(\"nd,dn->n\", x - bias, temp2)\n",
    "    mean_z = np.einsum(\"dl,dn->nl\", f, temp2)\n",
    "    \n",
    "    #temp3 = np.dot( x - bias, ft_covi.T)#\n",
    "    #mean_z_alter = np.dot(temp3, cov_z)#\n",
    "    #print np.sum(mean_z)\n",
    "    #print np.sum(mean_z_alter)\n",
    "    \n",
    "    mean_y = np.einsum(\"l,nl->n\", w, mean_z)\n",
    "    unnorm_log_pdf_y = (y - mean_y)**2/var_y\n",
    "    ll = ll + 0.5*(np.sum(unnorm_log_pdf_x) + lambda_e*np.sum(unnorm_log_pdf_y))\n",
    "    \n",
    "    log_prior = 0 #marginals of  f,bias,cov_noiseand m for regularization use gaussian priors later\n",
    "    ll = ll - log_prior\n",
    "    #print ll\n",
    "    return ll\n",
    "\n",
    "def decode_parameters(params, D, latent_dim):\n",
    "    size_f = D*latent_dim\n",
    "    f =  params[:size_f]\n",
    "    f =  f.reshape(D, latent_dim)\n",
    "    bias = params[size_f:size_f+D]\n",
    "    var = params[size_f+D:size_f+D*2]\n",
    "    cov_noise= np.diag(np.log(1+np.exp(var)))\n",
    "    #cov_noise= np.diag(np.exp(var))\n",
    "    #cov_noise= np.diag(var)\n",
    "    w = params[size_f+D*2:]\n",
    "    return f,bias,cov_noise,w\n",
    "\n",
    "def decode_parameters_ppca(params, D, latent_dim):\n",
    "    size_f = D*latent_dim\n",
    "    f =  params[:size_f]\n",
    "    f =  f.reshape(D, latent_dim)\n",
    "    bias = params[size_f:size_f+D]\n",
    "    var = params[size_f+D]\n",
    "    cov_noise= np.diag(np.ones(D)*np.log(1+np.exp(var)))\n",
    "    w = params[size_f+D+1:]\n",
    "    return f,bias,cov_noise,w\n",
    "\n",
    "def transform(f, bias, cov_noise, x):\n",
    "    #alternative way of computing the mean_z to transform x \n",
    "    #ft_covi = np.dot(f.T, np.linalg.inv(cov_noise))\n",
    "    #cov_z = np.linalg.inv(np.identity(latent_dim) + np.dot(ft_covi, f))\n",
    "    #temp3 = np.dot( x - bias, ft_covi.T)\n",
    "    #mean_z_alter = np.dot(temp3, cov_z)\n",
    "    \n",
    "    cov_x = np.einsum(\"dl,ml->dm\",f,f) + cov_noise\n",
    "    temp = np.linalg.solve(cov_x, (x - bias).T)\n",
    "    mean_z = np.einsum(\"dl,dn->nl\", f, temp)\n",
    "    #print np.allclose(mean_z_alter, mean_z, atol=1e-11, rtol=1e-11)\n",
    "    return mean_z"
   ]
  },
  {
   "cell_type": "code",
   "execution_count": 36,
   "metadata": {},
   "outputs": [
    {
     "name": "stdout",
     "output_type": "stream",
     "text": [
      "Initial parameters\n",
      "F: [[0.85749488]\n",
      " [0.20834191]]\n",
      "slope [0.24296578]\n",
      "bias:  [0.08067321 0.82449487]\n",
      "cov_noise matrix:  [[0.98170076 0.        ]\n",
      " [0.         1.23460913]]\n",
      "regression weights:  [0.28657367 0.85528635]\n",
      "initial obj value logit (400, 1)\n",
      "(400, 2)\n",
      "3751.5369260850593\n",
      "-3751.5369260850593\n"
     ]
    }
   ],
   "source": [
    "\n",
    "f, bias, cov_noise, w =  decode_parameters(params, x_dim, latent_dim)\n",
    "print \"Initial parameters\"\n",
    "print \"F:\", f\n",
    "print \"slope\", f[1]/f[0]\n",
    "print \"bias: \", bias\n",
    "print \"cov_noise matrix: \", cov_noise\n",
    "print \"regression weights: \",w\n",
    "print \"initial obj value logit\", objective_logit(params, x, y, latent_dim, 0)\n",
    "#print \"initial obj value norm\", objective_norm(params, x, y, latent_dim, 0)\n",
    "\n",
    "print compute_ll (f,bias,cov_noise,x)"
   ]
  },
  {
   "cell_type": "code",
   "execution_count": 46,
   "metadata": {},
   "outputs": [
    {
     "name": "stdout",
     "output_type": "stream",
     "text": [
      "(400, 1)\n",
      "(400, 2)\n",
      "(400, 1)\n",
      "(400, 2)\n"
     ]
    },
    {
     "ename": "ValueError",
     "evalue": "setting an array element with a sequence.",
     "output_type": "error",
     "traceback": [
      "\u001b[0;31m---------------------------------------------------------------------------\u001b[0m",
      "\u001b[0;31mValueError\u001b[0m                                Traceback (most recent call last)",
      "\u001b[0;32m<ipython-input-46-2ebf3ca1dd56>\u001b[0m in \u001b[0;36m<module>\u001b[0;34m()\u001b[0m\n\u001b[1;32m      6\u001b[0m \u001b[0;34m\u001b[0m\u001b[0m\n\u001b[1;32m      7\u001b[0m \u001b[0mgrad_objective_logit\u001b[0m \u001b[0;34m=\u001b[0m \u001b[0mgrad\u001b[0m\u001b[0;34m(\u001b[0m\u001b[0mobjective_logit\u001b[0m\u001b[0;34m,\u001b[0m \u001b[0margnum\u001b[0m \u001b[0;34m=\u001b[0m \u001b[0;36m0\u001b[0m\u001b[0;34m)\u001b[0m\u001b[0;34m\u001b[0m\u001b[0m\n\u001b[0;32m----> 8\u001b[0;31m \u001b[0mparams_optimizied_logit\u001b[0m\u001b[0;34m,\u001b[0m \u001b[0mobj_value_logit\u001b[0m\u001b[0;34m,\u001b[0m \u001b[0mdict\u001b[0m \u001b[0;34m=\u001b[0m \u001b[0mfmin_l_bfgs_b\u001b[0m\u001b[0;34m(\u001b[0m\u001b[0mobjective_logit\u001b[0m\u001b[0;34m,\u001b[0m \u001b[0mx0\u001b[0m \u001b[0;34m=\u001b[0m \u001b[0mparams\u001b[0m\u001b[0;34m,\u001b[0m \u001b[0mfprime\u001b[0m \u001b[0;34m=\u001b[0m \u001b[0mgrad_objective_logit\u001b[0m\u001b[0;34m,\u001b[0m \u001b[0margs\u001b[0m \u001b[0;34m=\u001b[0m \u001b[0;34m(\u001b[0m\u001b[0mx\u001b[0m\u001b[0;34m,\u001b[0m\u001b[0my\u001b[0m\u001b[0;34m,\u001b[0m\u001b[0mlatent_dim\u001b[0m\u001b[0;34m,\u001b[0m\u001b[0mlambda_e\u001b[0m\u001b[0;34m)\u001b[0m\u001b[0;34m,\u001b[0m \u001b[0mcallback\u001b[0m\u001b[0;34m=\u001b[0m \u001b[0mpcallback\u001b[0m\u001b[0;34m,\u001b[0m \u001b[0mpgtol\u001b[0m \u001b[0;34m=\u001b[0m \u001b[0;36m1e-2\u001b[0m\u001b[0;34m)\u001b[0m\u001b[0;34m\u001b[0m\u001b[0m\n\u001b[0m\u001b[1;32m      9\u001b[0m \u001b[0mf_logit\u001b[0m\u001b[0;34m,\u001b[0m \u001b[0mbias_logit\u001b[0m\u001b[0;34m,\u001b[0m \u001b[0mcov_noise_logit\u001b[0m\u001b[0;34m,\u001b[0m \u001b[0mw_logit\u001b[0m \u001b[0;34m=\u001b[0m \u001b[0mdecode_parameters\u001b[0m\u001b[0;34m(\u001b[0m\u001b[0mparams_optimizied_logit\u001b[0m\u001b[0;34m,\u001b[0m \u001b[0mx_dim\u001b[0m\u001b[0;34m,\u001b[0m \u001b[0mlatent_dim\u001b[0m\u001b[0;34m)\u001b[0m\u001b[0;34m\u001b[0m\u001b[0m\n\u001b[1;32m     10\u001b[0m \u001b[0;32mprint\u001b[0m \u001b[0;34m\"Final parameters_logit\"\u001b[0m\u001b[0;34m\u001b[0m\u001b[0m\n",
      "\u001b[0;32m/anaconda2/lib/python2.7/site-packages/scipy/optimize/lbfgsb.pyc\u001b[0m in \u001b[0;36mfmin_l_bfgs_b\u001b[0;34m(func, x0, fprime, args, approx_grad, bounds, m, factr, pgtol, epsilon, iprint, maxfun, maxiter, disp, callback, maxls)\u001b[0m\n\u001b[1;32m    197\u001b[0m \u001b[0;34m\u001b[0m\u001b[0m\n\u001b[1;32m    198\u001b[0m     res = _minimize_lbfgsb(fun, x0, args=args, jac=jac, bounds=bounds,\n\u001b[0;32m--> 199\u001b[0;31m                            **opts)\n\u001b[0m\u001b[1;32m    200\u001b[0m     d = {'grad': res['jac'],\n\u001b[1;32m    201\u001b[0m          \u001b[0;34m'task'\u001b[0m\u001b[0;34m:\u001b[0m \u001b[0mres\u001b[0m\u001b[0;34m[\u001b[0m\u001b[0;34m'message'\u001b[0m\u001b[0;34m]\u001b[0m\u001b[0;34m,\u001b[0m\u001b[0;34m\u001b[0m\u001b[0m\n",
      "\u001b[0;32m/anaconda2/lib/python2.7/site-packages/scipy/optimize/lbfgsb.pyc\u001b[0m in \u001b[0;36m_minimize_lbfgsb\u001b[0;34m(fun, x0, args, jac, bounds, disp, maxcor, ftol, gtol, eps, maxfun, maxiter, iprint, callback, maxls, **unknown_options)\u001b[0m\n\u001b[1;32m    333\u001b[0m             \u001b[0;31m# until the completion of the current minimization iteration.\u001b[0m\u001b[0;34m\u001b[0m\u001b[0;34m\u001b[0m\u001b[0m\n\u001b[1;32m    334\u001b[0m             \u001b[0;31m# Overwrite f and g:\u001b[0m\u001b[0;34m\u001b[0m\u001b[0;34m\u001b[0m\u001b[0m\n\u001b[0;32m--> 335\u001b[0;31m             \u001b[0mf\u001b[0m\u001b[0;34m,\u001b[0m \u001b[0mg\u001b[0m \u001b[0;34m=\u001b[0m \u001b[0mfunc_and_grad\u001b[0m\u001b[0;34m(\u001b[0m\u001b[0mx\u001b[0m\u001b[0;34m)\u001b[0m\u001b[0;34m\u001b[0m\u001b[0m\n\u001b[0m\u001b[1;32m    336\u001b[0m         \u001b[0;32melif\u001b[0m \u001b[0mtask_str\u001b[0m\u001b[0;34m.\u001b[0m\u001b[0mstartswith\u001b[0m\u001b[0;34m(\u001b[0m\u001b[0;34mb'NEW_X'\u001b[0m\u001b[0;34m)\u001b[0m\u001b[0;34m:\u001b[0m\u001b[0;34m\u001b[0m\u001b[0m\n\u001b[1;32m    337\u001b[0m             \u001b[0;31m# new iteration\u001b[0m\u001b[0;34m\u001b[0m\u001b[0;34m\u001b[0m\u001b[0m\n",
      "\u001b[0;32m/anaconda2/lib/python2.7/site-packages/scipy/optimize/lbfgsb.pyc\u001b[0m in \u001b[0;36mfunc_and_grad\u001b[0;34m(x)\u001b[0m\n\u001b[1;32m    284\u001b[0m         \u001b[0;32mdef\u001b[0m \u001b[0mfunc_and_grad\u001b[0m\u001b[0;34m(\u001b[0m\u001b[0mx\u001b[0m\u001b[0;34m)\u001b[0m\u001b[0;34m:\u001b[0m\u001b[0;34m\u001b[0m\u001b[0m\n\u001b[1;32m    285\u001b[0m             \u001b[0mf\u001b[0m \u001b[0;34m=\u001b[0m \u001b[0mfun\u001b[0m\u001b[0;34m(\u001b[0m\u001b[0mx\u001b[0m\u001b[0;34m,\u001b[0m \u001b[0;34m*\u001b[0m\u001b[0margs\u001b[0m\u001b[0;34m)\u001b[0m\u001b[0;34m\u001b[0m\u001b[0m\n\u001b[0;32m--> 286\u001b[0;31m             \u001b[0mg\u001b[0m \u001b[0;34m=\u001b[0m \u001b[0mjac\u001b[0m\u001b[0;34m(\u001b[0m\u001b[0mx\u001b[0m\u001b[0;34m,\u001b[0m \u001b[0;34m*\u001b[0m\u001b[0margs\u001b[0m\u001b[0;34m)\u001b[0m\u001b[0;34m\u001b[0m\u001b[0m\n\u001b[0m\u001b[1;32m    287\u001b[0m             \u001b[0;32mreturn\u001b[0m \u001b[0mf\u001b[0m\u001b[0;34m,\u001b[0m \u001b[0mg\u001b[0m\u001b[0;34m\u001b[0m\u001b[0m\n\u001b[1;32m    288\u001b[0m \u001b[0;34m\u001b[0m\u001b[0m\n",
      "\u001b[0;32m/anaconda2/lib/python2.7/site-packages/autograd/wrap_util.pyc\u001b[0m in \u001b[0;36mnary_f\u001b[0;34m(*args, **kwargs)\u001b[0m\n\u001b[1;32m     18\u001b[0m             \u001b[0;32melse\u001b[0m\u001b[0;34m:\u001b[0m\u001b[0;34m\u001b[0m\u001b[0m\n\u001b[1;32m     19\u001b[0m                 \u001b[0mx\u001b[0m \u001b[0;34m=\u001b[0m \u001b[0mtuple\u001b[0m\u001b[0;34m(\u001b[0m\u001b[0margs\u001b[0m\u001b[0;34m[\u001b[0m\u001b[0mi\u001b[0m\u001b[0;34m]\u001b[0m \u001b[0;32mfor\u001b[0m \u001b[0mi\u001b[0m \u001b[0;32min\u001b[0m \u001b[0margnum\u001b[0m\u001b[0;34m)\u001b[0m\u001b[0;34m\u001b[0m\u001b[0m\n\u001b[0;32m---> 20\u001b[0;31m             \u001b[0;32mreturn\u001b[0m \u001b[0munary_operator\u001b[0m\u001b[0;34m(\u001b[0m\u001b[0munary_f\u001b[0m\u001b[0;34m,\u001b[0m \u001b[0mx\u001b[0m\u001b[0;34m,\u001b[0m \u001b[0;34m*\u001b[0m\u001b[0mnary_op_args\u001b[0m\u001b[0;34m,\u001b[0m \u001b[0;34m**\u001b[0m\u001b[0mnary_op_kwargs\u001b[0m\u001b[0;34m)\u001b[0m\u001b[0;34m\u001b[0m\u001b[0m\n\u001b[0m\u001b[1;32m     21\u001b[0m         \u001b[0;32mreturn\u001b[0m \u001b[0mnary_f\u001b[0m\u001b[0;34m\u001b[0m\u001b[0m\n\u001b[1;32m     22\u001b[0m     \u001b[0;32mreturn\u001b[0m \u001b[0mnary_operator\u001b[0m\u001b[0;34m\u001b[0m\u001b[0m\n",
      "\u001b[0;32m/anaconda2/lib/python2.7/site-packages/autograd/differential_operators.pyc\u001b[0m in \u001b[0;36mgrad\u001b[0;34m(fun, x)\u001b[0m\n\u001b[1;32m     22\u001b[0m     \u001b[0marguments\u001b[0m \u001b[0;32mas\u001b[0m \u001b[0;34m`\u001b[0m\u001b[0mfun\u001b[0m\u001b[0;34m`\u001b[0m\u001b[0;34m,\u001b[0m \u001b[0mbut\u001b[0m \u001b[0mreturns\u001b[0m \u001b[0mthe\u001b[0m \u001b[0mgradient\u001b[0m \u001b[0minstead\u001b[0m\u001b[0;34m.\u001b[0m \u001b[0mThe\u001b[0m \u001b[0mfunction\u001b[0m \u001b[0;34m`\u001b[0m\u001b[0mfun\u001b[0m\u001b[0;34m`\u001b[0m\u001b[0;34m\u001b[0m\u001b[0m\n\u001b[1;32m     23\u001b[0m     should be scalar-valued. The gradient has the same type as the argument.\"\"\"\n\u001b[0;32m---> 24\u001b[0;31m     \u001b[0mvjp\u001b[0m\u001b[0;34m,\u001b[0m \u001b[0mans\u001b[0m \u001b[0;34m=\u001b[0m \u001b[0m_make_vjp\u001b[0m\u001b[0;34m(\u001b[0m\u001b[0mfun\u001b[0m\u001b[0;34m,\u001b[0m \u001b[0mx\u001b[0m\u001b[0;34m)\u001b[0m\u001b[0;34m\u001b[0m\u001b[0m\n\u001b[0m\u001b[1;32m     25\u001b[0m     \u001b[0;32mif\u001b[0m \u001b[0;32mnot\u001b[0m \u001b[0mvspace\u001b[0m\u001b[0;34m(\u001b[0m\u001b[0mans\u001b[0m\u001b[0;34m)\u001b[0m\u001b[0;34m.\u001b[0m\u001b[0msize\u001b[0m \u001b[0;34m==\u001b[0m \u001b[0;36m1\u001b[0m\u001b[0;34m:\u001b[0m\u001b[0;34m\u001b[0m\u001b[0m\n\u001b[1;32m     26\u001b[0m         raise TypeError(\"Grad only applies to real scalar-output functions. \"\n",
      "\u001b[0;32m/anaconda2/lib/python2.7/site-packages/autograd/core.pyc\u001b[0m in \u001b[0;36mmake_vjp\u001b[0;34m(fun, x)\u001b[0m\n\u001b[1;32m      8\u001b[0m \u001b[0;32mdef\u001b[0m \u001b[0mmake_vjp\u001b[0m\u001b[0;34m(\u001b[0m\u001b[0mfun\u001b[0m\u001b[0;34m,\u001b[0m \u001b[0mx\u001b[0m\u001b[0;34m)\u001b[0m\u001b[0;34m:\u001b[0m\u001b[0;34m\u001b[0m\u001b[0m\n\u001b[1;32m      9\u001b[0m     \u001b[0mstart_node\u001b[0m \u001b[0;34m=\u001b[0m \u001b[0mVJPNode\u001b[0m\u001b[0;34m.\u001b[0m\u001b[0mnew_root\u001b[0m\u001b[0;34m(\u001b[0m\u001b[0mx\u001b[0m\u001b[0;34m)\u001b[0m\u001b[0;34m\u001b[0m\u001b[0m\n\u001b[0;32m---> 10\u001b[0;31m     \u001b[0mend_value\u001b[0m\u001b[0;34m,\u001b[0m \u001b[0mend_node\u001b[0m \u001b[0;34m=\u001b[0m  \u001b[0mtrace\u001b[0m\u001b[0;34m(\u001b[0m\u001b[0mstart_node\u001b[0m\u001b[0;34m,\u001b[0m \u001b[0mfun\u001b[0m\u001b[0;34m,\u001b[0m \u001b[0mx\u001b[0m\u001b[0;34m)\u001b[0m\u001b[0;34m\u001b[0m\u001b[0m\n\u001b[0m\u001b[1;32m     11\u001b[0m     \u001b[0;32mif\u001b[0m \u001b[0mend_node\u001b[0m \u001b[0;32mis\u001b[0m \u001b[0mNone\u001b[0m\u001b[0;34m:\u001b[0m\u001b[0;34m\u001b[0m\u001b[0m\n\u001b[1;32m     12\u001b[0m         \u001b[0;32mdef\u001b[0m \u001b[0mvjp\u001b[0m\u001b[0;34m(\u001b[0m\u001b[0mg\u001b[0m\u001b[0;34m)\u001b[0m\u001b[0;34m:\u001b[0m \u001b[0;32mreturn\u001b[0m \u001b[0mvspace\u001b[0m\u001b[0;34m(\u001b[0m\u001b[0mx\u001b[0m\u001b[0;34m)\u001b[0m\u001b[0;34m.\u001b[0m\u001b[0mzeros\u001b[0m\u001b[0;34m(\u001b[0m\u001b[0;34m)\u001b[0m\u001b[0;34m\u001b[0m\u001b[0m\n",
      "\u001b[0;32m/anaconda2/lib/python2.7/site-packages/autograd/tracer.pyc\u001b[0m in \u001b[0;36mtrace\u001b[0;34m(start_node, fun, x)\u001b[0m\n\u001b[1;32m      8\u001b[0m     \u001b[0;32mwith\u001b[0m \u001b[0mtrace_stack\u001b[0m\u001b[0;34m.\u001b[0m\u001b[0mnew_trace\u001b[0m\u001b[0;34m(\u001b[0m\u001b[0;34m)\u001b[0m \u001b[0;32mas\u001b[0m \u001b[0mt\u001b[0m\u001b[0;34m:\u001b[0m\u001b[0;34m\u001b[0m\u001b[0m\n\u001b[1;32m      9\u001b[0m         \u001b[0mstart_box\u001b[0m \u001b[0;34m=\u001b[0m \u001b[0mnew_box\u001b[0m\u001b[0;34m(\u001b[0m\u001b[0mx\u001b[0m\u001b[0;34m,\u001b[0m \u001b[0mt\u001b[0m\u001b[0;34m,\u001b[0m \u001b[0mstart_node\u001b[0m\u001b[0;34m)\u001b[0m\u001b[0;34m\u001b[0m\u001b[0m\n\u001b[0;32m---> 10\u001b[0;31m         \u001b[0mend_box\u001b[0m \u001b[0;34m=\u001b[0m \u001b[0mfun\u001b[0m\u001b[0;34m(\u001b[0m\u001b[0mstart_box\u001b[0m\u001b[0;34m)\u001b[0m\u001b[0;34m\u001b[0m\u001b[0m\n\u001b[0m\u001b[1;32m     11\u001b[0m         \u001b[0;32mif\u001b[0m \u001b[0misbox\u001b[0m\u001b[0;34m(\u001b[0m\u001b[0mend_box\u001b[0m\u001b[0;34m)\u001b[0m \u001b[0;32mand\u001b[0m \u001b[0mend_box\u001b[0m\u001b[0;34m.\u001b[0m\u001b[0m_trace\u001b[0m \u001b[0;34m==\u001b[0m \u001b[0mstart_box\u001b[0m\u001b[0;34m.\u001b[0m\u001b[0m_trace\u001b[0m\u001b[0;34m:\u001b[0m\u001b[0;34m\u001b[0m\u001b[0m\n\u001b[1;32m     12\u001b[0m             \u001b[0;32mreturn\u001b[0m \u001b[0mend_box\u001b[0m\u001b[0;34m.\u001b[0m\u001b[0m_value\u001b[0m\u001b[0;34m,\u001b[0m \u001b[0mend_box\u001b[0m\u001b[0;34m.\u001b[0m\u001b[0m_node\u001b[0m\u001b[0;34m\u001b[0m\u001b[0m\n",
      "\u001b[0;32m/anaconda2/lib/python2.7/site-packages/autograd/wrap_util.pyc\u001b[0m in \u001b[0;36munary_f\u001b[0;34m(x)\u001b[0m\n\u001b[1;32m     13\u001b[0m                 \u001b[0;32melse\u001b[0m\u001b[0;34m:\u001b[0m\u001b[0;34m\u001b[0m\u001b[0m\n\u001b[1;32m     14\u001b[0m                     \u001b[0msubargs\u001b[0m \u001b[0;34m=\u001b[0m \u001b[0msubvals\u001b[0m\u001b[0;34m(\u001b[0m\u001b[0margs\u001b[0m\u001b[0;34m,\u001b[0m \u001b[0mzip\u001b[0m\u001b[0;34m(\u001b[0m\u001b[0margnum\u001b[0m\u001b[0;34m,\u001b[0m \u001b[0mx\u001b[0m\u001b[0;34m)\u001b[0m\u001b[0;34m)\u001b[0m\u001b[0;34m\u001b[0m\u001b[0m\n\u001b[0;32m---> 15\u001b[0;31m                 \u001b[0;32mreturn\u001b[0m \u001b[0mfun\u001b[0m\u001b[0;34m(\u001b[0m\u001b[0;34m*\u001b[0m\u001b[0msubargs\u001b[0m\u001b[0;34m,\u001b[0m \u001b[0;34m**\u001b[0m\u001b[0mkwargs\u001b[0m\u001b[0;34m)\u001b[0m\u001b[0;34m\u001b[0m\u001b[0m\n\u001b[0m\u001b[1;32m     16\u001b[0m             \u001b[0;32mif\u001b[0m \u001b[0misinstance\u001b[0m\u001b[0;34m(\u001b[0m\u001b[0margnum\u001b[0m\u001b[0;34m,\u001b[0m \u001b[0mint\u001b[0m\u001b[0;34m)\u001b[0m\u001b[0;34m:\u001b[0m\u001b[0;34m\u001b[0m\u001b[0m\n\u001b[1;32m     17\u001b[0m                 \u001b[0mx\u001b[0m \u001b[0;34m=\u001b[0m \u001b[0margs\u001b[0m\u001b[0;34m[\u001b[0m\u001b[0margnum\u001b[0m\u001b[0;34m]\u001b[0m\u001b[0;34m\u001b[0m\u001b[0m\n",
      "\u001b[0;32m<ipython-input-45-aebfa7177507>\u001b[0m in \u001b[0;36mobjective_logit\u001b[0;34m(params, x, y, latent_dim, lambda_e)\u001b[0m\n\u001b[1;32m     19\u001b[0m     \u001b[0;32mprint\u001b[0m \u001b[0mmean_z\u001b[0m\u001b[0;34m.\u001b[0m\u001b[0mshape\u001b[0m\u001b[0;34m\u001b[0m\u001b[0m\n\u001b[1;32m     20\u001b[0m     \u001b[0;32mprint\u001b[0m \u001b[0mmean_z_b\u001b[0m\u001b[0;34m.\u001b[0m\u001b[0mshape\u001b[0m\u001b[0;34m\u001b[0m\u001b[0m\n\u001b[0;32m---> 21\u001b[0;31m     \u001b[0mmean_z_b\u001b[0m\u001b[0;34m[\u001b[0m\u001b[0;34m:\u001b[0m\u001b[0;34m,\u001b[0m \u001b[0;36m1\u001b[0m\u001b[0;34m:\u001b[0m\u001b[0;34m(\u001b[0m\u001b[0mlatent_dim\u001b[0m\u001b[0;34m+\u001b[0m\u001b[0;36m1\u001b[0m\u001b[0;34m)\u001b[0m\u001b[0;34m]\u001b[0m \u001b[0;34m=\u001b[0m \u001b[0mnp\u001b[0m\u001b[0;34m.\u001b[0m\u001b[0marray\u001b[0m\u001b[0;34m(\u001b[0m\u001b[0mmean_z\u001b[0m\u001b[0;34m)\u001b[0m\u001b[0;34m\u001b[0m\u001b[0m\n\u001b[0m\u001b[1;32m     22\u001b[0m     \u001b[0mtemp2\u001b[0m \u001b[0;34m=\u001b[0m \u001b[0mnp\u001b[0m\u001b[0;34m.\u001b[0m\u001b[0meinsum\u001b[0m\u001b[0;34m(\u001b[0m\u001b[0;34m\"l,nl->n\"\u001b[0m\u001b[0;34m,\u001b[0m \u001b[0mw\u001b[0m\u001b[0;34m,\u001b[0m \u001b[0mmean_z_b\u001b[0m\u001b[0;34m)\u001b[0m\u001b[0;34m\u001b[0m\u001b[0m\n\u001b[1;32m     23\u001b[0m     \u001b[0mlog_bern_pdf_y\u001b[0m \u001b[0;34m=\u001b[0m \u001b[0mnp\u001b[0m\u001b[0;34m.\u001b[0m\u001b[0mlog\u001b[0m\u001b[0;34m(\u001b[0m\u001b[0msigmoid\u001b[0m\u001b[0;34m(\u001b[0m\u001b[0mnp\u001b[0m\u001b[0;34m.\u001b[0m\u001b[0mmultiply\u001b[0m\u001b[0;34m(\u001b[0m\u001b[0;34m(\u001b[0m\u001b[0;36m2\u001b[0m\u001b[0;34m*\u001b[0m\u001b[0my\u001b[0m\u001b[0;34m-\u001b[0m\u001b[0;36m1\u001b[0m\u001b[0;34m)\u001b[0m\u001b[0;34m,\u001b[0m\u001b[0mtemp2\u001b[0m\u001b[0;34m)\u001b[0m\u001b[0;34m)\u001b[0m\u001b[0;34m)\u001b[0m\u001b[0;34m\u001b[0m\u001b[0m\n",
      "\u001b[0;31mValueError\u001b[0m: setting an array element with a sequence."
     ]
    }
   ],
   "source": [
    "lambda_e = 10\n",
    "#run minimizer use ADAM instead?\n",
    "def pcallback(params):\n",
    "    f, bias, cov_noise, w = decode_parameters(params, 2, 1)\n",
    "    print compute_ll(f, bias, cov_noise, x)\n",
    "    \n",
    "grad_objective_logit = grad(objective_logit, argnum = 0)\n",
    "params_optimizied_logit, obj_value_logit, dict = fmin_l_bfgs_b(objective_logit, x0 = params, fprime = grad_objective_logit, args = (x,y,latent_dim,lambda_e), callback= pcallback, pgtol = 1e-2)\n",
    "f_logit, bias_logit, cov_noise_logit, w_logit = decode_parameters(params_optimizied_logit, x_dim, latent_dim)\n",
    "print \"Final parameters_logit\"\n",
    "print \"logit slope\", f_logit[1]/f_logit[0]\n",
    "print \"F:\", f_logit\n",
    "print \"mean: \", bias_logit\n",
    "print \"cov_noise matrix: \", cov_noise_logit\n",
    "print \"regression weights: \", w_logit\n",
    "print \"final objective value:\", obj_value_logit"
   ]
  },
  {
   "cell_type": "code",
   "execution_count": null,
   "metadata": {},
   "outputs": [],
   "source": [
    "print \"F fa\", f_fa \n",
    "print \"cov noise fa\", cov_noise_fa\n",
    "print \"mean of x\", bias_fa"
   ]
  },
  {
   "cell_type": "code",
   "execution_count": null,
   "metadata": {},
   "outputs": [],
   "source": [
    "print (np.einsum(\"dl,ml->dm\",f_fa,f_fa) + cov_noise_fa)\n",
    "print (np.einsum(\"dl,ml->dm\",f_logit,f_logit) + cov_noise_logit)"
   ]
  },
  {
   "cell_type": "code",
   "execution_count": null,
   "metadata": {},
   "outputs": [],
   "source": [
    "\n",
    "\n",
    "grad_objective_norm = grad(objective_norm, argnum = 0)\n",
    "params_optimizied_norm, obj_value_norm, dict = fmin_l_bfgs_b(objective_norm, x0 = params, fprime = grad_objective_norm, args = (x,y,latent_dim,lambda_e), callback= pcallback, pgtol = 1e-2)\n",
    "f_norm, bias_norm, cov_noise_norm, w_norm = decode_parameters(params_optimizied_norm, x_dim, latent_dim)\n",
    "print \"Final parameters_norm\"\n",
    "print \"norm slope\", f_norm[1]/f_norm[0]\n",
    "print \"F:\", f_norm\n",
    "print \"mean: \", bias_norm\n",
    "print \"cov_noise matrix: \", cov_noise_norm\n",
    "print \"regression weights: \", w_norm\n",
    "print \"final objective value:\", obj_value_norm\n",
    "print dict\n"
   ]
  },
  {
   "cell_type": "code",
   "execution_count": null,
   "metadata": {
    "scrolled": false
   },
   "outputs": [],
   "source": [
    "plt.figure(figsize=(15,5))\n",
    "\n",
    "plt.subplot(131) \n",
    "plt.suptitle(\"lambda_e = {}\".format(lambda_e))\n",
    "\n",
    "plt.title(\"Logistic projection\")\n",
    "x_proj_logit = transform(f_logit, bias_logit, cov_noise_logit, x)\n",
    "plt.plot(x_proj_logit[:n_samples_class], np.ones(n_samples_class), 'x')\n",
    "plt.plot(x_proj_logit[n_samples_class:], np.zeros(n_samples_class), 'o')\n",
    "\n",
    "plt.subplot(132) \n",
    "plt.title(\"FA projection\")\n",
    "x_proj_fa_python = transform(f_fa, bias_fa, cov_noise_fa, x)\n",
    "\n",
    "plt.plot(x_proj_fa_python[:n_samples_class,0], np.ones(n_samples_class), 'x')\n",
    "plt.plot(x_proj_fa_python[n_samples_class:,0], np.zeros(n_samples_class), 'o')\n",
    "\n",
    "plt.subplot(133) \n",
    "plt.plot(x[:n_samples_class,0], x[:n_samples_class,1], 'x')\n",
    "plt.plot(x[n_samples_class:,0], x[n_samples_class:,1], 'o')\n",
    "a = np.array(range(int(round(np.min(x[:,0]))), 1+int(round(np.max(x[:,0]))))) \n",
    "b_pc_fa_logit = f_logit[1]/f_logit[0]*a \n",
    "#b_pc_fa_norm = f_norm[1]/f_norm[0]*a \n",
    "\n",
    "b_std_fa = f_fa[1]/f_fa[0]*a\n",
    "\n",
    "plt.plot(a, b_pc_fa_logit,  color =\"r\", label='logistic')\n",
    "#plt.plot(a, b_pc_fa_norm,  color =\"b\", label='normal')\n",
    "plt.plot(a, b_std_fa, color =\"g\", label='fa scikit')\n",
    "plt.legend()\n",
    "\n",
    "plt.savefig(\"data_lambda_e={}_logistic_norm.png\".format(lambda_e))\n",
    "plt.show()"
   ]
  },
  {
   "cell_type": "code",
   "execution_count": null,
   "metadata": {},
   "outputs": [],
   "source": [
    "from sklearn.linear_model import LogisticRegression\n",
    "clf_fa = LogisticRegression().fit(x_proj_fa_python, y)\n",
    "clf_fa.score(x_proj_fa_python, y)"
   ]
  },
  {
   "cell_type": "code",
   "execution_count": null,
   "metadata": {},
   "outputs": [],
   "source": [
    "clf_pc = LogisticRegression().fit(x_proj_logit, y)\n",
    "clf_pc.score(x_proj_logit, y)"
   ]
  },
  {
   "cell_type": "code",
   "execution_count": null,
   "metadata": {
    "scrolled": true
   },
   "outputs": [],
   "source": [
    "clf = LogisticRegression().fit(x, y)\n",
    "clf.score(x, y)"
   ]
  },
  {
   "cell_type": "code",
   "execution_count": 19,
   "metadata": {},
   "outputs": [],
   "source": [
    "a = np.ones((10, 9+1))\n",
    "b = np.zeros((10, 9))"
   ]
  },
  {
   "cell_type": "code",
   "execution_count": 41,
   "metadata": {},
   "outputs": [],
   "source": [
    "a[:, 1:(9+1)] = b"
   ]
  },
  {
   "cell_type": "code",
   "execution_count": 42,
   "metadata": {},
   "outputs": [
    {
     "data": {
      "text/plain": [
       "array([[0., 3., 3., 3., 3., 3., 3., 3., 3., 3.],\n",
       "       [0., 3., 3., 3., 3., 3., 3., 3., 3., 3.],\n",
       "       [0., 3., 3., 3., 3., 3., 3., 3., 3., 3.],\n",
       "       [0., 3., 3., 3., 3., 3., 3., 3., 3., 3.],\n",
       "       [0., 3., 3., 3., 3., 3., 3., 3., 3., 3.],\n",
       "       [0., 3., 3., 3., 3., 3., 3., 3., 3., 3.],\n",
       "       [0., 3., 3., 3., 3., 3., 3., 3., 3., 3.],\n",
       "       [0., 3., 3., 3., 3., 3., 3., 3., 3., 3.],\n",
       "       [0., 3., 3., 3., 3., 3., 3., 3., 3., 3.],\n",
       "       [0., 3., 3., 3., 3., 3., 3., 3., 3., 3.]])"
      ]
     },
     "execution_count": 42,
     "metadata": {},
     "output_type": "execute_result"
    }
   ],
   "source": [
    "a"
   ]
  },
  {
   "cell_type": "code",
   "execution_count": 26,
   "metadata": {},
   "outputs": [
    {
     "data": {
      "text/plain": [
       "array([[0., 0., 0., 0., 0., 0., 0., 0., 0., 1.],\n",
       "       [0., 0., 0., 0., 0., 0., 0., 0., 0., 1.],\n",
       "       [0., 0., 0., 0., 0., 0., 0., 0., 0., 1.],\n",
       "       [0., 0., 0., 0., 0., 0., 0., 0., 0., 1.],\n",
       "       [0., 0., 0., 0., 0., 0., 0., 0., 0., 1.],\n",
       "       [0., 0., 0., 0., 0., 0., 0., 0., 0., 1.],\n",
       "       [0., 0., 0., 0., 0., 0., 0., 0., 0., 1.],\n",
       "       [0., 0., 0., 0., 0., 0., 0., 0., 0., 1.],\n",
       "       [0., 0., 0., 0., 0., 0., 0., 0., 0., 1.],\n",
       "       [0., 0., 0., 0., 0., 0., 0., 0., 0., 1.]])"
      ]
     },
     "execution_count": 26,
     "metadata": {},
     "output_type": "execute_result"
    }
   ],
   "source": [
    "a\n"
   ]
  },
  {
   "cell_type": "code",
   "execution_count": null,
   "metadata": {},
   "outputs": [],
   "source": []
  }
 ],
 "metadata": {
  "kernelspec": {
   "display_name": "Python 2",
   "language": "python",
   "name": "python2"
  },
  "language_info": {
   "codemirror_mode": {
    "name": "ipython",
    "version": 2
   },
   "file_extension": ".py",
   "mimetype": "text/x-python",
   "name": "python",
   "nbconvert_exporter": "python",
   "pygments_lexer": "ipython2",
   "version": "2.7.15"
  }
 },
 "nbformat": 4,
 "nbformat_minor": 2
}
