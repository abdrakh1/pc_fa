{
 "cells": [
  {
   "cell_type": "code",
   "execution_count": 1,
   "metadata": {},
   "outputs": [],
   "source": [
    "import autograd.numpy as np\n",
    "from autograd import grad\n",
    "from autograd import elementwise_grad\n",
    "from scipy.optimize import fmin_l_bfgs_b\n",
    "import matplotlib.pyplot as plt\n",
    "from scipy.linalg import cho_factor, cho_solve, cholesky\n"
   ]
  },
  {
   "cell_type": "code",
   "execution_count": 2,
   "metadata": {},
   "outputs": [],
   "source": [
    "#build toy dataset\n",
    "def generate_samples_gauss(n_samples_class):\n",
    "    cov = np.array([[10, 2], [2, 1]])\n",
    "    mean1 = np.array([0, 0])\n",
    "    mean2 = np.array([0, 5])\n",
    "\n",
    "    total_n_samples = n_samples_class*2\n",
    "    x =  np.zeros((total_n_samples, 2))\n",
    "\n",
    "    x[:n_samples_class, 0], x[:n_samples_class, 1] = np.random.multivariate_normal(mean1, cov, n_samples_class).T\n",
    "    x[n_samples_class:, 0], x[n_samples_class:, 1]  = np.random.multivariate_normal(mean2, cov, n_samples_class).T\n",
    "\n",
    "    labels = np.zeros(total_n_samples)\n",
    "    labels[n_samples_class:] = 1\n",
    "    return x, labels"
   ]
  },
  {
   "cell_type": "code",
   "execution_count": 3,
   "metadata": {},
   "outputs": [],
   "source": [
    "def generate_samples_uniform(n_samples_class):\n",
    "    x[:,0] = np.random.rand(2*n_samples_class)\n",
    "    x[n_samples_class:,1] = x[n_samples_class:,0] + 0.1\n",
    "    x[:n_samples_class,1] = x[:n_samples_class,0] - 0.1\n",
    "    \n",
    "    labels = np.zeros(2*n_samples_class)\n",
    "    labels[n_samples_class:] = 1\n",
    "    return x, labels\n"
   ]
  },
  {
   "cell_type": "code",
   "execution_count": 4,
   "metadata": {},
   "outputs": [
    {
     "data": {
      "image/png": "[encoded data removed]",
      "text/plain": [
       "<Figure size 432x288 with 1 Axes>"
      ]
     },
     "metadata": {},
     "output_type": "display_data"
    }
   ],
   "source": [
    "n_samples_class = 200\n",
    "x, y  =  generate_samples_gauss(n_samples_class)\n",
    "plt.plot(x[:n_samples_class,0], x[:n_samples_class,1], 'x')\n",
    "plt.plot(x[n_samples_class:,0], x[n_samples_class:,1], 'o')\n",
    "\n",
    "plt.savefig(\"data_2d.png\")\n",
    "plt.show()"
   ]
  },
  {
   "cell_type": "code",
   "execution_count": 23,
   "metadata": {
    "scrolled": true
   },
   "outputs": [
    {
     "data": {
      "image/png": "[encoded data removed]",
      "text/plain": [
       "<Figure size 432x288 with 1 Axes>"
      ]
     },
     "metadata": {},
     "output_type": "display_data"
    }
   ],
   "source": [
    "from sklearn.decomposition import PCA, FactorAnalysis\n",
    "transformer = PCA(svd_solver='full', n_components='mle')\n",
    "#transformer = FactorAnalysis(n_components=1, random_state=0)\n",
    "x_proj_fa_python = transformer.fit_transform(x)\n",
    "f_fa_python = transformer.components_\n",
    "plt.plot(x_proj_fa_python[:n_samples_class,0], np.ones(n_samples_class), 'x')\n",
    "plt.plot(x_proj_fa_python[n_samples_class:,0], np.zeros(n_samples_class), 'o')\n",
    "\n",
    "plt.savefig('data_proj_fa_python')\n",
    "plt.show()"
   ]
  },
  {
   "cell_type": "code",
   "execution_count": 24,
   "metadata": {},
   "outputs": [
    {
     "name": "stdout",
     "output_type": "stream",
     "text": [
      "[[0.91421901 0.40522043]]\n",
      "[-0.38471298  2.43300911]\n",
      "6.268262003230845\n"
     ]
    }
   ],
   "source": [
    "print transformer.components_\n",
    "print transformer.mean_\n",
    "print transformer.noise_variance_\n"
   ]
  },
  {
   "cell_type": "code",
   "execution_count": 26,
   "metadata": {},
   "outputs": [
    {
     "data": {
      "text/plain": [
       "-2001.4673301554344"
      ]
     },
     "execution_count": 26,
     "metadata": {},
     "output_type": "execute_result"
    }
   ],
   "source": [
    "f_fa = transformer.components_.T\n",
    "cov_noise_fa= np.diag(np.ones(x.shape[1])*transformer.noise_variance_)\n",
    "bias_fa = np.mean(x, axis =0)\n",
    "\n",
    "def compute_ll(f,bias,cov_noise, x):\n",
    "    N = x.shape[0]\n",
    "    D = x.shape[1]\n",
    "    cov_x = np.einsum(\"dl,ml->dm\",f,f) + cov_noise\n",
    "    sign, log_det_cov_x = np.linalg.slogdet(cov_x)\n",
    "    temp1 = np.linalg.solve(cov_x, (x - bias).T)\n",
    "    ll = N*D*np.log(2*np.pi)/2\n",
    "    ll += log_det_cov_x*N/2\n",
    "    ll += np.sum(np.einsum(\"nd,dn->n\", x - bias, temp1))/2\n",
    "    return -ll\n",
    "\n",
    "compute_ll(f_fa, bias_fa, cov_noise_fa, x)"
   ]
  },
  {
   "cell_type": "code",
   "execution_count": 42,
   "metadata": {},
   "outputs": [],
   "source": [
    "def sigmoid(x):\n",
    "  return 1 / (1 + np.exp(-x))\n",
    "\n",
    "def objective_logit (params, x, y, latent_dim, lambda_e): #check the order of arguments!\n",
    "    N = x.shape[0]\n",
    "    D = x.shape[1]\n",
    "    f, bias_x, cov_noise, w, bias_y = decode_parameters_ppca(params, D, latent_dim)\n",
    "        \n",
    "    cov_x = np.einsum(\"dl,ml->dm\",f,f) + cov_noise\n",
    "    sign, log_det_cov_x = np.linalg.slogdet(cov_x)\n",
    "    \n",
    "    temp1 = np.linalg.solve(cov_x, (x - bias_x).T)\n",
    "    unnorm_log_pdf_x = np.einsum(\"nd,dn->n\", x - bias_x, temp1)\n",
    "    \n",
    "    mean_z = np.einsum(\"dl,dn->nl\", f, temp1)\n",
    "    temp2 = np.einsum(\"l,nl->n\", w, mean_z) + bias_y\n",
    "    log_bern_pdf_y = np.log(sigmoid(np.multiply((2*y-1),temp2)))\n",
    "    log_prior = 0 \n",
    "    \n",
    "    ll = N*D*np.log(2*np.pi)/2 + log_det_cov_x*0.5*N + np.sum(unnorm_log_pdf_x)*0.5 \n",
    "    ll = ll - lambda_e*np.sum(log_bern_pdf_y) - log_prior\n",
    "    return ll \n",
    "\n",
    "def decode_parameters_ppca(params, D, latent_dim):\n",
    "    size_f = D*latent_dim\n",
    "    f =  params[:size_f]\n",
    "    f =  f.reshape(D, latent_dim)\n",
    "    bias_x = params[size_f:size_f+D]\n",
    "    var = params[size_f+D]\n",
    "    cov_noise= np.diag(np.ones(D)*np.log(1+np.exp(var)))\n",
    "    bias_y = params[size_f+D+1]\n",
    "    w = params[size_f+D+2:]\n",
    "    return f, bias_x, cov_noise, w, bias_y\n",
    "\n",
    "def decode_parameters(params, D, latent_dim, opt1):\n",
    "    size_f = D*latent_dim\n",
    "    f =  params[:size_f]\n",
    "    f =  f.reshape(D, latent_dim)\n",
    "    bias_x = params[size_f:size_f+D]\n",
    "    if (opt1==\"ppca\"):\n",
    "        var = params[size_f+D]\n",
    "        cov_noise= np.diag(np.ones(D)*np.log(1+np.exp(var)))\n",
    "    else:\n",
    "        cov_noise= np.diag(np.log(1+np.exp(var)))\n",
    "\n",
    "    bias_y = params[size_f+D+1]\n",
    "    w = params[size_f+D+2:]\n",
    "    \n",
    "    return f, bias_x, cov_noise, w, bias_y\n",
    "\n",
    "def transform(f, bias, cov_noise, x):\n",
    "    #alternative way of computing the mean_z to transform x \n",
    "    #ft_covi = np.dot(f.T, np.linalg.inv(cov_noise))\n",
    "    #cov_z = np.linalg.inv(np.identity(latent_dim) + np.dot(ft_covi, f))\n",
    "    #temp3 = np.dot( x - bias, ft_covi.T)\n",
    "    #mean_z_alter = np.dot(temp3, cov_z)\n",
    "    \n",
    "    cov_x = np.einsum(\"dl,ml->dm\",f,f) + cov_noise\n",
    "    temp = np.linalg.solve(cov_x, (x - bias).T)\n",
    "    mean_z = np.einsum(\"dl,dn->nl\", f, temp)\n",
    "    #print np.allclose(mean_z_alter, mean_z, atol=1e-11, rtol=1e-11)\n",
    "    return mean_z"
   ]
  },
  {
   "cell_type": "code",
   "execution_count": 43,
   "metadata": {},
   "outputs": [
    {
     "name": "stdout",
     "output_type": "stream",
     "text": [
      "Initial parameters\n",
      "F: [[0.68178164]\n",
      " [0.88324641]]\n",
      "slope [1.29549749]\n",
      "bias_x:  [0.2229104  0.22159399]\n",
      "cov_noise matrix:  [[0.88898239 0.        ]\n",
      " [0.         0.88898239]]\n",
      "regression weights:  [0.60806246]\n",
      "bias_y:  0.21607841984036247\n",
      "initial obj value logit 4377.14068500294\n",
      "-4377.14068500294\n"
     ]
    }
   ],
   "source": [
    "latent_dim = 1 #suppose z is scalar\n",
    "x_dim = 2      \n",
    "params_size_ppca = x_dim*latent_dim + x_dim + 1 + 1 + latent_dim \n",
    "size_f = x_dim*latent_dim\n",
    "params = np.random.rand(params_size_ppca)\n",
    "f, bias, cov_noise, w, bias_y =  decode_parameters(params, x_dim, latent_dim, \"ppca\")\n",
    "print \"Initial parameters\"\n",
    "print \"F:\", f\n",
    "print \"slope\", f[1]/f[0]\n",
    "print \"bias_x: \", bias\n",
    "print \"cov_noise matrix: \", cov_noise\n",
    "print \"regression weights: \",w\n",
    "print \"bias_y: \", bias_y\n",
    "print \"initial obj value logit\", objective_logit(params, x, y, latent_dim, 0)\n",
    "\n",
    "print compute_ll (f,bias,cov_noise,x)"
   ]
  },
  {
   "cell_type": "code",
   "execution_count": 38,
   "metadata": {},
   "outputs": [
    {
     "name": "stdout",
     "output_type": "stream",
     "text": [
      "-4326.8088534826165\n",
      "-3794.9984650612573\n",
      "-3486.7645307643784\n",
      "-3120.0450029507488\n",
      "-2773.152218969247\n",
      "-2608.0239355847325\n",
      "-2407.393173286562\n",
      "-2275.5631738008246\n",
      "-2189.3368359801666\n",
      "-2127.424479690661\n",
      "-2090.1890279022896\n",
      "-2069.739177659855\n",
      "-2059.029202989781\n",
      "-2051.808916199061\n",
      "-2054.44693738033\n",
      "-2055.8699606386226\n",
      "-2057.4385641105505\n",
      "-2057.9724350161596\n",
      "-2056.2894837519207\n",
      "-2049.7327228682375\n",
      "-2035.7165945675097\n",
      "-2031.4359488649961\n",
      "-2030.648184611941\n",
      "-2023.4696005075675\n",
      "-2019.013154481458\n",
      "-2017.3506860788875\n",
      "-2013.2021447386117\n",
      "-2011.1045553249182\n",
      "-2009.5516816161198\n",
      "-2007.1953806721258\n",
      "-2005.4783502975688\n",
      "-2003.456430404639\n",
      "-2004.4504049728375\n",
      "-2002.2608671946573\n",
      "-2000.988576756691\n",
      "-2000.6953315464516\n",
      "-2000.0962375526726\n",
      "-1999.5671451656997\n",
      "-1999.055689727806\n",
      "-1998.914676016426\n",
      "-1998.6742346776355\n",
      "-1998.274942670619\n",
      "-1998.1138347683677\n",
      "-1997.8688705322206\n",
      "-1997.7394678016776\n",
      "-1997.657940633177\n",
      "-1997.6170777720572\n",
      "-1997.5567192465674\n",
      "-1997.5152277840466\n",
      "-1997.4974416712412\n",
      "-1997.4828250494\n",
      "-1997.4656572753202\n",
      "-1997.4229477241133\n",
      "-1997.39779125208\n",
      "-1997.3916357725664\n",
      "-1997.3904235922364\n",
      "-1997.3890468435475\n",
      "-1997.3840604974214\n",
      "-1997.3848887133645\n",
      "-1997.3811445789836\n",
      "-1997.3790214479704\n",
      "-1997.3773890521754\n",
      "-1997.3783085850848\n",
      "-1997.3741880519196\n",
      "-1997.371799057711\n",
      "-1997.3701336220377\n",
      "-1997.3688573257805\n",
      "-1997.3693587222856\n",
      "-1997.3687336402227\n",
      "-1997.3675702638368\n",
      "-1997.3669115376651\n",
      "-1997.3661399737578\n",
      "-1997.3650988280533\n",
      "-1997.365598920487\n",
      "-1997.3654417944745\n",
      "-1997.364545114989\n",
      "-1997.3648288681634\n",
      "-1997.3647396516694\n",
      "-1997.3644931147703\n",
      "-1997.3643309375716\n",
      "-1997.3638293683284\n",
      "-1997.363695202118\n",
      "-1997.3633141005366\n",
      "-1997.3631114446152\n",
      "-1997.3630275342487\n",
      "-1997.3630275342487\n",
      "Final parameters_logit\n",
      "logit slope [-4.41281033]\n",
      "F: [[-0.00918378]\n",
      " [ 0.0405263 ]]\n",
      "mean:  [-0.38662187  2.43411887]\n",
      "cov_noise matrix:  [[8.63616023 0.        ]\n",
      " [0.         8.63616023]]\n",
      "logistical regression weights:  [67195.75026527]\n",
      "bias for y:  172.99069729880392\n",
      "final objective value: 1997.3631954817763\n"
     ]
    }
   ],
   "source": [
    "lambda_e = 100\n",
    "#run minimizer use ADAM instead?\n",
    "def pcallback(params):\n",
    "    f, bias, cov_noise, w, bias_y= decode_parameters_ppca(params, 2, 1)\n",
    "    print compute_ll(f, bias, cov_noise, x)\n",
    "    \n",
    "grad_objective_logit = grad(objective_logit, argnum = 0)\n",
    "params_optimizied_logit, obj_value_logit, dict = fmin_l_bfgs_b(objective_logit, x0 = params, fprime = grad_objective_logit, args = (x,y,latent_dim,lambda_e), callback= pcallback, pgtol = 1e-2)\n",
    "f_logit, bias_logit, cov_noise_logit, w_logit, bias_y_logit = decode_parameters_ppca(params_optimizied_logit, x_dim, latent_dim)\n",
    "print \"Final parameters_logit\"\n",
    "print \"logit slope\", f_logit[1]/f_logit[0]\n",
    "print \"F:\", f_logit\n",
    "print \"mean: \", bias_logit\n",
    "print \"cov_noise matrix: \", cov_noise_logit\n",
    "print \"logistical regression weights: \", w_logit\n",
    "print \"bias for y: \", bias_y_logit\n",
    "\n",
    "print \"final objective value:\", obj_value_logit"
   ]
  },
  {
   "cell_type": "code",
   "execution_count": 15,
   "metadata": {},
   "outputs": [
    {
     "name": "stdout",
     "output_type": "stream",
     "text": [
      "[[10.23039936  1.76319184]\n",
      " [ 1.76319184  7.03310635]]\n",
      "[[10.23074313  1.76284065]\n",
      " [ 1.76284065  7.03464735]]\n"
     ]
    }
   ],
   "source": [
    "print (np.einsum(\"dl,ml->dm\",f_fa,f_fa) + cov_noise_fa)\n",
    "print (np.einsum(\"dl,ml->dm\",f_logit,f_logit) + cov_noise_logit)"
   ]
  },
  {
   "cell_type": "code",
   "execution_count": 40,
   "metadata": {
    "scrolled": false
   },
   "outputs": [
    {
     "data": {
      "image/png": "[encoded data removed]",
      "text/plain": [
       "<Figure size 1080x360 with 3 Axes>"
      ]
     },
     "metadata": {},
     "output_type": "display_data"
    }
   ],
   "source": [
    "plt.figure(figsize=(15,5))\n",
    "\n",
    "plt.subplot(131) \n",
    "plt.suptitle(\"lambda_e = {}\".format(lambda_e))\n",
    "\n",
    "plt.title(\"Logistic projection\")\n",
    "x_proj_logit = transform(f_logit, bias_logit, cov_noise_logit, x)\n",
    "plt.plot(x_proj_logit[:n_samples_class], np.ones(n_samples_class), 'x')\n",
    "plt.plot(x_proj_logit[n_samples_class:], np.zeros(n_samples_class), 'o')\n",
    "\n",
    "plt.subplot(132) \n",
    "plt.title(\"PCA projection\")\n",
    "x_proj_fa_python = transform(f_fa, bias_fa, cov_noise_fa, x)\n",
    "\n",
    "plt.plot(x_proj_fa_python[:n_samples_class,0], np.ones(n_samples_class), 'x')\n",
    "plt.plot(x_proj_fa_python[n_samples_class:,0], np.zeros(n_samples_class), 'o')\n",
    "\n",
    "plt.subplot(133) \n",
    "plt.plot(x[:n_samples_class,0], x[:n_samples_class,1], 'x')\n",
    "plt.plot(x[n_samples_class:,0], x[n_samples_class:,1], 'o')\n",
    "a = np.array(range(int(round(np.min(x[:,0]))), 1+int(round(np.max(x[:,0]))))) \n",
    "b_pc_fa_logit = f_logit[1]/f_logit[0]*a \n",
    "#b_pc_fa_norm = f_norm[1]/f_norm[0]*a \n",
    "\n",
    "b_std_fa = f_fa[1]/f_fa[0]*a\n",
    "\n",
    "plt.plot(a, b_pc_fa_logit,  color =\"r\", label='logistic')\n",
    "#plt.plot(a, b_pc_fa_norm,  color =\"b\", label='normal')\n",
    "plt.plot(a, b_std_fa, color =\"g\", label='fa scikit')\n",
    "plt.legend()\n",
    "\n",
    "plt.savefig(\"data_lambda_e={}_logistic_norm.png\".format(lambda_e))\n",
    "plt.show()"
   ]
  },
  {
   "cell_type": "code",
   "execution_count": null,
   "metadata": {},
   "outputs": [],
   "source": []
  }
 ],
 "metadata": {
  "kernelspec": {
   "display_name": "Python 2",
   "language": "python",
   "name": "python2"
  },
  "language_info": {
   "codemirror_mode": {
    "name": "ipython",
    "version": 2
   },
   "file_extension": ".py",
   "mimetype": "text/x-python",
   "name": "python",
   "nbconvert_exporter": "python",
   "pygments_lexer": "ipython2",
   "version": "2.7.15"
  }
 },
 "nbformat": 4,
 "nbformat_minor": 2
}
