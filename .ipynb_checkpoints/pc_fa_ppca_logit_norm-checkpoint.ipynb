{
 "cells": [
  {
   "cell_type": "code",
   "execution_count": 2,
   "metadata": {},
   "outputs": [],
   "source": [
    "import autograd.numpy as np\n",
    "from autograd import grad\n",
    "from autograd import elementwise_grad\n",
    "from scipy.optimize import fmin_l_bfgs_b\n",
    "import matplotlib.pyplot as plt\n",
    "from scipy.linalg import cho_factor, cho_solve, cholesky\n",
    "from sklearn.decomposition import FactorAnalysis\n"
   ]
  },
  {
   "cell_type": "code",
   "execution_count": 3,
   "metadata": {},
   "outputs": [],
   "source": [
    "#build toy dataset\n",
    "def generate_samples_gauss(n_samples_class):\n",
    "    cov = np.array([[10, 2], [2, 1]])\n",
    "    mean1 = np.array([0, 0])\n",
    "    mean2 = np.array([0, 5])\n",
    "\n",
    "    total_n_samples = n_samples_class*2\n",
    "    x =  np.zeros((total_n_samples, 2))\n",
    "\n",
    "    x[:n_samples_class, 0], x[:n_samples_class, 1] = np.random.multivariate_normal(mean1, cov, n_samples_class).T\n",
    "    x[n_samples_class:, 0], x[n_samples_class:, 1]  = np.random.multivariate_normal(mean2, cov, n_samples_class).T\n",
    "\n",
    "    labels = np.zeros(total_n_samples)\n",
    "    labels[n_samples_class:] = 1\n",
    "    return x, labels"
   ]
  },
  {
   "cell_type": "code",
   "execution_count": 4,
   "metadata": {},
   "outputs": [],
   "source": [
    "def generate_samples_uniform(n_samples_class):\n",
    "    x[:,0] = np.random.rand(2*n_samples_class)\n",
    "    x[n_samples_class:,1] = x[n_samples_class:,0] + 0.1\n",
    "    x[:n_samples_class,1] = x[:n_samples_class,0] - 0.1\n",
    "    \n",
    "    labels = np.zeros(2*n_samples_class)\n",
    "    labels[n_samples_class:] = 1\n",
    "    return x, labels\n"
   ]
  },
  {
   "cell_type": "code",
   "execution_count": 5,
   "metadata": {},
   "outputs": [
    {
     "data": {
      "image/png": "[encoded data removed]",
      "text/plain": [
       "<Figure size 432x288 with 1 Axes>"
      ]
     },
     "metadata": {},
     "output_type": "display_data"
    }
   ],
   "source": [
    "n_samples_class = 200\n",
    "x, y  =  generate_samples_gauss(n_samples_class)\n",
    "plt.plot(x[:n_samples_class,0], x[:n_samples_class,1], 'x')\n",
    "plt.plot(x[n_samples_class:,0], x[n_samples_class:,1], 'o')\n",
    "\n",
    "#plt.savefig(\"data_2d.png\")\n",
    "plt.show()"
   ]
  },
  {
   "cell_type": "code",
   "execution_count": 16,
   "metadata": {},
   "outputs": [
    {
     "name": "stdout",
     "output_type": "stream",
     "text": [
      "\n"
     ]
    }
   ],
   "source": [
    "latent_dim = 1 #suppose z is scalar\n",
    "x_dim = 2      \n",
    "\n",
    "params_size_logit_fa = x_dim*latent_dim + x_dim + x_dim + latent_dim + 1\n",
    "params_size_norm_fa = x_dim*latent_dim + x_dim + x_dim + latent_dim\n",
    "params_size_logit_ppca = x_dim*latent_dim + x_dim + 1 + latent_dim + 1\n",
    "params_size_norm_ppca = x_dim*latent_dim + x_dim + 1 + latent_dim \n",
    "\n",
    "params = np.random.rand(params_size_logit_fa)\n",
    "\n",
    "size_f = latent_dim*x_dim\n",
    "var_init = params[size_f+x_dim:size_f+x_dim*2]"
   ]
  },
  {
   "cell_type": "code",
   "execution_count": 11,
   "metadata": {
    "scrolled": true
   },
   "outputs": [
    {
     "data": {
      "image/png": "[encoded data removed]",
      "text/plain": [
       "<Figure size 432x288 with 1 Axes>"
      ]
     },
     "metadata": {},
     "output_type": "display_data"
    }
   ],
   "source": [
    "transformer = FactorAnalysis(n_components=1, random_state=0, noise_variance_init = var_init)\n",
    "#transformer = FactorAnalysis(n_components=1, random_state=0)\n",
    "x_proj_fa_python = transformer.fit_transform(x)\n",
    "f_fa_python = transformer.components_\n",
    "plt.plot(x_proj_fa_python[:n_samples_class,0], np.ones(n_samples_class), 'x')\n",
    "plt.plot(x_proj_fa_python[n_samples_class:,0], np.zeros(n_samples_class), 'o')\n",
    "\n",
    "plt.savefig('data_proj_fa_python')\n",
    "plt.show()"
   ]
  },
  {
   "cell_type": "code",
   "execution_count": 12,
   "metadata": {},
   "outputs": [
    {
     "data": {
      "text/plain": [
       "[-3422.8455665298507,\n",
       " -2029.5409353372647,\n",
       " -2019.6145999875682,\n",
       " -2019.5901688121114,\n",
       " -2019.5901262912578]"
      ]
     },
     "execution_count": 12,
     "metadata": {},
     "output_type": "execute_result"
    }
   ],
   "source": [
    "transformer.loglike_"
   ]
  },
  {
   "cell_type": "code",
   "execution_count": 13,
   "metadata": {},
   "outputs": [
    {
     "data": {
      "text/plain": [
       "-2019.5901262917487"
      ]
     },
     "execution_count": 13,
     "metadata": {},
     "output_type": "execute_result"
    }
   ],
   "source": [
    "f_fa = transformer.components_.T\n",
    "cov_noise_fa= np.diag(transformer.noise_variance_)\n",
    "bias_fa = np.mean(x, axis =0)\n",
    "\n",
    "def compute_ll(f,bias,cov_noise, x):\n",
    "    N = x.shape[0]\n",
    "    D = x.shape[1]\n",
    "    cov_x = np.einsum(\"dl,ml->dm\",f,f) + cov_noise\n",
    "    sign, log_det_cov_x = np.linalg.slogdet(cov_x)\n",
    "    temp1 = np.linalg.solve(cov_x, (x - bias).T)\n",
    "    ll = N*D*np.log(2*np.pi)/2\n",
    "    ll += log_det_cov_x*N/2\n",
    "    ll += np.sum(np.einsum(\"nd,dn->n\", x - bias, temp1))/2\n",
    "    return -ll\n",
    "\n",
    "compute_ll(f_fa, bias_fa, cov_noise_fa, x)"
   ]
  },
  {
   "cell_type": "code",
   "execution_count": 17,
   "metadata": {},
   "outputs": [],
   "source": [
    "def sigmoid(x):\n",
    "  return 1 / (1 + np.exp(-x))\n",
    "\n",
    "def objective_logit (params, x, y, latent_dim, lambda_e): #check the order of arguments!\n",
    "    N = x.shape[0]\n",
    "    D = x.shape[1]\n",
    "    f, bias_x, cov_noise, w = decode_parameters(params, D, latent_dim, \"fa\")\n",
    "        \n",
    "    cov_x = np.einsum(\"dl,ml->dm\",f,f) + cov_noise\n",
    "    sign, log_det_cov_x = np.linalg.slogdet(cov_x)\n",
    "    \n",
    "    temp1 = np.linalg.solve(cov_x, (x - bias_x).T)\n",
    "    unnorm_log_pdf_x = np.einsum(\"nd,dn->n\", x - bias_x, temp1)\n",
    "    \n",
    "    mean_z = np.einsum(\"dl,dn->nl\", f, temp1)\n",
    "    temp2 = np.einsum(\"l,nl->n\", w[1:], mean_z) + w[0]\n",
    "    log_bern_pdf_y = np.log(sigmoid(np.multiply((2*y-1),temp2)))\n",
    "    log_prior = 0 \n",
    "    \n",
    "    ll = N*D*np.log(2*np.pi)/2 + log_det_cov_x*0.5*N + np.sum(unnorm_log_pdf_x)*0.5 \n",
    "    ll = ll - lambda_e*np.sum(log_bern_pdf_y) - log_prior\n",
    "    return ll \n",
    "\n",
    "\n",
    "def objective_norm (params, x, y, latent_dim, lambda_e): #check the order of arguments!\n",
    "    sigma = 1 # variance for the noise in y\n",
    "    N = x.shape[0]\n",
    "    D = x.shape[1]\n",
    "    f, bias, cov_noise, w = decode_parameters(params, D, latent_dim)\n",
    "        \n",
    "    cov_x = np.einsum(\"dl,ml->dm\",f,f) + cov_noise\n",
    "    sign, log_det_cov_x = np.linalg.slogdet(cov_x)\n",
    "    \n",
    "    temp1 = np.einsum(\"dl,dm->lm\", f, np.linalg.solve(cov_x,f)) #in fact m=l <- latent dimension \n",
    "    cov_z = np.identity(latent_dim) - temp1\n",
    "\n",
    "    var_y = np.dot(w,np.dot(cov_z,w)) + sigma**2\n",
    "    \n",
    "    ll = N*D*np.log(2*np.pi)/2+(log_det_cov_x + lambda_e*np.log(var_y))*N*0.5\n",
    "    \n",
    "    temp2 = np.linalg.solve(cov_x, (x - bias).T)\n",
    "    unnorm_log_pdf_x = np.einsum(\"nd,dn->n\", x - bias, temp2)\n",
    "    mean_z = np.einsum(\"dl,dn->nl\", f, temp2)\n",
    "    mean_y = np.einsum(\"l,nl->n\", w, mean_z)\n",
    "    unnorm_log_pdf_y = (y - mean_y)**2/var_y\n",
    "    ll = ll + 0.5*(np.sum(unnorm_log_pdf_x) + lambda_e*np.sum(unnorm_log_pdf_y))\n",
    "    \n",
    "    log_prior = 0 #f,bias,cov_noise and m for regularization use gaussian priors later\n",
    "    ll = ll - log_prior\n",
    "    return ll\n",
    "\n",
    "def decode_parameters(params, D, latent_dim, opt):\n",
    "    size_f = D*latent_dim\n",
    "    f =  params[:size_f]\n",
    "    f =  f.reshape(D, latent_dim)\n",
    "    bias_x = params[size_f:size_f+D]\n",
    "    if (opt==\"ppca\"):\n",
    "        var = params[size_f+D]\n",
    "        cov_noise= np.diag(np.ones(D)*np.log(1+np.exp(var)))\n",
    "        w = params[size_f+D+1:]\n",
    "    else:\n",
    "        var = params[size_f+D:size_f+D*2]\n",
    "        cov_noise= np.diag(np.log(1+np.exp(var)))\n",
    "        w = params[size_f+D*2:]\n",
    "    return f, bias_x, cov_noise, w\n",
    "\n",
    "def transform(f, bias, cov_noise, x):\n",
    "    cov_x = np.einsum(\"dl,ml->dm\",f,f) + cov_noise\n",
    "    temp = np.linalg.solve(cov_x, (x - bias).T)\n",
    "    mean_z = np.einsum(\"dl,dn->nl\", f, temp)\n",
    "    return mean_z"
   ]
  },
  {
   "cell_type": "code",
   "execution_count": 15,
   "metadata": {},
   "outputs": [
    {
     "name": "stdout",
     "output_type": "stream",
     "text": [
      "Initial parameters\n",
      "F: [[0.83300251]\n",
      " [0.11003029]]\n",
      "slope [0.13208879]\n",
      "bias:  [0.64892622 0.84263094]\n",
      "cov_noise matrix:  [[1.24652299 0.        ]\n",
      " [0.         0.91084351]]\n",
      "regression weights:  [0.65388962 0.87176686]\n",
      "initial obj value logit 4364.857145229015\n",
      "initial obj value norm"
     ]
    },
    {
     "ename": "TypeError",
     "evalue": "decode_parameters() takes exactly 4 arguments (3 given)",
     "output_type": "error",
     "traceback": [
      "\u001b[0;31m---------------------------------------------------------------------------\u001b[0m",
      "\u001b[0;31mTypeError\u001b[0m                                 Traceback (most recent call last)",
      "\u001b[0;32m<ipython-input-15-e3d7df9eacf0>\u001b[0m in \u001b[0;36m<module>\u001b[0;34m()\u001b[0m\n\u001b[1;32m      7\u001b[0m \u001b[0;32mprint\u001b[0m \u001b[0;34m\"regression weights: \"\u001b[0m\u001b[0;34m,\u001b[0m\u001b[0mw\u001b[0m\u001b[0;34m\u001b[0m\u001b[0m\n\u001b[1;32m      8\u001b[0m \u001b[0;32mprint\u001b[0m \u001b[0;34m\"initial obj value logit\"\u001b[0m\u001b[0;34m,\u001b[0m \u001b[0mobjective_logit\u001b[0m\u001b[0;34m(\u001b[0m\u001b[0mparams\u001b[0m\u001b[0;34m,\u001b[0m \u001b[0mx\u001b[0m\u001b[0;34m,\u001b[0m \u001b[0my\u001b[0m\u001b[0;34m,\u001b[0m \u001b[0mlatent_dim\u001b[0m\u001b[0;34m,\u001b[0m \u001b[0;36m0\u001b[0m\u001b[0;34m)\u001b[0m\u001b[0;34m\u001b[0m\u001b[0m\n\u001b[0;32m----> 9\u001b[0;31m \u001b[0;32mprint\u001b[0m \u001b[0;34m\"initial obj value norm\"\u001b[0m\u001b[0;34m,\u001b[0m \u001b[0mobjective_norm\u001b[0m\u001b[0;34m(\u001b[0m\u001b[0mparams\u001b[0m\u001b[0;34m,\u001b[0m \u001b[0mx\u001b[0m\u001b[0;34m,\u001b[0m \u001b[0my\u001b[0m\u001b[0;34m,\u001b[0m \u001b[0mlatent_dim\u001b[0m\u001b[0;34m,\u001b[0m \u001b[0;36m0\u001b[0m\u001b[0;34m)\u001b[0m\u001b[0;34m\u001b[0m\u001b[0m\n\u001b[0m\u001b[1;32m     10\u001b[0m \u001b[0;32mprint\u001b[0m \u001b[0mcompute_ll\u001b[0m \u001b[0;34m(\u001b[0m\u001b[0mf\u001b[0m\u001b[0;34m,\u001b[0m\u001b[0mbias\u001b[0m\u001b[0;34m,\u001b[0m\u001b[0mcov_noise\u001b[0m\u001b[0;34m,\u001b[0m\u001b[0mx\u001b[0m\u001b[0;34m)\u001b[0m\u001b[0;34m\u001b[0m\u001b[0m\n",
      "\u001b[0;32m<ipython-input-14-0318c58394d1>\u001b[0m in \u001b[0;36mobjective_norm\u001b[0;34m(params, x, y, latent_dim, lambda_e)\u001b[0m\n\u001b[1;32m     27\u001b[0m     \u001b[0mN\u001b[0m \u001b[0;34m=\u001b[0m \u001b[0mx\u001b[0m\u001b[0;34m.\u001b[0m\u001b[0mshape\u001b[0m\u001b[0;34m[\u001b[0m\u001b[0;36m0\u001b[0m\u001b[0;34m]\u001b[0m\u001b[0;34m\u001b[0m\u001b[0m\n\u001b[1;32m     28\u001b[0m     \u001b[0mD\u001b[0m \u001b[0;34m=\u001b[0m \u001b[0mx\u001b[0m\u001b[0;34m.\u001b[0m\u001b[0mshape\u001b[0m\u001b[0;34m[\u001b[0m\u001b[0;36m1\u001b[0m\u001b[0;34m]\u001b[0m\u001b[0;34m\u001b[0m\u001b[0m\n\u001b[0;32m---> 29\u001b[0;31m     \u001b[0mf\u001b[0m\u001b[0;34m,\u001b[0m \u001b[0mbias\u001b[0m\u001b[0;34m,\u001b[0m \u001b[0mcov_noise\u001b[0m\u001b[0;34m,\u001b[0m \u001b[0mw\u001b[0m \u001b[0;34m=\u001b[0m \u001b[0mdecode_parameters\u001b[0m\u001b[0;34m(\u001b[0m\u001b[0mparams\u001b[0m\u001b[0;34m,\u001b[0m \u001b[0mD\u001b[0m\u001b[0;34m,\u001b[0m \u001b[0mlatent_dim\u001b[0m\u001b[0;34m)\u001b[0m\u001b[0;34m\u001b[0m\u001b[0m\n\u001b[0m\u001b[1;32m     30\u001b[0m \u001b[0;34m\u001b[0m\u001b[0m\n\u001b[1;32m     31\u001b[0m     \u001b[0mcov_x\u001b[0m \u001b[0;34m=\u001b[0m \u001b[0mnp\u001b[0m\u001b[0;34m.\u001b[0m\u001b[0meinsum\u001b[0m\u001b[0;34m(\u001b[0m\u001b[0;34m\"dl,ml->dm\"\u001b[0m\u001b[0;34m,\u001b[0m\u001b[0mf\u001b[0m\u001b[0;34m,\u001b[0m\u001b[0mf\u001b[0m\u001b[0;34m)\u001b[0m \u001b[0;34m+\u001b[0m \u001b[0mcov_noise\u001b[0m\u001b[0;34m\u001b[0m\u001b[0m\n",
      "\u001b[0;31mTypeError\u001b[0m: decode_parameters() takes exactly 4 arguments (3 given)"
     ]
    }
   ],
   "source": [
    "f, bias, cov_noise, w =  decode_parameters(params, x_dim, latent_dim, \"fa\")\n",
    "print \"Initial parameters\"\n",
    "print \"F:\", f\n",
    "print \"slope\", f[1]/f[0]\n",
    "print \"bias: \", bias\n",
    "print \"cov_noise matrix: \", cov_noise\n",
    "print \"regression weights: \",w\n",
    "print \"initial obj value logit\", objective_logit(params, x, y, latent_dim, 0, opt)\n",
    "print \"initial obj value norm\", objective_norm(params, x, y, latent_dim, 0, opt)\n",
    "print compute_ll (f,bias,cov_noise,x)"
   ]
  },
  {
   "cell_type": "code",
   "execution_count": null,
   "metadata": {},
   "outputs": [],
   "source": [
    "lambda_e = 10\n",
    "#run minimizer use ADAM instead?\n",
    "def pcallback(params):\n",
    "    f, bias, cov_noise, w = decode_parameters(params, 2, 1)\n",
    "    print compute_ll(f, bias, cov_noise, x)\n",
    "    \n",
    "grad_objective_logit = grad(objective_logit, argnum = 0)\n",
    "params_optimizied_logit, obj_value_logit, dict = fmin_l_bfgs_b(objective_logit, x0 = params, fprime = grad_objective_logit, args = (x,y,latent_dim,lambda_e), callback= pcallback, pgtol = 1e-2)\n",
    "f_logit, bias_logit, cov_noise_logit, w_logit = decode_parameters(params_optimizied_logit, x_dim, latent_dim)\n",
    "print \"Final parameters_logit\"\n",
    "print \"logit slope\", f_logit[1]/f_logit[0]\n",
    "print \"F:\", f_logit\n",
    "print \"mean: \", bias_logit\n",
    "print \"cov_noise matrix: \", cov_noise_logit\n",
    "print \"regression weights: \", w_logit\n",
    "print \"final objective value:\", obj_value_logit"
   ]
  },
  {
   "cell_type": "code",
   "execution_count": null,
   "metadata": {},
   "outputs": [],
   "source": [
    "print \"F fa\", f_fa \n",
    "print \"cov noise fa\", cov_noise_fa\n",
    "print \"mean of x\", bias_fa"
   ]
  },
  {
   "cell_type": "code",
   "execution_count": null,
   "metadata": {},
   "outputs": [],
   "source": [
    "print (np.einsum(\"dl,ml->dm\",f_fa,f_fa) + cov_noise_fa)\n",
    "print (np.einsum(\"dl,ml->dm\",f_logit,f_logit) + cov_noise_logit)"
   ]
  },
  {
   "cell_type": "code",
   "execution_count": null,
   "metadata": {},
   "outputs": [],
   "source": [
    "\n",
    "\n",
    "grad_objective_norm = grad(objective_norm, argnum = 0)\n",
    "params_optimizied_norm, obj_value_norm, dict = fmin_l_bfgs_b(objective_norm, x0 = params, fprime = grad_objective_norm, args = (x,y,latent_dim,lambda_e), callback= pcallback, pgtol = 1e-2)\n",
    "f_norm, bias_norm, cov_noise_norm, w_norm = decode_parameters(params_optimizied_norm, x_dim, latent_dim)\n",
    "print \"Final parameters_norm\"\n",
    "print \"norm slope\", f_norm[1]/f_norm[0]\n",
    "print \"F:\", f_norm\n",
    "print \"mean: \", bias_norm\n",
    "print \"cov_noise matrix: \", cov_noise_norm\n",
    "print \"regression weights: \", w_norm\n",
    "print \"final objective value:\", obj_value_norm\n",
    "print dict\n"
   ]
  },
  {
   "cell_type": "code",
   "execution_count": null,
   "metadata": {
    "scrolled": false
   },
   "outputs": [],
   "source": [
    "plt.figure(figsize=(15,5))\n",
    "\n",
    "plt.subplot(131) \n",
    "plt.suptitle(\"lambda_e = {}\".format(lambda_e))\n",
    "\n",
    "plt.title(\"Logistic projection\")\n",
    "x_proj_logit = transform(f_logit, bias_logit, cov_noise_logit, x)\n",
    "plt.plot(x_proj_logit[:n_samples_class], np.ones(n_samples_class), 'x')\n",
    "plt.plot(x_proj_logit[n_samples_class:], np.zeros(n_samples_class), 'o')\n",
    "\n",
    "plt.subplot(132) \n",
    "plt.title(\"FA projection\")\n",
    "x_proj_fa_python = transform(f_fa, bias_fa, cov_noise_fa, x)\n",
    "\n",
    "plt.plot(x_proj_fa_python[:n_samples_class,0], np.ones(n_samples_class), 'x')\n",
    "plt.plot(x_proj_fa_python[n_samples_class:,0], np.zeros(n_samples_class), 'o')\n",
    "\n",
    "plt.subplot(133) \n",
    "plt.plot(x[:n_samples_class,0], x[:n_samples_class,1], 'x')\n",
    "plt.plot(x[n_samples_class:,0], x[n_samples_class:,1], 'o')\n",
    "a = np.array(range(int(round(np.min(x[:,0]))), 1+int(round(np.max(x[:,0]))))) \n",
    "b_pc_fa_logit = f_logit[1]/f_logit[0]*a \n",
    "#b_pc_fa_norm = f_norm[1]/f_norm[0]*a \n",
    "\n",
    "b_std_fa = f_fa[1]/f_fa[0]*a\n",
    "\n",
    "plt.plot(a, b_pc_fa_logit,  color =\"r\", label='logistic')\n",
    "#plt.plot(a, b_pc_fa_norm,  color =\"b\", label='normal')\n",
    "plt.plot(a, b_std_fa, color =\"g\", label='fa scikit')\n",
    "plt.legend()\n",
    "\n",
    "plt.savefig(\"data_lambda_e={}_logistic_norm.png\".format(lambda_e))\n",
    "plt.show()"
   ]
  },
  {
   "cell_type": "code",
   "execution_count": null,
   "metadata": {},
   "outputs": [],
   "source": [
    "from sklearn.linear_model import LogisticRegression\n",
    "clf_fa = LogisticRegression().fit(x_proj_fa_python, y)\n",
    "clf_fa.score(x_proj_fa_python, y)"
   ]
  },
  {
   "cell_type": "code",
   "execution_count": null,
   "metadata": {},
   "outputs": [],
   "source": [
    "clf_pc = LogisticRegression().fit(x_proj_logit, y)\n",
    "clf_pc.score(x_proj_logit, y)"
   ]
  },
  {
   "cell_type": "code",
   "execution_count": null,
   "metadata": {
    "scrolled": true
   },
   "outputs": [],
   "source": [
    "clf = LogisticRegression().fit(x, y)\n",
    "clf.score(x, y)"
   ]
  },
  {
   "cell_type": "code",
   "execution_count": null,
   "metadata": {},
   "outputs": [],
   "source": [
    "a = np.ones((10, 9+1))\n",
    "b = np.zeros((10, 9))"
   ]
  },
  {
   "cell_type": "code",
   "execution_count": null,
   "metadata": {},
   "outputs": [],
   "source": [
    "a[:, 1:(9+1)] = b"
   ]
  },
  {
   "cell_type": "code",
   "execution_count": null,
   "metadata": {},
   "outputs": [],
   "source": [
    "a"
   ]
  },
  {
   "cell_type": "code",
   "execution_count": null,
   "metadata": {},
   "outputs": [],
   "source": [
    "a\n"
   ]
  },
  {
   "cell_type": "code",
   "execution_count": null,
   "metadata": {},
   "outputs": [],
   "source": []
  }
 ],
 "metadata": {
  "kernelspec": {
   "display_name": "Python 2",
   "language": "python",
   "name": "python2"
  },
  "language_info": {
   "codemirror_mode": {
    "name": "ipython",
    "version": 2
   },
   "file_extension": ".py",
   "mimetype": "text/x-python",
   "name": "python",
   "nbconvert_exporter": "python",
   "pygments_lexer": "ipython2",
   "version": "2.7.15"
  }
 },
 "nbformat": 4,
 "nbformat_minor": 2
}
