{
 "cells": [
  {
   "cell_type": "code",
   "execution_count": 1,
   "metadata": {},
   "outputs": [],
   "source": [
    "import autograd.numpy as np\n",
    "from autograd import grad, hessian\n",
    "from autograd import elementwise_grad\n",
    "from scipy.optimize import fmin_l_bfgs_b, fmin_bfgs, fmin_cg, fmin_ncg\n",
    "import matplotlib.pyplot as plt\n",
    "from scipy.linalg import cho_factor, cho_solve, cholesky\n",
    "from sklearn.decomposition import FactorAnalysis, PCA\n",
    "from sklearn.linear_model import LogisticRegression\n",
    "from autograd.misc.optimizers import adam\n",
    "import copy"
   ]
  },
  {
   "cell_type": "code",
   "execution_count": 137,
   "metadata": {},
   "outputs": [],
   "source": [
    "def sigmoid(x):\n",
    "    return 1 / (1 + np.exp(-x))\n",
    "\n",
    "def objective_logit (params, x, y, latent_dim, lambda_e, opt): #check the order of arguments!\n",
    "    N = x.shape[0]\n",
    "    D = x.shape[1]\n",
    "    f, bias_x, cov_noise, w = decode_parameters(params, D, latent_dim, opt)\n",
    "        \n",
    "    cov_x = np.einsum(\"dl,ml->dm\",f,f) + cov_noise\n",
    "    sign, log_det_cov_x = np.linalg.slogdet(cov_x)\n",
    "    \n",
    "    temp1 = np.linalg.solve(cov_x, (x - bias_x).T)\n",
    "    unnorm_log_pdf_x = np.einsum(\"nd,dn->n\", x - bias_x, temp1)\n",
    "    \n",
    "    mean_z = np.einsum(\"dl,dn->nl\", f, temp1)\n",
    "    temp2 = np.einsum(\"l,nl->n\", w[1:], mean_z) + w[0]\n",
    "    log_bern_pdf_y = np.log(sigmoid(np.multiply((2*y-1),temp2)))\n",
    "    log_prior = 0 \n",
    "    lambda_r = 1\n",
    "    reg1 = lambda_r*np.sum(f**2)\n",
    "    reg2 = lambda_r*np.sum(w**2)\n",
    "    reg = reg1+reg2\n",
    "    ll = N*D*np.log(2*np.pi)/2 + log_det_cov_x*0.5*N + np.sum(unnorm_log_pdf_x)*0.5 \n",
    "    ll = ll - lambda_e*np.sum(log_bern_pdf_y) - log_prior + reg\n",
    "    return ll\n",
    "\n",
    "def decode_parameters(params, D, latent_dim, opt):\n",
    "    size_f = D*latent_dim\n",
    "    f =  params[:size_f]\n",
    "    #f = f*np.array([0,1]) + np.array([1,0])\n",
    "    f =  f.reshape(D, latent_dim)\n",
    "    bias_x = params[size_f:size_f+D]\n",
    "    if (opt==\"ppca\"):\n",
    "        var = params[size_f+D]\n",
    "        cov_noise= np.diag(np.ones(D)*np.log(1+np.exp(var)))\n",
    "        #cov_noise= np.diag(np.ones(D)*np.exp(var))\n",
    "        w = params[size_f+D+1:]\n",
    "    else:\n",
    "        var = params[size_f+D:size_f+D*2]\n",
    "        cov_noise= np.diag(np.log(1+np.exp(var)))\n",
    "        w = params[size_f+D*2:]\n",
    "    return f, bias_x, cov_noise, w\n",
    "\n",
    "def transform(f, bias, cov_noise, x):\n",
    "    cov_x = np.einsum(\"dl,ml->dm\",f,f) + cov_noise\n",
    "    temp = np.linalg.solve(cov_x, (x - bias).T)\n",
    "    mean_z = np.einsum(\"dl,dn->nl\", f, temp)\n",
    "    return mean_z\n",
    "\n",
    "def compute_ll(f,bias,cov_noise, x):\n",
    "    N = x.shape[0]\n",
    "    D = x.shape[1]\n",
    "    cov_x = np.einsum(\"dl,ml->dm\",f,f) + cov_noise\n",
    "    sign, log_det_cov_x = np.linalg.slogdet(cov_x)\n",
    "    temp1 = np.linalg.solve(cov_x, (x - bias).T)\n",
    "    ll = N*D*np.log(2*np.pi)/2\n",
    "    ll += log_det_cov_x*N/2\n",
    "    ll += np.sum(np.einsum(\"nd,dn->n\", x - bias, temp1))/2\n",
    "    return -ll\n",
    "\n",
    "def compute_pl_logit(f, bias_x, cov_noise, w, x, y):\n",
    "    cov_x = np.einsum(\"dl,ml->dm\",f,f) + cov_noise\n",
    "    temp1 = np.linalg.solve(cov_x, (x - bias_x).T)\n",
    "    mean_z = np.einsum(\"dl,dn->nl\", f, temp1)\n",
    "    temp2 = np.einsum(\"l,nl->n\", w[1:], mean_z) + w[0]\n",
    "    log_bern_pdf_y = np.log(sigmoid(np.multiply((2*y-1),temp2)))\n",
    "    return np.sum(log_bern_pdf_y)"
   ]
  },
  {
   "cell_type": "code",
   "execution_count": 3,
   "metadata": {},
   "outputs": [],
   "source": [
    "def generate_samples_gauss(n_samples_class):\n",
    "    cov = np.array([[6, 1], [1, 2]])\n",
    "    mean1 = np.array([0, 0])\n",
    "    mean2 = np.array([0, 3])\n",
    "\n",
    "    total_n_samples = n_samples_class*2\n",
    "    x =  np.zeros((total_n_samples, 2))\n",
    "\n",
    "    x[:n_samples_class, 0], x[:n_samples_class, 1] = np.random.multivariate_normal(mean1, cov, n_samples_class).T\n",
    "    x[n_samples_class:, 0], x[n_samples_class:, 1]  = np.random.multivariate_normal(mean2, cov, n_samples_class).T\n",
    "\n",
    "    labels = np.zeros(total_n_samples)\n",
    "    labels[n_samples_class:] = 1\n",
    "    return x, labels"
   ]
  },
  {
   "cell_type": "code",
   "execution_count": 4,
   "metadata": {},
   "outputs": [
    {
     "data": {
      "image/png": "[encoded data removed]",
      "text/plain": [
       "<Figure size 432x288 with 1 Axes>"
      ]
     },
     "metadata": {},
     "output_type": "display_data"
    }
   ],
   "source": [
    "n_samples_class = 200\n",
    "x, y  =  generate_samples_gauss(n_samples_class)\n",
    "plt.plot(x[:n_samples_class,0], x[:n_samples_class,1], 'x')\n",
    "plt.plot(x[n_samples_class:,0], x[n_samples_class:,1], 'o')\n",
    "plt.show()"
   ]
  },
  {
   "cell_type": "code",
   "execution_count": 5,
   "metadata": {},
   "outputs": [],
   "source": [
    "latent_dim = 1 #suppose z is scalar\n",
    "x_dim = 2      \n",
    "size_f = latent_dim*x_dim\n",
    "\n",
    "params_size_logit_fa = x_dim*latent_dim + x_dim + x_dim + latent_dim + 1\n",
    "params_size_norm_fa = x_dim*latent_dim + x_dim + x_dim + latent_dim\n",
    "params_size_logit_ppca = x_dim*latent_dim + x_dim + 1 + latent_dim + 1\n",
    "params_size_norm_ppca = x_dim*latent_dim + x_dim + 1 + latent_dim "
   ]
  },
  {
   "cell_type": "code",
   "execution_count": 6,
   "metadata": {},
   "outputs": [],
   "source": [
    "opt = \"ppca\"\n",
    "if (opt == \"fa\"):\n",
    "    params_size = params_size_logit_fa\n",
    "else:\n",
    "    params_size = params_size_logit_ppca"
   ]
  },
  {
   "cell_type": "code",
   "execution_count": 7,
   "metadata": {
    "scrolled": true
   },
   "outputs": [
    {
     "data": {
      "image/png": "[encoded data removed]",
      "text/plain": [
       "<Figure size 432x288 with 1 Axes>"
      ]
     },
     "metadata": {},
     "output_type": "display_data"
    },
    {
     "data": {
      "text/plain": [
       "-1768.2652283708326"
      ]
     },
     "execution_count": 7,
     "metadata": {},
     "output_type": "execute_result"
    }
   ],
   "source": [
    "transformer = PCA(n_components=latent_dim)\n",
    "x_proj_fa_python = transformer.fit_transform(x)\n",
    "f_fa_python = transformer.components_\n",
    "plt.plot(x_proj_fa_python[:n_samples_class,0], np.ones(n_samples_class), 'x')\n",
    "plt.plot(x_proj_fa_python[n_samples_class:,0], np.zeros(n_samples_class), 'o')\n",
    "plt.show()\n",
    "\n",
    "f_sklearn = transformer.components_.T\n",
    "cov_noise_sklearn = np.diag(np.ones(x_dim)*transformer.noise_variance_)\n",
    "bias_sklearn = np.mean(x, axis =0)\n",
    "compute_ll(f_sklearn, bias_sklearn, cov_noise_sklearn, x)"
   ]
  },
  {
   "cell_type": "code",
   "execution_count": 8,
   "metadata": {},
   "outputs": [
    {
     "name": "stdout",
     "output_type": "stream",
     "text": [
      "F sklearn [[-0.92918475]\n",
      " [-0.36961561]]\n",
      "mean of x \n",
      "[0.1988421  1.45863086]\n",
      "cov noise sklearn\n",
      "[[3.44179118 0.        ]\n",
      " [0.         3.44179118]]\n"
     ]
    }
   ],
   "source": [
    "print \"F sklearn\", f_sklearn \n",
    "print \"mean of x \\n\", bias_sklearn \n",
    "print \"cov noise sklearn\\n\", cov_noise_sklearn \n",
    "#print transformer.loglike_"
   ]
  },
  {
   "cell_type": "code",
   "execution_count": 9,
   "metadata": {},
   "outputs": [
    {
     "name": "stdout",
     "output_type": "stream",
     "text": [
      "Initial parameters\n",
      "F: [[0.91641726]\n",
      " [0.6728759 ]]\n",
      "slope [0.73424621]\n",
      "bias:  [0.88654127 0.30036685]\n",
      "cov_noise matrix:  [[1.23255179 0.        ]\n",
      " [0.         1.23255179]]\n",
      "bias for y:\n",
      "0.6787514493106004\n",
      "logistic regression weights:\n",
      "[0.99952599]\n",
      "initial obj value logit 2337.6803235530656\n"
     ]
    }
   ],
   "source": [
    "init_params = np.random.rand(params_size)\n",
    "f, bias, cov_noise, w =  decode_parameters(init_params, x_dim, latent_dim, opt)\n",
    "print \"Initial parameters\"\n",
    "print \"F:\", f\n",
    "print \"slope\", f[1]/f[0]\n",
    "print \"bias: \", bias\n",
    "print \"cov_noise matrix: \", cov_noise\n",
    "print \"bias for y:\\n\", w[0]\n",
    "print \"logistic regression weights:\\n\", w[1:]\n",
    "print \"initial obj value logit\", objective_logit(init_params, x, y, latent_dim, 0, opt)\n"
   ]
  },
  {
   "cell_type": "code",
   "execution_count": 85,
   "metadata": {},
   "outputs": [],
   "source": [
    "batch_size = 5\n",
    "max_epoch = 50\n",
    "step_size = 0.01\n",
    "\n",
    "num_batches = int(np.ceil(x.shape[0]/batch_size))\n",
    "num_iters = num_batches*max_epoch\n",
    "def batch_indices(i):\n",
    "    idx = i % num_batches\n",
    "    return slice(idx * batch_size, (idx+1) * batch_size)\n",
    "def get_grad_obj(params, x, y, latent_dim, lambda_e, opt, batch_idx):\n",
    "\n",
    "    def opt_objective(params, batch_idx):\n",
    "        idx = batch_indices(batch_idx)\n",
    "        return objective_logit (params, x[idx], y[idx], latent_dim, lambda_e, opt)\n",
    "    return grad(opt_objective)\n"
   ]
  },
  {
   "cell_type": "code",
   "execution_count": 84,
   "metadata": {},
   "outputs": [
    {
     "name": "stdout",
     "output_type": "stream",
     "text": [
      "     Epoch     |    Obj value     |    Train accuracy\n",
      "              0|       5111.09842851|               0.645\n",
      "              1|       4428.04042837|              0.7075\n",
      "              2|       4083.71008391|              0.7725\n",
      "              3|       3805.05897603|                0.83\n",
      "              4|       3613.73723621|              0.8375\n",
      "              5|       3495.78598669|               0.845\n",
      "              6|        3419.9535466|               0.845\n",
      "              7|       3368.13207934|                0.84\n",
      "              8|       3330.80417203|                0.84\n",
      "              9|       3302.59907781|                0.84\n",
      "             10|       3280.48603225|              0.8375\n",
      "             11|       3262.67912514|              0.8375\n",
      "             12|       3248.05475941|              0.8375\n",
      "             13|       3235.86093917|               0.835\n",
      "             14|       3225.56879012|               0.835\n",
      "             15|        3216.7921986|               0.835\n",
      "             16|       3209.24128717|               0.835\n",
      "             17|       3202.69372409|               0.835\n",
      "             18|       3196.97606925|               0.835\n",
      "             19|       3191.95112592|               0.835\n",
      "             20|       3187.50907947|              0.8325\n",
      "             21|       3183.56112771|              0.8325\n",
      "             22|       3180.03480639|              0.8325\n",
      "             23|       3176.87050003|              0.8325\n",
      "             24|       3174.01879963|              0.8325\n",
      "             25|       3171.43847674|              0.8325\n",
      "             26|       3169.09491296|              0.8325\n",
      "             27|       3166.95887074|              0.8325\n",
      "             28|       3165.00552255|              0.8325\n",
      "             29|       3163.21367817|              0.8325\n",
      "             30|       3161.56516495|              0.8325\n",
      "             31|       3160.04432752|              0.8325\n",
      "             32|       3158.63762119|              0.8325\n",
      "             33|       3157.33327969|              0.8325\n",
      "             34|       3156.12104207|              0.8325\n",
      "             35|        3154.9919271|              0.8325\n",
      "             36|       3153.93804593|              0.8325\n",
      "             37|       3152.95244592|              0.8325\n",
      "             38|       3152.02897971|              0.8325\n",
      "             39|       3151.16219517|              0.8325\n",
      "             40|       3150.34724241|              0.8325\n",
      "             41|       3149.57979493|               0.835\n",
      "             42|        3148.8559826|               0.835\n",
      "             43|       3148.17233434|               0.835\n",
      "             44|       3147.52572913|               0.835\n",
      "             45|       3146.91335382|               0.835\n",
      "             46|       3146.33266677|               0.835\n",
      "             47|       3145.78136649|               0.835\n",
      "             48|       3145.25736438|               0.835\n",
      "             49|       3144.75876102|               0.835\n",
      "             50|       3144.28382558|               0.835\n",
      "             51|       3143.83097774|               0.835\n",
      "             52|       3143.39877187|               0.835\n",
      "             53|        3142.9858832|               0.835\n",
      "             54|       3142.59109554|               0.835\n",
      "             55|       3142.21329052|               0.835\n",
      "             56|       3141.85143806|               0.835\n",
      "             57|       3141.50458788|               0.835\n",
      "             58|       3141.17186203|               0.835\n",
      "             59|       3140.85244818|               0.835\n",
      "             60|       3140.54559367|               0.835\n",
      "             61|       3140.25060019|               0.835\n",
      "             62|       3139.96681899|               0.835\n",
      "             63|       3139.69364663|               0.835\n",
      "             64|        3139.4305211|               0.835\n",
      "             65|       3139.17691841|               0.835\n",
      "             66|       3138.93234942|               0.835\n",
      "             67|       3138.69635705|               0.835\n",
      "             68|       3138.46851373|               0.835\n",
      "             69|       3138.24841908|               0.835\n",
      "             70|        3138.0356978|               0.835\n",
      "             71|        3137.8299978|               0.835\n",
      "             72|       3137.63098842|               0.835\n",
      "             73|       3137.43835889|               0.835\n",
      "             74|       3137.25181683|               0.835\n",
      "             75|       3137.07108699|               0.835\n",
      "             76|          3136.89591|               0.835\n",
      "             77|       3136.72604127|               0.835\n",
      "             78|       3136.56124998|               0.835\n",
      "             79|       3136.40131815|               0.835\n",
      "             80|       3136.24603973|               0.835\n",
      "             81|       3136.09521987|               0.835\n",
      "             82|       3135.94867417|               0.835\n",
      "             83|       3135.80622799|               0.835\n",
      "             84|       3135.66771583|               0.835\n",
      "             85|       3135.53298076|               0.835\n",
      "             86|       3135.40187388|               0.835\n",
      "             87|       3135.27425383|               0.835\n",
      "             88|       3135.14998634|               0.835\n",
      "             89|       3135.02894376|               0.835\n",
      "             90|       3134.91100471|               0.835\n",
      "             91|       3134.79605371|               0.835\n",
      "             92|       3134.68398079|               0.835\n",
      "             93|       3134.57468123|               0.835\n",
      "             94|        3134.4680552|               0.835\n",
      "             95|       3134.36400754|               0.835\n",
      "             96|       3134.26244745|               0.835\n",
      "             97|       3134.16328829|               0.835\n",
      "             98|       3134.06644732|               0.835\n",
      "             99|       3133.97184549|               0.835\n",
      "0.835\n"
     ]
    }
   ],
   "source": [
    "lambda_e = 10\n",
    "\n",
    "print(\"     Epoch     |    Obj value     |    Train accuracy\")\n",
    "def print_perf(params, iter, gradient):\n",
    "    if iter % num_batches == 0:\n",
    "        obj_val = objective_logit(params, x, y, latent_dim, lambda_e, opt)\n",
    "        f, bias, cov_noise, w =  decode_parameters(params, x_dim, latent_dim, opt)\n",
    "        x_proj_logit_adam = transform(f, bias, cov_noise, x)\n",
    "        clf_pc = LogisticRegression().fit(x_proj_logit_adam, y)\n",
    "        train_acc = clf_pc.score(x_proj_logit_adam, y)\n",
    "        print(\"{:15}|{:20}|{:20}\".format(iter//num_batches, obj_val, train_acc))\n",
    "\n",
    "params_opt_adam_logit = adam(get_grad_obj(init_params, x, y, latent_dim, lambda_e, opt, iter), init_params, step_size = step_size,  callback=print_perf, num_iters=num_iters)\n",
    "\n",
    "f, bias, cov_noise, w =  decode_parameters(params_opt_adam_logit, x_dim, latent_dim, opt)\n",
    "x_proj_logit_adam = transform(f, bias, cov_noise, x)\n",
    "clf_pc = LogisticRegression().fit(x_proj_logit_adam, y)\n",
    "train_acc = clf_pc.score(x_proj_logit_adam, y)\n",
    "print train_acc"
   ]
  },
  {
   "cell_type": "code",
   "execution_count": null,
   "metadata": {},
   "outputs": [],
   "source": [
    "decode_parameters(params_optimizied_logit, x_dim, latent_dim, opt)"
   ]
  },
  {
   "cell_type": "code",
   "execution_count": 134,
   "metadata": {},
   "outputs": [
    {
     "name": "stdout",
     "output_type": "stream",
     "text": [
      "0\n",
      "1\n",
      "2\n",
      "3\n",
      "4\n",
      "5\n",
      "6\n",
      "7\n",
      "8\n",
      "9\n",
      "10\n"
     ]
    }
   ],
   "source": [
    "lambda_e_1 = 0.4\n",
    "lambda_e_2 = 0.51\n",
    "step  = 0.01\n",
    "lambda_es = np.arange(lambda_e_1,lambda_e_2,step)\n",
    "\n",
    "acc_scores = np.zeros(lambda_es.shape[0])\n",
    "obj_values_logit = np.zeros(lambda_es.shape[0])\n",
    "ll_logit = np.zeros(lambda_es.shape[0])\n",
    "pred_l_logit = np.zeros(lambda_es.shape[0])\n",
    "\n",
    "\n",
    "def callback(params):\n",
    "    print objective_logit_1(params, transformer.noise_variance_, x, y, latent_dim, lambda_es[i], opt)\n",
    "    print grad_objective_logit_1(params, transformer.noise_variance_, x, y, latent_dim, lambda_es[i], opt)\n",
    "    #print params[1]/params[0]\n",
    "    #print params[-2],\"-\",params[-1]\n",
    "    pass\n",
    "    print '\\n'\n",
    "grad_objective_logit = grad(objective_logit, argnum = 0)\n",
    "\n",
    "for i in range(lambda_es.shape[0]):\n",
    "    params_optimizied_logit, obj, dict = fmin_l_bfgs_b(objective_logit, x0 = init_params, fprime = grad_objective_logit, args = (x, y, latent_dim, lambda_es[i], opt))#, callback=callback)\n",
    "    f_logit, bias_logit, cov_noise_logit, w_logit = decode_parameters(params_optimizied_logit, x_dim, latent_dim, opt)\n",
    "    #cov_noise_logit = np.diag(np.ones(x_dim)*transformer.noise_variance_)\n",
    "    x_proj_logit = transform(f_logit, bias_logit, cov_noise_logit, x)\n",
    "    clf_pc = LogisticRegression().fit(x_proj_logit, y)\n",
    "    acc_scores[i] = clf_pc.score(x_proj_logit, y)\n",
    "    ll_logit[i] = compute_ll(f_logit, bias_logit, cov_noise_logit, x)\n",
    "    obj_values_logit[i]=  obj\n",
    "    pred_l_logit[i] =  compute_pl_logit(f_logit, bias_logit, cov_noise_logit, w_logit, x, y) \n",
    "    \n",
    "acc_scores_adam = np.zeros(lambda_es.shape[0])\n",
    "obj_values_logit_adam = np.zeros(lambda_es.shape[0])\n",
    "ll_logit_adam = np.zeros(lambda_es.shape[0])\n",
    "pred_l_logit_adam = np.zeros(lambda_es.shape[0])\n",
    "\n",
    "for i in range(lambda_es.shape[0]):\n",
    "    print i\n",
    "    params_opt_adam_logit = adam(get_grad_obj(init_params, x, y, latent_dim, lambda_es[i], opt, iter), init_params, step_size = step_size,  num_iters=num_iters)\n",
    "    \n",
    "    f_logit, bias_logit, cov_noise_logit, w_logit = decode_parameters(params_opt_adam_logit, x_dim, latent_dim, opt)\n",
    "    x_proj_logit = transform(f_logit, bias_logit, cov_noise_logit, x)\n",
    "    \n",
    "    clf_pc = LogisticRegression().fit(x_proj_logit, y)\n",
    "    acc_scores_adam[i] = clf_pc.score(x_proj_logit, y)\n",
    "    \n",
    "    ll_logit_adam[i] = compute_ll(f_logit, bias_logit, cov_noise_logit, x)\n",
    "    obj_values_logit_adam[i]=  objective_logit(params_opt_adam_logit, x, y, latent_dim, lambda_es[i], opt)\n",
    "    pred_l_logit_adam[i] =  compute_pl_logit(f_logit, bias_logit, cov_noise_logit, w_logit, x, y) "
   ]
  },
  {
   "cell_type": "code",
   "execution_count": null,
   "metadata": {},
   "outputs": [],
   "source": [
    "decode_parameters(params_opt_adam_logit, x_dim, latent_dim, opt)"
   ]
  },
  {
   "cell_type": "code",
   "execution_count": 135,
   "metadata": {},
   "outputs": [
    {
     "data": {
      "text/plain": [
       "array([0.4 , 0.41, 0.42, 0.43, 0.44, 0.45, 0.46, 0.47, 0.48, 0.49, 0.5 ])"
      ]
     },
     "execution_count": 135,
     "metadata": {},
     "output_type": "execute_result"
    }
   ],
   "source": [
    "lambda_es"
   ]
  },
  {
   "cell_type": "code",
   "execution_count": 136,
   "metadata": {},
   "outputs": [
    {
     "data": {
      "image/png": "[encoded data removed]",
      "text/plain": [
       "<Figure size 576x1440 with 4 Axes>"
      ]
     },
     "metadata": {},
     "output_type": "display_data"
    }
   ],
   "source": [
    "plt.figure(figsize=(8,20))\n",
    "\n",
    "plt.subplot(411)\n",
    "plt.title(\"Final obj values \")\n",
    "plt.xticks(np.arange(lambda_e_1,lambda_e_2, step))\n",
    "plt.plot(lambda_es, obj_values_logit,  label = \"l_bfgs_b\")\n",
    "plt.plot(lambda_es, obj_values_logit_adam,  label = \"adam\")\n",
    "plt.legend()\n",
    "\n",
    "plt.subplot(412)\n",
    "plt.title(\"Final log-likelihood\")\n",
    "plt.xticks(np.arange(lambda_e_1,lambda_e_2, step))\n",
    "plt.plot(lambda_es, ll_logit,  label = \"l_bfgs_b\")\n",
    "plt.plot(lambda_es, ll_logit_adam,  label = \"adam\")\n",
    "plt.legend()\n",
    "\n",
    "plt.subplot(413)\n",
    "plt.title(\"Train accuracy\")\n",
    "plt.xticks(np.arange(lambda_e_1,lambda_e_2, step))\n",
    "plt.plot(lambda_es, acc_scores,  label = \"l_bfgs_b\")\n",
    "plt.plot(lambda_es, acc_scores_adam,  label = \"adam\", )\n",
    "plt.legend()\n",
    "\n",
    "plt.subplot(414)\n",
    "plt.title(\"Prediction log-likelihood\")\n",
    "plt.xticks(np.arange(lambda_e_1,lambda_e_2, step))\n",
    "plt.plot(lambda_es, pred_l_logit, label = \"l_bfgs_b\")\n",
    "plt.plot(lambda_es, pred_l_logit_adam,  label = \"adam\")\n",
    "plt.legend()\n",
    "plt.xlabel(\"lambda_e\")\n",
    "\n",
    "plt.savefig(\"adam_vs_l_bfgs_b_lambda_e{},{}.png\".format(lambda_e_1, lambda_e_2))\n",
    "plt.show()\n"
   ]
  },
  {
   "cell_type": "code",
   "execution_count": 114,
   "metadata": {},
   "outputs": [
    {
     "ename": "NameError",
     "evalue": "name 'params' is not defined",
     "output_type": "error",
     "traceback": [
      "\u001b[0;31m---------------------------------------------------------------------------\u001b[0m",
      "\u001b[0;31mNameError\u001b[0m                                 Traceback (most recent call last)",
      "\u001b[0;32m<ipython-input-114-0cafd5f30578>\u001b[0m in \u001b[0;36m<module>\u001b[0;34m()\u001b[0m\n\u001b[1;32m      2\u001b[0m \u001b[0;31m#params_optimizied_logit_1, obj_value_logit, dict = fmin_l_bfgs_b(objective_logit_1, x0 = params, fprime = grad_objective_logit_1, args = (transformer.noise_variance_, x, y, latent_dim, lambda_e, opt))\u001b[0m\u001b[0;34m\u001b[0m\u001b[0;34m\u001b[0m\u001b[0m\n\u001b[1;32m      3\u001b[0m \u001b[0;34m\u001b[0m\u001b[0m\n\u001b[0;32m----> 4\u001b[0;31m \u001b[0mparams_optimizied_logit_1\u001b[0m\u001b[0;34m,\u001b[0m \u001b[0mobj_value_logit_1\u001b[0m\u001b[0;34m,\u001b[0m \u001b[0mdict\u001b[0m \u001b[0;34m=\u001b[0m \u001b[0mfmin_l_bfgs_b\u001b[0m\u001b[0;34m(\u001b[0m\u001b[0mobjective_logit\u001b[0m\u001b[0;34m,\u001b[0m \u001b[0mx0\u001b[0m \u001b[0;34m=\u001b[0m \u001b[0mparams\u001b[0m\u001b[0;34m,\u001b[0m \u001b[0mfprime\u001b[0m \u001b[0;34m=\u001b[0m \u001b[0mgrad_objective_logit\u001b[0m\u001b[0;34m,\u001b[0m \u001b[0margs\u001b[0m \u001b[0;34m=\u001b[0m \u001b[0;34m(\u001b[0m\u001b[0mx\u001b[0m\u001b[0;34m,\u001b[0m \u001b[0my\u001b[0m\u001b[0;34m,\u001b[0m \u001b[0mlatent_dim\u001b[0m\u001b[0;34m,\u001b[0m \u001b[0mlambda_e_1\u001b[0m\u001b[0;34m,\u001b[0m \u001b[0mopt\u001b[0m\u001b[0;34m)\u001b[0m\u001b[0;34m)\u001b[0m\u001b[0;34m\u001b[0m\u001b[0m\n\u001b[0m\u001b[1;32m      5\u001b[0m \u001b[0mparams_optimizied_logit_2\u001b[0m\u001b[0;34m,\u001b[0m \u001b[0mobj_value_logit_2\u001b[0m\u001b[0;34m,\u001b[0m \u001b[0mdict\u001b[0m \u001b[0;34m=\u001b[0m \u001b[0mfmin_l_bfgs_b\u001b[0m\u001b[0;34m(\u001b[0m\u001b[0mobjective_logit\u001b[0m\u001b[0;34m,\u001b[0m \u001b[0mx0\u001b[0m \u001b[0;34m=\u001b[0m \u001b[0mparams\u001b[0m\u001b[0;34m,\u001b[0m \u001b[0mfprime\u001b[0m \u001b[0;34m=\u001b[0m \u001b[0mgrad_objective_logit\u001b[0m\u001b[0;34m,\u001b[0m \u001b[0margs\u001b[0m \u001b[0;34m=\u001b[0m \u001b[0;34m(\u001b[0m\u001b[0mx\u001b[0m\u001b[0;34m,\u001b[0m \u001b[0my\u001b[0m\u001b[0;34m,\u001b[0m \u001b[0mlatent_dim\u001b[0m\u001b[0;34m,\u001b[0m \u001b[0mlambda_e_2\u001b[0m\u001b[0;34m,\u001b[0m \u001b[0mopt\u001b[0m\u001b[0;34m)\u001b[0m\u001b[0;34m)\u001b[0m\u001b[0;34m\u001b[0m\u001b[0m\n\u001b[1;32m      6\u001b[0m \u001b[0;34m\u001b[0m\u001b[0m\n",
      "\u001b[0;31mNameError\u001b[0m: name 'params' is not defined"
     ]
    }
   ],
   "source": [
    "\n",
    "#params_optimizied_logit_1, obj_value_logit, dict = fmin_l_bfgs_b(objective_logit_1, x0 = params, fprime = grad_objective_logit_1, args = (transformer.noise_variance_, x, y, latent_dim, lambda_e, opt))\n",
    "\n",
    "params_optimizied_logit_1, obj_value_logit_1, dict = fmin_l_bfgs_b(objective_logit, x0 = params, fprime = grad_objective_logit, args = (x, y, latent_dim, lambda_e_1, opt))\n",
    "params_optimizied_logit_2, obj_value_logit_2, dict = fmin_l_bfgs_b(objective_logit, x0 = params, fprime = grad_objective_logit, args = (x, y, latent_dim, lambda_e_2, opt))\n",
    "\n",
    "\n",
    "f_logit_1, bias_logit_1, cov_noise_logit_1, w_logit_1 = decode_parameters(params_optimizied_logit_1, x_dim, latent_dim, opt)\n",
    "ll_1=  compute_ll(f_logit_1, bias_logit_1, cov_noise_logit_1, x)\n",
    "pl_1 = compute_pl_logit(f_logit_1, bias_logit_1, cov_noise_logit_1, w_logit_1, x, y) \n",
    "\n",
    "f_logit_2, bias_logit_2, cov_noise_logit_2, w_logit_2 = decode_parameters(params_optimizied_logit_2, x_dim, latent_dim, opt)\n",
    "ll_2=  compute_ll(f_logit_2, bias_logit_2, cov_noise_logit_2, x)\n",
    "pl_2 = compute_pl_logit(f_logit_2, bias_logit_2, cov_noise_logit_2, w_logit_2, x, y) \n",
    "\n",
    "#lambda_es = np.arange(0,1,0.1)\n",
    "lambda_es = np.array([lambda_e_1, lambda_e_2])\n",
    "obj_values_logit = np.ones((2, lambda_es.shape[0]))\n",
    "\n",
    "for i in range(lambda_es.shape[0]):\n",
    "    obj_values_logit[0,i] = objective_logit(params_optimizied_logit_1, x, y, latent_dim, lambda_es[i], opt)\n",
    "    obj_values_logit[1,i] = objective_logit(params_optimizied_logit_2, x, y, latent_dim, lambda_es[i], opt)"
   ]
  },
  {
   "cell_type": "code",
   "execution_count": null,
   "metadata": {},
   "outputs": [],
   "source": [
    "interp = np.arange(0, 1.0, 0.01)\n",
    "obj1 = [objective_logit(params_optimizied_logit_1 * i + (1.0-i) * params_optimizied_logit_2, x, y, latent_dim, lambda_e_1, opt) for i in np.arange(0, 1, 0.01)]\n",
    "obj2 = [objective_logit(params_optimizied_logit_1 * i + (1.0-i) * params_optimizied_logit_2, x, y, latent_dim, lambda_e_2, opt) for i in np.arange(0, 1, 0.01)]\n",
    "\n",
    "plt.plot(interp, obj1)\n",
    "plt.plot(interp, obj2)"
   ]
  },
  {
   "cell_type": "code",
   "execution_count": null,
   "metadata": {},
   "outputs": [],
   "source": [
    "interp = np.arange(-0., 1.0, 0.01)\n",
    "lik =[]\n",
    "plik = []\n",
    "obj = []\n",
    "grad_objective_logit_1 = grad(objective_logit_1)\n",
    "params_start= np.random.rand(params_size)\n",
    "for i in interp:\n",
    "    slope = 3.83374105 * i + (1.0 - i) * -7.39114372\n",
    "    f_logit = np.array([1., slope]).reshape((2,1))\n",
    "    print f_logit\n",
    "    params_optimizied_logit, obj_value_logit, dict = fmin_l_bfgs_b(objective_logit_1, x0 = params_start, fprime = grad_objective_logit_1, args = (f_logit, x, y, latent_dim, lambda_e_1, opt))\n",
    "    _, bias_logit, cov_noise_logit, w_logit = decode_parameters(params_optimizied_logit, x_dim, latent_dim, opt)\n",
    "    ll =  compute_ll(f_logit, bias_logit, cov_noise_logit, x)\n",
    "    pl = compute_pl_logit(f_logit, bias_logit, cov_noise_logit, w_logit, x, y) \n",
    "    lik.append(ll)\n",
    "    plik.append(pl)\n",
    "    obj.append(obj_value_logit)\n",
    "    \n",
    "plt.plot(interp, lik, label='lik')\n",
    "#plt.plot(interp, plik, label='predictive')\n",
    "plt.legend()"
   ]
  },
  {
   "cell_type": "code",
   "execution_count": null,
   "metadata": {},
   "outputs": [],
   "source": [
    "plt.plot(interp, plik, label='predictive')\n"
   ]
  },
  {
   "cell_type": "code",
   "execution_count": null,
   "metadata": {},
   "outputs": [],
   "source": [
    "plt.plot(interp, obj)"
   ]
  },
  {
   "cell_type": "code",
   "execution_count": null,
   "metadata": {},
   "outputs": [],
   "source": [
    "obj[0], obj[-1]"
   ]
  },
  {
   "cell_type": "code",
   "execution_count": null,
   "metadata": {},
   "outputs": [],
   "source": [
    "obj_values_logit"
   ]
  },
  {
   "cell_type": "code",
   "execution_count": null,
   "metadata": {},
   "outputs": [],
   "source": [
    "w_logit_1"
   ]
  },
  {
   "cell_type": "code",
   "execution_count": null,
   "metadata": {},
   "outputs": [],
   "source": [
    "w_logit_2"
   ]
  },
  {
   "cell_type": "code",
   "execution_count": null,
   "metadata": {},
   "outputs": [],
   "source": [
    "lambda_es"
   ]
  },
  {
   "cell_type": "code",
   "execution_count": null,
   "metadata": {},
   "outputs": [],
   "source": [
    "plt.figure(figsize=(24,7))\n",
    "plt.title(\"Final obj values \")\n",
    "plt.xticks(lambda_es)\n",
    "plt.plot(lambda_es, obj_values_logit[0, :], label = \"lambda_e_1 = {}\".format(lambda_e_1))\n",
    "plt.plot(lambda_es, obj_values_logit[1, :], label = \"lambda_e_2 = {}\".format(lambda_e_2))\n",
    "plt.legend()\n",
    "plt.show()"
   ]
  },
  {
   "cell_type": "code",
   "execution_count": null,
   "metadata": {},
   "outputs": [],
   "source": []
  },
  {
   "cell_type": "code",
   "execution_count": null,
   "metadata": {},
   "outputs": [],
   "source": [
    "plt.figure(figsize=(15,15))\n",
    "\n",
    "plt.subplot(221) \n",
    "#plt.axis('equal')\n",
    "\n",
    "plt.axis('equal')\n",
    "plt.title(\"sklearn PCA projection\")\n",
    "x_proj_sklearn = transform(f_sklearn, bias_sklearn, cov_noise_sklearn, x)\n",
    "\n",
    "plt.plot(x_proj_sklearn[:n_samples_class,0], np.ones(n_samples_class), 'x')\n",
    "plt.plot(x_proj_sklearn[n_samples_class:,0], np.zeros(n_samples_class), 'o')\n",
    "\n",
    "\n",
    "plt.subplot(222) \n",
    "plt.title(\"PC PPCA projection: lambda_e = {}\".format(lambda_e_1))\n",
    "\n",
    "x_proj_logit_1 = transform(f_logit_1, bias_logit_1, cov_noise_logit_1, x)\n",
    "plt.plot(x_proj_logit_1[:n_samples_class], np.ones(n_samples_class), 'x')\n",
    "plt.plot(x_proj_logit_1[n_samples_class:], np.zeros(n_samples_class), 'o')\n",
    "\n",
    "\n",
    "plt.subplot(223)\n",
    "plt.title(\"PC PPCA projection: lambda_e = {}\".format(lambda_e_2))\n",
    "x_proj_logit_2 = transform(f_logit_2, bias_logit_2, cov_noise_logit_2, x)\n",
    "plt.plot(x_proj_logit_2[:n_samples_class], np.ones(n_samples_class), 'x')\n",
    "plt.plot(x_proj_logit_2[n_samples_class:], np.zeros(n_samples_class), 'o')\n",
    "\n",
    "\n",
    "plt.subplot(224) \n",
    "plt.axis('equal')\n",
    "clf_pc_1 = LogisticRegression().fit(x_proj_logit_1, y)\n",
    "acc_scores_1 = clf_pc.score(x_proj_logit_1, y)\n",
    "clf_pc_2 = LogisticRegression().fit(x_proj_logit_2, y)\n",
    "acc_scores_2 = clf_pc.score(x_proj_logit_2, y)\n",
    "\n",
    "    \n",
    "plt.plot(x[:n_samples_class,0], x[:n_samples_class,1], 'x')\n",
    "plt.plot(x[n_samples_class:,0], x[n_samples_class:,1], 'o')\n",
    "\n",
    "x_lim_1 = -5\n",
    "x_lim_2 = 7\n",
    "\n",
    "\n",
    "a =  np.array(range(x_lim_1, x_lim_2)) \n",
    "\n",
    "b_pc_fa_logit_1 = f_logit_1[1]/f_logit_1[0]*(a + bias_logit_1[0]) + bias_logit_1[1]\n",
    "b_pc_fa_logit_2 = f_logit_2[1]/f_logit_2[0]*(a + bias_logit_2[0]) + bias_logit_2[1]\n",
    "b_sklearn = f_sklearn[1]/f_sklearn[0]*(a + bias_sklearn [0]) + bias_sklearn [1]\n",
    "\n",
    "plt.plot(a, b_sklearn, label='sklearn pca')\n",
    "plt.plot(a, b_pc_fa_logit_1, label=\"pc ppca lambda_e = {}\".format(lambda_e_1))\n",
    "plt.plot(a, b_pc_fa_logit_2, label=\"pc ppca lambda_e = {}\".format(lambda_e_2))\n",
    "plt.ylim(x_lim_1,x_lim_2)\n",
    "\n",
    "plt.legend()\n",
    "plt.savefig(\"data_lambda_e_1={}_lambda_e_2={}_logistic_pc_ppca_vs_sklearn_pca.png\".format(lambda_e_1, lambda_e_2))\n",
    "\n",
    "plt.show()\n"
   ]
  },
  {
   "cell_type": "code",
   "execution_count": null,
   "metadata": {},
   "outputs": [],
   "source": [
    "plt.figure(figsize=(15,15))\n",
    "\n",
    "plt.subplot(221) \n",
    "#plt.axis('equal')\n",
    "\n",
    "plt.axis('equal')\n",
    "plt.title(\"sklearn PCA projection\")\n",
    "x_proj_sklearn = transform(f_sklearn, bias_sklearn, cov_noise_sklearn, x)\n",
    "\n",
    "plt.plot(x_proj_sklearn[:n_samples_class,0], np.ones(n_samples_class), 'x')\n",
    "plt.plot(x_proj_sklearn[n_samples_class:,0], np.zeros(n_samples_class), 'o')\n",
    "\n",
    "\n",
    "plt.subplot(222) \n",
    "\n",
    "plt.title(\"PC PPCA projection opt fmin_l_bfgs_b\")\n",
    "\n",
    "f_logit_1, bias_logit_1, cov_noise_logit_1, w_logit_1 = decode_parameters(params_optimizied_logit, x_dim, latent_dim, opt)\n",
    "x_proj_logit_1 = transform(f_logit_1, bias_logit_1, cov_noise_logit_1, x)\n",
    "plt.plot(x_proj_logit_1[:n_samples_class], np.ones(n_samples_class), 'x')\n",
    "plt.plot(x_proj_logit_1[n_samples_class:], np.zeros(n_samples_class), 'o')\n",
    "\n",
    "\n",
    "plt.subplot(223)\n",
    "\n",
    "plt.title(\"PC PPCA projection opt ADAM\")\n",
    "\n",
    "f_logit_2, bias_logit_2, cov_noise_logit_2, w_logit_2 = decode_parameters(params_opt_adam_logit, x_dim, latent_dim, opt)\n",
    "x_proj_logit_2 = transform(f_logit_2, bias_logit_2, cov_noise_logit_2, x)\n",
    "plt.plot(x_proj_logit_2[:n_samples_class], np.ones(n_samples_class), 'x')\n",
    "plt.plot(x_proj_logit_2[n_samples_class:], np.zeros(n_samples_class), 'o')\n",
    "\n",
    "\n",
    "plt.subplot(224) \n",
    "plt.axis('equal')\n",
    "clf_pc_1 = LogisticRegression().fit(x_proj_logit_1, y)\n",
    "acc_scores_1 = clf_pc.score(x_proj_logit_1, y)\n",
    "clf_pc_2 = LogisticRegression().fit(x_proj_logit_2, y)\n",
    "acc_scores_2 = clf_pc.score(x_proj_logit_2, y)\n",
    "\n",
    "plt.title(\"train acc at lambda_e = {} is {} for fmin_l_bfgs_b, and {} for ADAM\".format(lambda_es[i], acc_scores[i], acc_scores_adam[i]))\n",
    "\n",
    "\n",
    "plt.plot(x[:n_samples_class,0], x[:n_samples_class,1], 'x')\n",
    "plt.plot(x[n_samples_class:,0], x[n_samples_class:,1], 'o')\n",
    "\n",
    "x_lim_1 = -5\n",
    "x_lim_2 = 7\n",
    "\n",
    "\n",
    "a =  np.array(range(x_lim_1, x_lim_2)) \n",
    "\n",
    "b_pc_fa_logit_1 = f_logit_1[1]/f_logit_1[0]*(a + bias_logit_1[0]) + bias_logit_1[1]\n",
    "b_pc_fa_logit_2 = f_logit_2[1]/f_logit_2[0]*(a + bias_logit_2[0]) + bias_logit_2[1]\n",
    "b_sklearn = f_sklearn[1]/f_sklearn[0]*(a + bias_sklearn [0]) + bias_sklearn [1]\n",
    "\n",
    "plt.plot(a, b_sklearn, label='sklearn pca')\n",
    "plt.plot(a, b_pc_fa_logit_1, label=\"fmin_l_bfgs_b\")\n",
    "plt.plot(a, b_pc_fa_logit_2, label=\"adam\")\n",
    "plt.ylim(x_lim_1,x_lim_2)\n",
    "\n",
    "plt.legend()\n",
    "plt.savefig(\"data_lambda_e_=_{}_logistic_pc_ppca_adam_vs_l_bfgs_b_vs_sklearn_pca.png\".format(lambda_es[i]))\n",
    "\n",
    "plt.show()\n"
   ]
  },
  {
   "cell_type": "code",
   "execution_count": null,
   "metadata": {},
   "outputs": [],
   "source": [
    "b_pc_fa_logit_1[(b_pc_fa_logit_1<np.max(x[:,1] and b_pc_fa_logit_1>np.min(x[:,1]))].shape"
   ]
  },
  {
   "cell_type": "code",
   "execution_count": null,
   "metadata": {},
   "outputs": [],
   "source": [
    "b_pc_fa_logit_1[b_pc_fa_logit_1[b_pc_fa_logit_1>np.min(x[:,1])]< np.max(x[:,1])] "
   ]
  },
  {
   "cell_type": "code",
   "execution_count": null,
   "metadata": {},
   "outputs": [],
   "source": []
  },
  {
   "cell_type": "code",
   "execution_count": null,
   "metadata": {},
   "outputs": [],
   "source": [
    "print ll_1\n",
    "print pl_1\n",
    "print ll_2\n",
    "\n",
    "print pl_2\n",
    "\n",
    "print \"Final parameters_logit 1\"\n",
    "print \"logit slope\\n\", f_logit_1[1]/f_logit_1[0]\n",
    "print \"F:\\n\", f_logit_1\n",
    "print \"bias for x:\\n\", bias_logit_1\n",
    "print \"var :\\n\",cov_noise_logit_1\n",
    "print \"bias for y:\\n\", w_logit_1[0]\n",
    "print \"logistic regression weights:\\n\", w_logit_1[1:]\n",
    "\n",
    "print \"Final parameters_logit 2\"\n",
    "print \"logit slope\\n\", f_logit_2[1]/f_logit_2[0]\n",
    "print \"F:\\n\", f_logit_2\n",
    "print \"bias for x:\\n\", bias_logit_2\n",
    "print \"cov_noise matrix:\\n\", cov_noise_logit_2\n",
    "print \"bias for y:\\n\", w_logit_2[0]\n",
    "print \"logistic regression weights:\\n\", w_logit_2[1:]"
   ]
  },
  {
   "cell_type": "code",
   "execution_count": null,
   "metadata": {},
   "outputs": [],
   "source": [
    "t = np.array([[ 1.        ], [-7.39114372]])"
   ]
  },
  {
   "cell_type": "code",
   "execution_count": null,
   "metadata": {},
   "outputs": [],
   "source": [
    "np.einsum(\"dl,ml->dm\",t,t)"
   ]
  },
  {
   "cell_type": "code",
   "execution_count": null,
   "metadata": {},
   "outputs": [],
   "source": [
    "np.einsum(\"dl,ml->dm\",f_logit_2,f_logit_2)"
   ]
  }
 ],
 "metadata": {
  "kernelspec": {
   "display_name": "Python 2",
   "language": "python",
   "name": "python2"
  },
  "language_info": {
   "codemirror_mode": {
    "name": "ipython",
    "version": 2
   },
   "file_extension": ".py",
   "mimetype": "text/x-python",
   "name": "python",
   "nbconvert_exporter": "python",
   "pygments_lexer": "ipython2",
   "version": "2.7.15"
  }
 },
 "nbformat": 4,
 "nbformat_minor": 2
}
