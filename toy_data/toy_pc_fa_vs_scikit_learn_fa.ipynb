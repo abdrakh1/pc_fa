{
 "cells": [
  {
   "cell_type": "code",
   "execution_count": 1,
   "metadata": {},
   "outputs": [],
   "source": [
    "import autograd.numpy as np\n",
    "from autograd import grad\n",
    "from autograd import elementwise_grad\n",
    "from scipy.optimize import fmin_l_bfgs_b\n",
    "import matplotlib.pyplot as plt\n",
    "from scipy.linalg import cho_factor, cho_solve, cholesky"
   ]
  },
  {
   "cell_type": "code",
   "execution_count": 2,
   "metadata": {},
   "outputs": [],
   "source": [
    "#build toy dataset\n",
    "def generate_samples(n_samples_class):\n",
    "    cov = np.array([[10, 2], [2, 1]])\n",
    "    mean1 = np.array([0, 0])\n",
    "    mean2 = np.array([0, 5])\n",
    "\n",
    "    total_n_samples = n_samples_class*2\n",
    "    x =  np.zeros((total_n_samples, 2))\n",
    "\n",
    "    x[:n_samples_class, 0], x[:n_samples_class, 1] = np.random.multivariate_normal(mean1, cov, n_samples_class).T\n",
    "    x[n_samples_class:, 0], x[n_samples_class:, 1]  = np.random.multivariate_normal(mean2, cov, n_samples_class).T\n",
    "\n",
    "    labels = np.zeros(total_n_samples)\n",
    "    labels[n_samples_class:] = 1\n",
    "    return x, labels"
   ]
  },
  {
   "cell_type": "code",
   "execution_count": 3,
   "metadata": {},
   "outputs": [
    {
     "data": {
      "image/png": "[encoded data removed]",
      "text/plain": [
       "<Figure size 432x288 with 1 Axes>"
      ]
     },
     "metadata": {},
     "output_type": "display_data"
    }
   ],
   "source": [
    "n_samples_class = 200\n",
    "x, y  =  generate_samples(n_samples_class)\n",
    "plt.plot(x[:n_samples_class,0], x[:n_samples_class,1], 'x')\n",
    "plt.plot(x[n_samples_class:,0], x[n_samples_class:,1], 'o')\n",
    "#plt.savefig(\"data_2d.png\")\n",
    "plt.show()"
   ]
  },
  {
   "cell_type": "code",
   "execution_count": 4,
   "metadata": {
    "scrolled": true
   },
   "outputs": [
    {
     "data": {
      "image/png": "[encoded data removed]",
      "text/plain": [
       "<Figure size 432x288 with 1 Axes>"
      ]
     },
     "metadata": {},
     "output_type": "display_data"
    }
   ],
   "source": [
    "from sklearn.decomposition import FactorAnalysis\n",
    "transformer = FactorAnalysis(n_components=1, random_state=0)\n",
    "x_proj_fa_python = transformer.fit_transform(x)\n",
    "plt.plot(x_proj_fa_python[:n_samples_class,0], np.ones(n_samples_class), 'x')\n",
    "plt.plot(x_proj_fa_python[n_samples_class:,0], np.zeros(n_samples_class), 'o')\n",
    "#plt.savefig('data_proj_fa_python')\n",
    "plt.show()"
   ]
  },
  {
   "cell_type": "code",
   "execution_count": 5,
   "metadata": {},
   "outputs": [
    {
     "data": {
      "text/plain": [
       "[-2658.4024828358392,\n",
       " -1995.1416360877474,\n",
       " -1984.942872780438,\n",
       " -1984.9042987588507,\n",
       " -1984.9042058360094]"
      ]
     },
     "execution_count": 5,
     "metadata": {},
     "output_type": "execute_result"
    }
   ],
   "source": [
    "transformer.loglike_"
   ]
  },
  {
   "cell_type": "code",
   "execution_count": 9,
   "metadata": {},
   "outputs": [
    {
     "name": "stdout",
     "output_type": "stream",
     "text": [
      "-1984.904205836429\n"
     ]
    }
   ],
   "source": [
    "def compute_ll(f, bias, cov_noise, x):\n",
    "    N = x.shape[0]\n",
    "    D = x.shape[1]\n",
    "    f =  f.reshape(D, 1)\n",
    "    cov_x = np.einsum(\"dl,ml->dm\",f,f) + cov_noise\n",
    "    sign, log_det_cov_x = np.linalg.slogdet(cov_x)\n",
    "    temp1 = np.linalg.solve(cov_x, (x - bias).T)\n",
    "    ll = N*D*np.log(2*np.pi)/2\n",
    "\n",
    "    ll += log_det_cov_x*N/2\n",
    "    \n",
    "    ll += np.sum(np.einsum(\"nd,dn->n\", x - bias, temp1))/2\n",
    "    \n",
    "    return -ll\n",
    "\n",
    "print compute_ll(transformer.components_.T, np.mean(x, axis = 0), np.diag(transformer.noise_variance_), x)\n"
   ]
  },
  {
   "cell_type": "code",
   "execution_count": 26,
   "metadata": {},
   "outputs": [],
   "source": [
    "def objective_ll_var(var, f, bias, x):\n",
    "    N = x.shape[0]\n",
    "    D = x.shape[1]\n",
    "    cov_noise = np.diag(np.log(np.exp(var)+1))\n",
    "    \n",
    "    cov_x = np.einsum(\"dl,ml->dm\",f,f) + cov_noise\n",
    "    sign, log_det_cov_x = np.linalg.slogdet(cov_x)\n",
    "    \n",
    "    temp1 = np.linalg.solve(cov_x, (x - bias).T)\n",
    "    unnorm_log_pdf_x = np.einsum(\"nd,dn->n\", x - bias, temp1)\n",
    "\n",
    "    ll = N*D*np.log(2*np.pi)/2 + log_det_cov_x*N/2 + np.sum(unnorm_log_pdf_x)/2\n",
    "    return ll \n",
    "\n",
    "def objective_ll_f(f, var, bias, x):\n",
    "    N = x.shape[0]\n",
    "    D = x.shape[1]\n",
    "    f =  f.reshape(D, 1)\n",
    "    cov_noise = np.diag(var)\n",
    "    \n",
    "    cov_x = np.einsum(\"dl,ml->dm\",f,f) + cov_noise\n",
    "    sign, log_det_cov_x = np.linalg.slogdet(cov_x)\n",
    "    \n",
    "    temp1 = np.linalg.solve(cov_x, (x - bias).T)\n",
    "    unnorm_log_pdf_x = np.einsum(\"nd,dn->n\", x - bias, temp1)\n",
    "\n",
    "    ll = N*D*np.log(2*np.pi)/2 + log_det_cov_x*N/2 + np.sum(unnorm_log_pdf_x)/2\n",
    "    \n",
    "    return ll \n",
    "\n",
    "def objective_ll_all(params, x, y):\n",
    "    N = x.shape[0]\n",
    "    D = x.shape[1]\n",
    "    f, bias, cov_noise, w = decode_parameters(params, D, latent_dim)\n",
    "        \n",
    "    cov_x = np.einsum(\"dl,ml->dm\",f,f) + cov_noise\n",
    "    sign, log_det_cov_x = np.linalg.slogdet(cov_x)\n",
    "    \n",
    "    temp1 = np.linalg.solve(cov_x, (x - bias).T)\n",
    "    unnorm_log_pdf_x = np.einsum(\"nd,dn->n\", x - bias, temp1)\n",
    "\n",
    "    ll = N*D*np.log(2*np.pi)/2 + log_det_cov_x*N/2 + np.sum(unnorm_log_pdf_x)/2\n",
    "    \n",
    "    return ll \n",
    "\n",
    "def decode_parameters(params, D, latent_dim):\n",
    "    size_f = D*latent_dim\n",
    "    f =  params[:size_f]\n",
    "    f =  f.reshape(D, latent_dim)\n",
    "    bias = params[size_f:size_f+D]\n",
    "    var = params[size_f+D:size_f+D*2]\n",
    "    cov_noise= np.diag(np.log(1+np.exp(var)))\n",
    "    w = params[size_f+D*2:]\n",
    "    \n",
    "    return f, bias, cov_noise, w\n",
    "\n",
    "def transform(f, bias, cov_noise, x):\n",
    "    f =  f.reshape(x.shape[1], 1)\n",
    "    cov_x = np.einsum(\"dl,ml->dm\",f,f) + cov_noise\n",
    "    temp = np.linalg.solve(cov_x, (x - bias).T)\n",
    "    mean_z = np.einsum(\"dl,dn->nl\", f, temp)\n",
    "    \n",
    "    return mean_z"
   ]
  },
  {
   "cell_type": "code",
   "execution_count": 43,
   "metadata": {},
   "outputs": [
    {
     "name": "stdout",
     "output_type": "stream",
     "text": [
      "-2395.270307662776\n",
      "-2215.170312850825\n",
      "-2099.6057016316827\n",
      "-2041.1108262311598\n",
      "-2009.170582579709\n",
      "-1993.7203512975482\n",
      "-1987.2898650507918\n",
      "-1985.3115213954934\n",
      "-1984.9470943776\n",
      "-1984.9108649456111\n",
      "-1984.9049490323048\n",
      "-1984.9042071934073\n",
      "-1984.9042056320734\n",
      "F from scikit-learn: [[-2.80156476]\n",
      " [-0.77557532]]\n",
      "mean:  [0.10607839 2.54109625]\n",
      "cov_noise matrix optimized: \n",
      "[[2.25584511 0.        ]\n",
      " [0.         6.79523854]]\n",
      "cov_noise matrix from scikit learn: \n",
      "[[2.2557449  0.        ]\n",
      " [0.         6.79487449]]\n",
      "{'warnflag': 0, 'task': 'CONVERGENCE: REL_REDUCTION_OF_F_<=_FACTR*EPSMCH', 'grad': array([0.00017097, 0.00019416]), 'nit': 13, 'funcalls': 14}\n"
     ]
    }
   ],
   "source": [
    "f = transformer.components_.T\n",
    "bias = np.mean(x, axis = 0)\n",
    "var = np.random.rand(2)\n",
    "\n",
    "def pcallback_var(var):\n",
    "    cov_noise= np.diag(np.log(np.exp(var)+1))\n",
    "    print compute_ll(f, bias, cov_noise, x)\n",
    "    \n",
    "grad_objective_ll_var = grad(objective_ll_var, argnum = 0)\n",
    "var_optimized_ll, obj_value_ll_var, dict = fmin_l_bfgs_b(objective_ll_var, x0 = var, fprime = grad_objective_ll_var, args = (f, bias, x), callback = pcallback_var, pgtol = 1e-5)\n",
    "cov_noise_optimized = np.diag(np.log(np.exp(var_optimized_ll)+1))\n",
    "\n",
    "print \"F from scikit-learn:\", f\n",
    "print \"mean: \", bias\n",
    "print \"cov_noise matrix optimized: \\n\", cov_noise_optimized\n",
    "print \"cov_noise matrix from scikit learn: \\n\", np.diag(transformer.noise_variance_)\n",
    "print dict"
   ]
  },
  {
   "cell_type": "code",
   "execution_count": 51,
   "metadata": {},
   "outputs": [
    {
     "name": "stdout",
     "output_type": "stream",
     "text": [
      "-2312.752216953533\n",
      "-2092.971971029976\n",
      "-1993.5978992473795\n",
      "-1985.0675124026454\n",
      "-1984.9437706102476\n",
      "-1984.906718844796\n",
      "-1984.9042060992501\n",
      "-1984.9042058365187\n",
      "F:\n",
      "[[2.80156636]\n",
      " [0.77557627]]\n",
      "F from scikit-learn:\n",
      "[[-2.80156476]\n",
      " [-0.77557532]]\n",
      "mean:  [0.10607839 2.54109625]\n",
      "cov_noise matrix from scikit learn: \n",
      "[[2.2557449  0.        ]\n",
      " [0.         6.79487449]]\n",
      "{'warnflag': 0, 'task': 'CONVERGENCE: REL_REDUCTION_OF_F_<=_FACTR*EPSMCH', 'grad': array([9.36070079e-05, 3.18691993e-05]), 'nit': 8, 'funcalls': 13}\n"
     ]
    }
   ],
   "source": [
    "f = np.random.rand(2)\n",
    "bias = np.mean(x, axis = 0)\n",
    "var = transformer.noise_variance_\n",
    "\n",
    "def pcallback_f(f):\n",
    "    cov_noise = np.diag(var)\n",
    "    print compute_ll(f, bias, cov_noise, x)\n",
    "    \n",
    "grad_objective_ll_f = grad(objective_ll_f, argnum = 0)\n",
    "f_optimized_ll, obj_value_ll_var, dict = fmin_l_bfgs_b(objective_ll_f, x0 = var, fprime = grad_objective_ll_f, args = (var, bias, x), callback = pcallback_f, pgtol = 1e-5)\n",
    "f_optimized_ll =  f_optimized_ll.reshape(2, 1)\n",
    "\n",
    "print \"F:\\n\", f_optimized_ll\n",
    "print \"F from scikit-learn:\\n\", transformer.components_.T\n",
    "print \"mean: \", bias\n",
    "print \"cov_noise matrix from scikit learn: \\n\", np.diag(transformer.noise_variance_)\n",
    "print dict"
   ]
  },
  {
   "cell_type": "code",
   "execution_count": 45,
   "metadata": {},
   "outputs": [
    {
     "name": "stdout",
     "output_type": "stream",
     "text": [
      "[[10.10451     2.17282449]\n",
      " [ 2.17282449  7.39639157]]\n",
      "[[10.10451898  2.17282839]\n",
      " [ 2.17282839  7.39639304]]\n"
     ]
    }
   ],
   "source": [
    "print (np.einsum(\"dl,ml->dm\",transformer.components_.T,transformer.components_.T) + np.diag(transformer.noise_variance_))\n",
    "print (np.einsum(\"dl,ml->dm\",f_optimized_ll,f_optimized_ll) + np.diag(transformer.noise_variance_))\n"
   ]
  },
  {
   "cell_type": "code",
   "execution_count": null,
   "metadata": {},
   "outputs": [],
   "source": []
  }
 ],
 "metadata": {
  "kernelspec": {
   "display_name": "Python 2",
   "language": "python",
   "name": "python2"
  },
  "language_info": {
   "codemirror_mode": {
    "name": "ipython",
    "version": 2
   },
   "file_extension": ".py",
   "mimetype": "text/x-python",
   "name": "python",
   "nbconvert_exporter": "python",
   "pygments_lexer": "ipython2",
   "version": "2.7.15"
  }
 },
 "nbformat": 4,
 "nbformat_minor": 2
}
