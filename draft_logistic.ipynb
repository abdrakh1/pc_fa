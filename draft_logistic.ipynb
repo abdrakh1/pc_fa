{
 "cells": [
  {
   "cell_type": "code",
   "execution_count": null,
   "metadata": {},
   "outputs": [],
   "source": [
    "import autograd.numpy as np\n",
    "from autograd import grad\n",
    "from autograd import elementwise_grad\n",
    "from scipy.optimize import fmin_l_bfgs_b\n",
    "import matplotlib.pyplot as plt\n",
    "from scipy.linalg import cho_factor, cho_solve, cholesky\n",
    "import math"
   ]
  },
  {
   "cell_type": "code",
   "execution_count": null,
   "metadata": {},
   "outputs": [],
   "source": [
    "#build toy dataset\n",
    "def generate_samples(n_samples_class):\n",
    "    cov = np.array([[10, 2], [2, 1]])\n",
    "    mean1 = np.array([0, 0])\n",
    "    mean2 = np.array([0, 5])\n",
    "\n",
    "    total_n_samples = n_samples_class*2\n",
    "    x =  np.zeros((total_n_samples, 2))\n",
    "\n",
    "    x[:n_samples_class, 0], x[:n_samples_class, 1] = np.random.multivariate_normal(mean1, cov, n_samples_class).T\n",
    "    x[n_samples_class:, 0], x[n_samples_class:, 1]  = np.random.multivariate_normal(mean2, cov, n_samples_class).T\n",
    "\n",
    "    labels = np.zeros(total_n_samples)\n",
    "    labels[n_samples_class:] = 1\n",
    "    return x, labels\n",
    "\n"
   ]
  },
  {
   "cell_type": "code",
   "execution_count": 8,
   "metadata": {},
   "outputs": [
    {
     "data": {
      "image/png": "[encoded data removed]",
      "text/plain": [
       "<Figure size 432x288 with 1 Axes>"
      ]
     },
     "metadata": {},
     "output_type": "display_data"
    }
   ],
   "source": [
    "n_samples_class = 60\n",
    "x, y  =  generate_samples(n_samples_class)\n",
    "plt.plot(x[:n_samples_class,0], x[:n_samples_class,1], 'x')\n",
    "plt.plot(x[n_samples_class:,0], x[n_samples_class:,1], 'o')\n",
    "\n",
    "plt.savefig(\"data_2d.png\")\n",
    "plt.show()"
   ]
  },
  {
   "cell_type": "code",
   "execution_count": 9,
   "metadata": {
    "scrolled": true
   },
   "outputs": [
    {
     "data": {
      "image/png": "[encoded data removed]",
      "text/plain": [
       "<Figure size 432x288 with 1 Axes>"
      ]
     },
     "metadata": {},
     "output_type": "display_data"
    }
   ],
   "source": [
    "from sklearn.decomposition import FactorAnalysis\n",
    "transformer = FactorAnalysis(n_components=1, random_state=0)\n",
    "x_proj_fa_python = transformer.fit_transform(x)\n",
    "f_fa_python = transformer.components_\n",
    "\n",
    "plt.plot(x_proj_fa_python[:n_samples_class,0], np.ones(n_samples_class), 'x')\n",
    "plt.plot(x_proj_fa_python[n_samples_class:,0], np.zeros(n_samples_class), 'o')\n",
    "\n",
    "plt.savefig('data_proj_fa_python')\n",
    "plt.show()"
   ]
  },
  {
   "cell_type": "code",
   "execution_count": 95,
   "metadata": {},
   "outputs": [
    {
     "name": "stdout",
     "output_type": "stream",
     "text": [
      "\n"
     ]
    }
   ],
   "source": [
    "def sigmoid(x):\n",
    "  return 1 / (1 + np.exp(-x))\n",
    "\n",
    "def objective_logit (params, x, y, latent_dim, lambda_e): #check the order of arguments!\n",
    "    sigma = 1 # variance for the noise in y\n",
    "    N = x.shape[0]\n",
    "    x_dim = x.shape[1]\n",
    "    f, mean, cov, w = decode_parameters(params, x_dim, latent_dim)\n",
    "        \n",
    "    var_x = np.einsum(\"dl,ml->dm\",f,f) + cov\n",
    "    sign, log_det_var_x = np.linalg.slogdet(var_x)\n",
    "    \n",
    "    temp1 = np.linalg.solve(var_x, (x - mean).T)\n",
    "    unnorm_log_pdf_x = np.einsum(\"nd,dn->n\", x - mean, temp1)\n",
    "    mean_z = np.einsum(\"dl,dn->nl\", f, temp1)\n",
    "    temp2 = np.einsum(\"l,nl->n\", w, mean_z)\n",
    "    log_bern_pdf_y = np.log(sigmoid(np.multiply((2*y-1),temp2)))\n",
    "    log_prior = 0 \n",
    "    l = log_det_var_x*0.5*N + np.sum(unnorm_log_pdf_x)*0.5 - lambda_e*np.sum(log_bern_pdf_y) - log_prior\n",
    "    return l \n",
    "\n",
    "def objective_norm (params, x, y, latent_dim, lambda_e): #check the order of arguments!\n",
    "    sigma = 1 # variance for the noise in y\n",
    "    N = x.shape[0]\n",
    "    x_dim = x.shape[1]\n",
    "    f, mean, cov, w = decode_parameters(params, x_dim, latent_dim)\n",
    "        \n",
    "    var_x = np.einsum(\"dl,ml->dm\",f,f) + cov\n",
    "    temp1 = np.einsum(\"dl,dm->lm\", f, np.linalg.solve(var_x,f)) #in fact m=l <- latent dimension \n",
    "    var_z = np.identity(latent_dim) - temp1\n",
    "    var_y = np.dot(w,np.dot(var_z,w)) + sigma**2\n",
    "    sign, log_det_var_x = np.linalg.slogdet(var_x)\n",
    "    a = log_det_var_x + lambda_e*np.log(var_y)\n",
    "    \n",
    "    temp2 = np.linalg.solve(var_x, (x - mean).T)\n",
    "    unnorm_log_pdf_x = np.einsum(\"nd,dn->n\", x - mean, temp2)\n",
    "    mean_z = np.einsum(\"dl,dn->nl\", f, temp2)\n",
    "    mean_y = np.einsum(\"l,nl->n\", w, mean_z)\n",
    "    unnorm_log_pdf_y = (y - mean_y)**2/var_y\n",
    "    b = np.sum(unnorm_log_pdf_x) + lambda_e*np.sum(unnorm_log_pdf_y)\n",
    "    \n",
    "    log_prior = 0 #marginals of  f,mean,cov and m for regularization use gaussian priors later\n",
    "    l = a*N*0.5 + b*0.5 - log_prior\n",
    "    return l\n",
    "def decode_parameters(params, x_dim, latent_dim):\n",
    "    size_f = x_dim*latent_dim\n",
    "    f =  params[:size_f]\n",
    "    f =  f.reshape(x_dim, latent_dim)\n",
    "    mean = params[size_f:size_f+x_dim]\n",
    "    diag = params[size_f+x_dim:size_f+x_dim*2]\n",
    "    cov = np.diag(np.log(1+np.exp(diag)))\n",
    "    w = params[size_f+x_dim*2:]\n",
    "    return f,mean,cov,w"
   ]
  },
  {
   "cell_type": "code",
   "execution_count": 163,
   "metadata": {},
   "outputs": [
    {
     "name": "stdout",
     "output_type": "stream",
     "text": [
      "Initial parameters\n",
      "F: [[0.66826656]\n",
      " [0.84570417]]\n",
      "slope [1.26551921]\n",
      "mean:  [0.17595636 0.80026161]\n",
      "cov matrix:  [[0.87666421 0.        ]\n",
      " [0.         1.23033911]]\n",
      "regression weights:  [0.43449682]\n",
      "initial obj value logit 7475.05745284799\n",
      "initial obj value norm 3904.0556271632204\n"
     ]
    }
   ],
   "source": [
    "latent_dim = 1 #suppose z is scalar\n",
    "x_dim = 2      \n",
    "params_size = x_dim*latent_dim + x_dim + x_dim + latent_dim \n",
    "\n",
    "params = np.random.rand(params_size)\n",
    "\n",
    "f, mean, cov, w =  decode_parameters(params, x_dim, latent_dim)\n",
    "print \"Initial parameters\"\n",
    "print \"F:\", f\n",
    "print \"slope\", f[1]/f[0]\n",
    "print \"mean: \", mean\n",
    "print \"cov matrix: \", cov\n",
    "print \"regression weights: \",w\n",
    "print \"initial obj value logit\", objective_logit(params, x, y, latent_dim, 100)\n",
    "print \"initial obj value norm\", objective_gaussian(params, x, y, latent_dim, 100)\n"
   ]
  },
  {
   "cell_type": "code",
   "execution_count": 166,
   "metadata": {},
   "outputs": [
    {
     "name": "stdout",
     "output_type": "stream",
     "text": [
      "Final parameters_logit\n",
      "logit slope [3.06540756]\n",
      "F: [[0.86316235]\n",
      " [2.64594439]]\n",
      "mean:  [-0.49562369  2.44566773]\n",
      "cov matrix:  [[8.19874798 0.        ]\n",
      " [0.         0.        ]]\n",
      "regression weights:  [194.73091287]\n",
      "final objective value: 363.0005596729934\n",
      "Final parameters_norm\n",
      "F: [[0.88389545]\n",
      " [2.70902068]]\n",
      "mean:  [-0.68477004  1.86529734]\n",
      "cov matrix:  [[8.20034259e+00 0.00000000e+00]\n",
      " [0.00000000e+00 1.49982091e-06]]\n",
      "regression weights:  [0.56560351]\n",
      "final objective value: 376.6209909492478\n"
     ]
    }
   ],
   "source": [
    "#run minimizer use ADAM instead?\n",
    "def pcallback(x):\n",
    "    f, mean, cov, w = decode_parameters(x, 2, 1)\n",
    "    print f\n",
    "    print cov\n",
    "    print np.einsum(\"dl,ml->dm\",f,f)\n",
    "    \n",
    "lambda_e = 1\n",
    "\n",
    "grad_objective_logit = grad(objective_logit, argnum = 0)\n",
    "params_optimizied_norm, obj_value_logit, dict = fmin_l_bfgs_b(objective_logit, x0 = params, fprime = grad_objective_logit, args = (x,y,latent_dim,lambda_e))\n",
    "f_logit, mean_logit, cov_logit, w_logit = decode_parameters(params_optimizied_norm, x_dim, latent_dim)\n",
    "print \"Final parameters_logit\"\n",
    "print \"logit slope\", f_logit[1]/f_logit[0]\n",
    "print \"F:\", f_logit\n",
    "print \"mean: \", mean_logit\n",
    "print \"cov matrix: \", cov_logit\n",
    "print \"regression weights: \", w_logit\n",
    "print \"final objective value:\", obj_value_logit\n",
    "\n",
    "grad_objective_norm = grad(objective_norm, argnum = 0)\n",
    "params_optimizied_norm, obj_value_norm, dict = fmin_l_bfgs_b(objective_norm, x0 = params, fprime = grad_objective_norm, args = (x,y,latent_dim,lambda_e))\n",
    "f_norm, mean_norm, cov_norm, w_norm = decode_parameters(params_optimizied_norm, x_dim, latent_dim)\n",
    "print \"Final parameters_norm\"\n",
    "print \"F:\", f_norm\n",
    "print \"mean: \", mean_norm\n",
    "print \"cov matrix: \", cov_norm\n",
    "print \"regression weights: \", w_norm\n",
    "print \"final objective value:\", obj_value_norm\n",
    "\n"
   ]
  },
  {
   "cell_type": "code",
   "execution_count": 167,
   "metadata": {
    "scrolled": true
   },
   "outputs": [
    {
     "data": {
      "image/png": "[encoded data removed]",
      "text/plain": [
       "<Figure size 1080x360 with 3 Axes>"
      ]
     },
     "metadata": {},
     "output_type": "display_data"
    }
   ],
   "source": [
    "plt.figure(figsize=(15,5))\n",
    "\n",
    "plt.subplot(131) \n",
    "plt.suptitle(\"lambda_e = {}\".format(lambda_e))\n",
    "\n",
    "plt.title(\"Logistic projection\")\n",
    "x_proj_logit = np.dot(x - mean_logit, f_logit)\n",
    "plt.plot(x_proj_logit[:n_samples_class], np.ones(n_samples_class), 'x')\n",
    "plt.plot(x_proj_logit[n_samples_class:], np.zeros(n_samples_class), 'o')\n",
    "\n",
    "plt.subplot(132) \n",
    "\n",
    "plt.title(\"Normal projection\")\n",
    "x_proj_norm = np.dot(x - mean_norm, f_norm)\n",
    "plt.plot(x_proj_norm[:n_samples_class], np.ones(n_samples_class), 'x')\n",
    "plt.plot(x_proj_norm[n_samples_class:], np.zeros(n_samples_class), 'o')\n",
    "\n",
    "\n",
    "plt.subplot(133) \n",
    "plt.plot(x[:n_samples_class,0], x[:n_samples_class,1], 'x')\n",
    "plt.plot(x[n_samples_class:,0], x[n_samples_class:,1], 'o')\n",
    "a = np.array(range(int(round(np.min(x[:,0]))), 1+int(round(np.max(x[:,0]))))) \n",
    "b_pc_fa_logit = f_logit[1]/f_logit[0]*a \n",
    "b_pc_fa_norm = f_norm[1]/f_norm[0]*a \n",
    "\n",
    "b_std_fa = f_fa_python[0][1]/f_fa_python[0][0]*a\n",
    "\n",
    "plt.plot(a, b_pc_fa_logit,  color =\"r\", label='logistic')\n",
    "plt.plot(a, b_pc_fa_norm,  color =\"b\", label='normal')\n",
    "plt.plot(a, b_std_fa, color =\"g\", label='fa scikit')\n",
    "plt.legend()\n",
    "\n",
    "plt.savefig(\"data_lambda_e={}_logistic_norm.png\".format(lambda_e))\n",
    "plt.show()"
   ]
  },
  {
   "cell_type": "code",
   "execution_count": null,
   "metadata": {},
   "outputs": [],
   "source": [
    "for i in range (0,10):\n",
    "    params = np.random.rand(params_size)\n",
    "    f, mean, cov, w =  decode_parameters(params, x_dim, latent_dim)\n",
    "  \n",
    "    lambda_e = 0\n",
    "    grad_objective = grad(objective, argnum = 0)\n",
    "    params_optimizied, obj_value, dict = fmin_l_bfgs_b(objective, x0 = params, fprime = grad_objective, args = (x,y,latent_dim,lambda_e))\n",
    "    f, mean, cov, w = decode_parameters(params_optimizied, x_dim, latent_dim)\n",
    "    print i\n",
    "    print \"Final F:\", f\n",
    "    print \"final objective value:\", obj_value\n",
    "    print \"Final mean: \", mean\n",
    "    print \"Final cov matrix: \", cov\n",
    "    plt.figure(figsize=(15,5))\n",
    "\n",
    "    plt.subplot(121) \n",
    "    plt.suptitle(\"lambda_e = {}\".format(lambda_e))\n",
    "\n",
    "    x_proj = np.dot(x - mean, f)\n",
    "    plt.plot(x_proj[:n_samples_class], np.ones(n_samples_class), 'x')\n",
    "    plt.plot(x_proj[n_samples_class:], np.zeros(n_samples_class), 'o')\n",
    "\n",
    "    plt.subplot(122) \n",
    "    plt.plot(x[:n_samples_class,0], x[:n_samples_class,1], 'x')\n",
    "    plt.plot(x[n_samples_class:,0], x[n_samples_class:,1], 'o')\n",
    "    a = np.array(range(int(round(np.min(x[:,0]))), 1+int(round(np.max(x[:,0]))))) \n",
    "    b_pc_fa = f[1]/f[0]*a \n",
    "    b_std_fa = f_fa_python[0][1]/f_fa_python[0][0]*a\n",
    "    plt.plot(a, b_pc_fa,  color =\"r\")\n",
    "    plt.plot(a, b_std_fa, color =\"g\")\n",
    "    plt.savefig(\"data_lambda_e=0, #{}.png\".format(i))\n"
   ]
  },
  {
   "cell_type": "code",
   "execution_count": null,
   "metadata": {},
   "outputs": [],
   "source": [
    "a = np.array([1,2,3])\n",
    "b = np.array([3,4,5])\n",
    "np.multiply(a,b)"
   ]
  },
  {
   "cell_type": "code",
   "execution_count": null,
   "metadata": {},
   "outputs": [],
   "source": []
  }
 ],
 "metadata": {
  "kernelspec": {
   "display_name": "Python 2",
   "language": "python",
   "name": "python2"
  },
  "language_info": {
   "codemirror_mode": {
    "name": "ipython",
    "version": 2
   },
   "file_extension": ".py",
   "mimetype": "text/x-python",
   "name": "python",
   "nbconvert_exporter": "python",
   "pygments_lexer": "ipython2",
   "version": "2.7.15"
  }
 },
 "nbformat": 4,
 "nbformat_minor": 2
}
